{
 "cells": [
  {
   "cell_type": "markdown",
   "metadata": {},
   "source": [
    "# Section 3: predicting the ground state energy of molecules\n",
    "\n",
    "In chapter 1 we learned that Tensorflow does all its computations in its graph, that you first have to define. In chapter 2 we made or first neural network, and made a very simple classifier for the iris dataset. \n",
    "\n",
    "This chapter we are going to make our neural network more interesting. We are going to [predict the ground state energies of molecules](https://www.kaggle.com/haimfeld87/prediction-of-ground-state-energies-of-molecules). \n",
    "\n",
    "http://web.stanford.edu/class/cs20si/lectures/notes_09.pdf"
   ]
  },
  {
   "cell_type": "markdown",
   "metadata": {},
   "source": [
    "## Video 1: downloading the data, visualising it \n",
    "Welcome to section 3 of our course. In this section we are going to predict the [ground state energies of molecules](https://www.kaggle.com/haimfeld87/prediction-of-ground-state-energies-of-molecules). \n",
    "\n",
    "In a [blogpost and paper the author explains what kind of data we are working with](https://burakhimmetoglu.com/machine-learning-meets-quantum-mechanics/). An interesting quote is: \n",
    "> This peculiar nonlinear dependence is impossible to model with simple linear models, thus learning algorithms such as neural networks and boosted regression trees are a perfect match for such a task.\n",
    "\n",
    "Below we will start visualising our data, and you will see that it's difficult for yourself to intuitively predict what the ground energy state of the molecules will be. This makes this dataset a great challenge for us. \n",
    "![Vis ground energy state](http://www.pinchofintelligence.com/wp-content/uploads/2017/08/ground-energies.png)\n",
    "\n",
    "\n",
    "\n",
    "I imagine that the author is also quite happy with us, as he states:\n",
    "> I am looking for Kagglers to find the best model and reduce mean squared error as much as possible!\n",
    "\n",
    "Looks like we now know the function we have to minimise. \n",
    "\n",
    "\n"
   ]
  },
  {
   "cell_type": "markdown",
   "metadata": {},
   "source": [
    "## Downloading and loading data\n",
    "The data is here: https://www.kaggle.com/burakhmmtgl/energy-molecule\n",
    "Download it, unzip it, and place it in the datasets folder...\n",
    "\n",
    "Image called downloaddata1.png here...\n",
    "\n",
    "To load the data I'm going to use a [package called Pandas](http://pandas.pydata.org/). This package is great for reading datasets, and getting an initial understanding of what you are working with. Although we are not doing to discuss all features Pandas has, I just want you to use it one time, and know that it's out there. Pandas is already installed in the Docker image I provided, so let's dive right in: "
   ]
  },
  {
   "cell_type": "code",
   "execution_count": 1,
   "metadata": {
    "collapsed": true
   },
   "outputs": [],
   "source": [
    "import pandas as pd\n",
    "df = pd.read_csv('datasets/energy-molecule/roboBohr.csv')"
   ]
  },
  {
   "cell_type": "code",
   "execution_count": 2,
   "metadata": {},
   "outputs": [
    {
     "name": "stdout",
     "output_type": "stream",
     "text": [
      "   Unnamed: 0          0          1          2          3          4  \\\n",
      "0           0  73.516695  17.817765  12.469551  12.458130  12.454607   \n",
      "1           1  73.516695  20.649126  18.527789  17.891535  17.887995   \n",
      "2           2  73.516695  17.830377  12.512263  12.404775  12.394493   \n",
      "3           3  73.516695  17.875810  17.871259  17.862402  17.850920   \n",
      "4           4  73.516695  17.883818  17.868256  17.864221  17.818540   \n",
      "\n",
      "           5          6          7          8    ...      1267  1268  1269  \\\n",
      "0  12.447345  12.433065  12.426926  12.387474    ...       0.0   0.0   0.5   \n",
      "1  17.871731  17.852586  17.729842  15.864270    ...       0.0   0.0   0.0   \n",
      "2  12.391564  12.324461  12.238106  10.423249    ...       0.0   0.0   0.0   \n",
      "3  17.850440  12.558105  12.557645  12.517583    ...       0.0   0.0   0.0   \n",
      "4  12.508657  12.490519  12.450098  10.597068    ...       0.0   0.0   0.0   \n",
      "\n",
      "   1270  1271  1272  1273  1274  pubchem_id        Eat  \n",
      "0   0.0   0.0   0.0   0.0   0.0       25004 -19.013763  \n",
      "1   0.0   0.0   0.0   0.0   0.0       25005 -10.161019  \n",
      "2   0.0   0.0   0.0   0.0   0.0       25006  -9.376619  \n",
      "3   0.0   0.0   0.0   0.0   0.0       25009 -13.776438  \n",
      "4   0.0   0.0   0.0   0.0   0.0       25011  -8.537140  \n",
      "\n",
      "[5 rows x 1278 columns]\n"
     ]
    }
   ],
   "source": [
    "# print(df)\n",
    "print(df.head(5))\n"
   ]
  },
  {
   "cell_type": "markdown",
   "metadata": {},
   "source": [
    "What we are going to predict is the variable in the last axis, called Eat. To do this we are going to use all features, except for the ID, and the pubchem_id. Let's use pandas to remove these columns: "
   ]
  },
  {
   "cell_type": "code",
   "execution_count": 3,
   "metadata": {
    "collapsed": true
   },
   "outputs": [],
   "source": [
    "\n",
    "df = df.drop(['Unnamed: 0', 'pubchem_id'], axis = 1)\n"
   ]
  },
  {
   "cell_type": "markdown",
   "metadata": {},
   "source": [
    "Now we can also check if there is any missing data: \n",
    "\n"
   ]
  },
  {
   "cell_type": "code",
   "execution_count": 4,
   "metadata": {},
   "outputs": [
    {
     "data": {
      "text/plain": [
       "0"
      ]
     },
     "execution_count": 4,
     "metadata": {},
     "output_type": "execute_result"
    }
   ],
   "source": [
    "df.isnull().sum().sum()"
   ]
  },
  {
   "cell_type": "code",
   "execution_count": 5,
   "metadata": {
    "collapsed": true
   },
   "outputs": [],
   "source": [
    "X = df.drop(['Eat'], axis = 1)\n",
    "Y = df['Eat']"
   ]
  },
  {
   "cell_type": "markdown",
   "metadata": {},
   "source": [
    "It's always a good idea to visualise your data. One way to do this is building a scatter plot: \n"
   ]
  },
  {
   "cell_type": "code",
   "execution_count": 6,
   "metadata": {},
   "outputs": [
    {
     "data": {
      "image/png": "[encoded data removed]",
      "text/plain": [
       "<matplotlib.figure.Figure at 0x7fd9a46d8ba8>"
      ]
     },
     "metadata": {},
     "output_type": "display_data"
    },
    {
     "data": {
      "image/png": "[encoded data removed]",
      "text/plain": [
       "<matplotlib.figure.Figure at 0x7fd9983cac18>"
      ]
     },
     "metadata": {},
     "output_type": "display_data"
    },
    {
     "data": {
      "image/png": "[encoded data removed]",
      "text/plain": [
       "<matplotlib.figure.Figure at 0x7fd978891160>"
      ]
     },
     "metadata": {},
     "output_type": "display_data"
    }
   ],
   "source": [
    "%matplotlib inline\n",
    "import matplotlib.pyplot as plt\n",
    "for x in range(3):\n",
    "    \n",
    "    df.plot.scatter(x,x+1,c=-1, colormap=plt.get_cmap('CMRmap'))\n",
    "    plt.show()\n",
    "df.plot.scatter?"
   ]
  },
  {
   "cell_type": "markdown",
   "metadata": {},
   "source": [
    "### Splitting our data\n",
    "Like we learned in our previous chapter, it's a good idea to split our data. "
   ]
  },
  {
   "cell_type": "code",
   "execution_count": 7,
   "metadata": {},
   "outputs": [
    {
     "name": "stdout",
     "output_type": "stream",
     "text": [
      "16242\n",
      "12993\n",
      "3249\n"
     ]
    }
   ],
   "source": [
    "from sklearn.model_selection import train_test_split\n",
    "print(len(X))\n",
    "X_train, X_test, Y_train, Y_test = train_test_split(X, Y, test_size = 0.2, random_state = 1)\n",
    "print(len(X_train))\n",
    "print(len(X_test))\n",
    "\n",
    "datasetX = X_train.values\n",
    "datasetY = Y_train.values\n",
    "#print(datasetX.shape)\n",
    "#print(datasetY.shape)\n",
    "#print(datasetY)"
   ]
  },
  {
   "cell_type": "markdown",
   "metadata": {},
   "source": [
    "## Video 2: first approach - easy layer building"
   ]
  },
  {
   "cell_type": "markdown",
   "metadata": {},
   "source": [
    "Let's start with manually constructing our network again, just like we did in section 1. \n",
    "\n",
    "## Simplifying layer building\n",
    "In chapter 1 we made our network using the following code: \n",
    "\n"
   ]
  },
  {
   "cell_type": "code",
   "execution_count": 8,
   "metadata": {
    "collapsed": true
   },
   "outputs": [],
   "source": [
    "import tensorflow as tf\n",
    "\n",
    "n_input = 1275\n",
    "n_output = 1\n",
    "inputplaceholder = tf.placeholder(dtype=tf.float32, shape=[None, n_input], name=\"inputplaceholder\")\n",
    "\n",
    "## This code can be simplified:\n",
    "weights = tf.Variable(tf.random_normal([n_input, n_output]))\n",
    "biases = tf.Variable(tf.zeros([n_output]))\n",
    "layer_1 = tf.matmul(inputplaceholder, weights)\n",
    "layer_2 = tf.add(layer_1, biases)\n",
    "outputlayer = tf.nn.sigmoid(layer_2)\n",
    "\n",
    "## Which we can simplify to, but this still is 3 lines...: \n",
    "weights = tf.Variable(tf.random_normal([n_input, n_output]))\n",
    "biases = tf.Variable(tf.zeros([n_output]))\n",
    "outputlayer = tf.nn.sigmoid(tf.add(tf.matmul(inputplaceholder, weights), biases))\n"
   ]
  },
  {
   "cell_type": "markdown",
   "metadata": {},
   "source": [
    "Still, typing this out for a big neural network is a lot of work, and it's easy to make errors. This is why you can build functions that perform the same thing for you. \n",
    "\n",
    "You can also use the higher level functions already available in Tensorflow. You can make the same thing using: \n",
    "\n",
    "`tf.layers.dense(inputs=inputplaceholder, units=3, activation=tf.nn.sigmoid, name=\"single_layer_neural_network\") `\n",
    "\n",
    "Another option you might want to consider is the Keras python package. Keras is a high-level API definition for neural networks. It uses Tensorflow as backend to build its functions on. A neural network even more complex than in chapter two can be made like this: \n",
    "![keras logo](https://upload.wikimedia.org/wikipedia/commons/c/c9/Keras_Logo.jpg)\n",
    "![tensorflow logo](https://upload.wikimedia.org/wikipedia/commons/thumb/2/2d/Tensorflow_logo.svg/1000px-Tensorflow_logo.svg.png)"
   ]
  },
  {
   "cell_type": "code",
   "execution_count": 9,
   "metadata": {},
   "outputs": [
    {
     "name": "stderr",
     "output_type": "stream",
     "text": [
      "Using TensorFlow backend.\n"
     ]
    }
   ],
   "source": [
    "from keras.models import Sequential\n",
    "from keras.layers import Dense, Activation\n",
    "\n",
    "model = Sequential()\n",
    "model.add(Dense(units=3, input_dim=4))\n",
    "model.add(Activation('sigmoid'))\n",
    "model.compile(loss='categorical_crossentropy',optimizer='sgd',metrics=['accuracy'])\n"
   ]
  },
  {
   "cell_type": "markdown",
   "metadata": {},
   "source": [
    "### Why stick to Tensorflow\n",
    "It's very likely that for your specific application Keras is good enough (95% sure). However, Tensorflow as been adapting the Keras API specifications, and thus Tensorflow can do roughly the same as Keras. The reason to stick to Tensorflow is that it offers a LOT of extra functionality, which will come in handy for the \"strange\" applications you want to build. \n",
    "\n",
    "Let's create a simple single-layer neural network for our new dataset!"
   ]
  },
  {
   "cell_type": "code",
   "execution_count": 10,
   "metadata": {
    "collapsed": true
   },
   "outputs": [],
   "source": [
    "import tensorflow as tf\n",
    "import numpy as np"
   ]
  },
  {
   "cell_type": "code",
   "execution_count": 11,
   "metadata": {},
   "outputs": [
    {
     "name": "stdout",
     "output_type": "stream",
     "text": [
      "Tensor(\"first_dense_layer/Sigmoid:0\", shape=(?, 512), dtype=float32)\n",
      "Tensor(\"prediction_dense_layer/BiasAdd:0\", shape=(?, 1), dtype=float32)\n",
      "Tensor(\"mean_squared_error/value:0\", shape=(), dtype=float32)\n",
      "Optimizer: --------\n",
      "name: \"GradientDescent\"\n",
      "op: \"NoOp\"\n",
      "input: \"^GradientDescent/update_first_dense_layer/kernel/ApplyGradientDescent\"\n",
      "input: \"^GradientDescent/update_first_dense_layer/bias/ApplyGradientDescent\"\n",
      "input: \"^GradientDescent/update_prediction_dense_layer/kernel/ApplyGradientDescent\"\n",
      "input: \"^GradientDescent/update_prediction_dense_layer/bias/ApplyGradientDescent\"\n",
      "\n"
     ]
    }
   ],
   "source": [
    "LEARNING_RATE = 0.05\n",
    "tf.reset_default_graph()\n",
    "input_pl = tf.placeholder(dtype=tf.float32, shape=[None, 1275], name=\"inputplaceholder\")\n",
    "output_pl = tf.placeholder(dtype=tf.float32, shape=[None, 1], name=\"userdefinedoutput\")\n",
    "\n",
    "## Add layers\n",
    "dense = tf.layers.dense(inputs=input_pl,\n",
    "                       units=512,\n",
    "                       activation=tf.nn.sigmoid,\n",
    "                       name=\"first_dense_layer\")\n",
    "network_prediction = tf.layers.dense(inputs=dense, \n",
    "                                    units=1,\n",
    "                                    activation=None,\n",
    "                                    name=\"prediction_dense_layer\")\n",
    "\n",
    "\n",
    "print(dense)\n",
    "print(network_prediction)\n",
    "loss = tf.losses.mean_squared_error(output_pl,network_prediction)\n",
    "optimizer = tf.train.GradientDescentOptimizer(LEARNING_RATE).minimize(loss)\n",
    "\n",
    "print(loss)\n",
    "print(\"Optimizer: --------\")\n",
    "print(optimizer)\n"
   ]
  },
  {
   "cell_type": "code",
   "execution_count": 12,
   "metadata": {
    "collapsed": true
   },
   "outputs": [],
   "source": [
    "init = tf.global_variables_initializer() # https://www.tensorflow.org/api_docs/python/tf/global_variables_initializer\n",
    "sess = tf.Session() # https://www.tensorflow.org/api_docs/python/tf/Session\n",
    "sess.run(init)"
   ]
  },
  {
   "cell_type": "markdown",
   "metadata": {},
   "source": [
    "This gives us this network: \n",
    "![network](http://www.pinchofintelligence.com/wp-content/uploads/2017/09/two-layer-regression.png)"
   ]
  },
  {
   "cell_type": "code",
   "execution_count": 13,
   "metadata": {},
   "outputs": [
    {
     "name": "stdout",
     "output_type": "stream",
     "text": [
      "139.795\n",
      "34677.9\n",
      "8.75111e+06\n",
      "1.55705e+09\n",
      "2.38293e+11\n",
      "3.33949e+13\n",
      "4.64994e+15\n",
      "6.47457e+17\n",
      "7.40409e+19\n",
      "1.13846e+22\n",
      "1.75049e+24\n",
      "2.69155e+26\n",
      "3.54388e+28\n",
      "5.44908e+30\n",
      "8.37849e+32\n",
      "1.28828e+35\n",
      "inf\n",
      "inf\n",
      "inf\n",
      "inf\n",
      "nan\n",
      "nan\n",
      "nan\n",
      "nan\n",
      "nan\n",
      "nan\n",
      "nan\n",
      "nan\n",
      "nan\n",
      "nan\n",
      "nan\n",
      "nan\n",
      "nan\n",
      "nan\n",
      "nan\n",
      "nan\n",
      "nan\n",
      "nan\n",
      "nan\n",
      "nan\n",
      "nan\n",
      "nan\n",
      "nan\n",
      "nan\n",
      "nan\n",
      "nan\n",
      "nan\n",
      "nan\n",
      "nan\n",
      "nan\n",
      "nan\n",
      "nan\n",
      "nan\n",
      "nan\n",
      "nan\n",
      "nan\n",
      "nan\n",
      "nan\n",
      "nan\n",
      "nan\n",
      "nan\n",
      "nan\n",
      "nan\n",
      "nan\n",
      "nan\n",
      "nan\n",
      "nan\n",
      "nan\n",
      "nan\n",
      "nan\n",
      "nan\n",
      "nan\n",
      "nan\n",
      "nan\n",
      "nan\n",
      "nan\n",
      "nan\n",
      "nan\n",
      "nan\n",
      "nan\n",
      "nan\n",
      "nan\n",
      "nan\n",
      "nan\n",
      "nan\n",
      "nan\n",
      "nan\n",
      "nan\n",
      "nan\n",
      "nan\n",
      "nan\n",
      "nan\n",
      "nan\n",
      "nan\n",
      "nan\n",
      "nan\n",
      "nan\n",
      "nan\n",
      "nan\n",
      "nan\n"
     ]
    }
   ],
   "source": [
    "import random\n",
    "\n",
    "zipped = list(zip(datasetX, datasetY))\n",
    "\n",
    "BATCH_SIZE = 32\n",
    "for _ in range(100):\n",
    "    datax = list()\n",
    "    datay = list()\n",
    "    for _ in range(BATCH_SIZE):\n",
    "        samp = random.choice(zipped)\n",
    "        datax.append(samp[0])\n",
    "        datay.append([samp[1]])\n",
    "    \n",
    "    ## Run the training\n",
    "    _, l = sess.run([optimizer, loss], \n",
    "                   feed_dict={input_pl: datax,\n",
    "                             output_pl: datay})\n",
    "    print(l)"
   ]
  },
  {
   "cell_type": "markdown",
   "metadata": {},
   "source": [
    "### Adjusting the learning rate\n",
    "As you can see above our loss becomes HIGHER instead of lower. About once a week I see somebody on Stackoverflow ask why this is happening, and why their network is giving nan as output. The answer is: they have to adjust their learning rate.\n",
    "\n",
    "![LR](http://www.pinchofintelligence.com/wp-content/uploads/2017/09/Learning-rates.png)\n",
    "\n",
    "A nice analogy I like to use is one in which we are walking through misty mountains, and want to reach the deepest valley. Every 5 minutes we determine based on our small observation what path leads down, and continue that way. If we did this every second we could never leave small valleys. If we only did this every day we might walk right out of the valley again...\n",
    "\n",
    "Let's adjust our learning rate tenfold every time till our network is able to learn something. "
   ]
  },
  {
   "cell_type": "code",
   "execution_count": 14,
   "metadata": {
    "collapsed": true
   },
   "outputs": [],
   "source": [
    "LEARNING_RATE = 0.00005\n",
    "optimizer = tf.train.GradientDescentOptimizer(LEARNING_RATE).minimize(loss)\n",
    "\n",
    "init = tf.global_variables_initializer() # https://www.tensorflow.org/api_docs/python/tf/global_variables_initializer\n",
    "sess = tf.Session() # https://www.tensorflow.org/api_docs/python/tf/Session\n",
    "sess.run(init)"
   ]
  },
  {
   "cell_type": "code",
   "execution_count": 15,
   "metadata": {},
   "outputs": [
    {
     "name": "stdout",
     "output_type": "stream",
     "text": [
      "145.313\n",
      "127.515\n",
      "128.862\n",
      "113.509\n",
      "116.662\n",
      "82.2697\n",
      "94.6993\n",
      "83.7917\n",
      "81.5455\n",
      "68.8278\n",
      "60.3556\n",
      "48.7687\n",
      "56.1527\n",
      "51.3272\n",
      "39.1335\n",
      "46.279\n",
      "35.109\n",
      "41.8653\n",
      "35.3273\n",
      "35.3734\n",
      "40.2736\n",
      "22.0901\n",
      "32.7122\n",
      "28.5273\n",
      "34.3215\n",
      "19.3949\n",
      "20.1369\n",
      "15.2504\n",
      "18.0239\n",
      "24.1888\n",
      "19.7594\n",
      "21.2241\n",
      "21.6005\n",
      "31.6276\n",
      "15.7897\n",
      "15.3272\n",
      "16.833\n",
      "19.1479\n",
      "12.2878\n",
      "20.3819\n",
      "14.823\n",
      "15.7834\n",
      "25.8109\n",
      "11.6614\n",
      "15.1274\n",
      "17.4049\n",
      "11.3681\n",
      "12.0579\n",
      "11.9447\n",
      "11.245\n",
      "14.5038\n",
      "12.0949\n",
      "10.2701\n",
      "13.5143\n",
      "9.16859\n",
      "10.8982\n",
      "10.8105\n",
      "10.6901\n",
      "7.63371\n",
      "5.82672\n",
      "10.7101\n",
      "12.1236\n",
      "15.3615\n",
      "8.8865\n",
      "13.2406\n",
      "9.08335\n",
      "11.966\n",
      "14.183\n",
      "18.3076\n",
      "5.70327\n",
      "8.10391\n",
      "6.96889\n",
      "9.63313\n",
      "11.1029\n",
      "11.7924\n",
      "9.98865\n",
      "8.44\n",
      "13.1007\n",
      "7.13177\n",
      "11.938\n",
      "7.74801\n",
      "9.73943\n",
      "11.0476\n",
      "13.4252\n",
      "4.49264\n",
      "13.058\n",
      "11.9071\n",
      "4.92649\n",
      "9.84698\n",
      "11.0116\n",
      "8.86171\n",
      "11.5861\n",
      "11.9977\n",
      "10.9599\n",
      "10.3791\n",
      "13.6879\n",
      "10.7102\n",
      "6.77511\n",
      "12.7279\n",
      "6.58055\n",
      "12.6439\n",
      "11.9561\n",
      "11.415\n",
      "8.83358\n",
      "6.02709\n",
      "13.6243\n",
      "10.6466\n",
      "7.52108\n",
      "11.4385\n",
      "7.5442\n",
      "7.03815\n",
      "5.77369\n",
      "14.5529\n",
      "6.92694\n",
      "4.80331\n",
      "7.57723\n",
      "12.9736\n",
      "12.5891\n",
      "5.37695\n",
      "7.66584\n",
      "8.339\n",
      "6.97361\n",
      "4.10329\n",
      "4.05361\n",
      "6.47285\n",
      "12.6638\n",
      "8.64768\n",
      "6.30125\n",
      "7.79985\n",
      "7.20626\n",
      "6.63731\n",
      "7.12411\n",
      "6.13954\n",
      "9.9628\n",
      "8.1462\n",
      "6.97062\n",
      "11.1564\n",
      "6.6441\n",
      "7.16138\n",
      "9.86093\n",
      "7.63591\n",
      "10.8041\n",
      "5.09292\n",
      "6.41228\n",
      "6.76799\n",
      "6.14573\n",
      "7.40465\n",
      "6.85425\n",
      "5.0515\n",
      "5.66742\n",
      "7.05421\n",
      "3.4503\n",
      "9.70864\n",
      "10.2271\n",
      "5.17635\n",
      "9.03935\n",
      "5.25184\n",
      "4.02624\n",
      "4.56831\n",
      "8.84101\n",
      "11.0822\n",
      "4.71209\n",
      "7.20618\n",
      "4.02914\n",
      "7.00446\n",
      "6.71468\n",
      "3.65497\n",
      "9.80831\n",
      "9.38737\n",
      "5.99215\n",
      "7.77766\n",
      "4.74347\n",
      "7.62751\n",
      "10.3561\n",
      "4.09081\n",
      "10.4759\n",
      "5.57935\n",
      "3.82506\n",
      "6.85301\n",
      "7.27337\n",
      "3.49268\n",
      "7.51102\n",
      "4.70172\n",
      "8.76414\n",
      "4.16187\n",
      "5.41554\n",
      "6.11993\n",
      "6.63269\n",
      "9.51269\n",
      "4.23143\n",
      "5.07024\n",
      "5.46661\n",
      "5.87434\n",
      "7.48394\n",
      "6.5705\n",
      "6.39961\n",
      "5.73403\n",
      "3.18987\n",
      "4.28682\n",
      "5.7963\n",
      "8.01681\n",
      "5.18648\n",
      "5.32755\n",
      "6.21642\n",
      "4.3242\n",
      "4.67943\n",
      "10.0008\n",
      "9.35115\n",
      "6.09777\n",
      "6.22348\n",
      "7.11707\n",
      "6.52071\n",
      "5.40905\n",
      "6.55257\n",
      "5.21108\n",
      "5.48469\n",
      "9.91675\n",
      "5.77702\n",
      "2.69296\n",
      "7.10126\n",
      "6.23987\n",
      "7.80311\n",
      "4.39386\n",
      "6.67957\n",
      "5.14846\n",
      "4.96841\n",
      "3.55816\n",
      "4.91643\n",
      "10.6488\n",
      "2.74186\n",
      "4.55098\n",
      "3.95893\n",
      "5.90884\n",
      "2.69091\n",
      "2.69171\n",
      "8.06846\n",
      "5.8326\n",
      "6.75932\n",
      "3.83775\n",
      "2.76836\n",
      "4.51061\n",
      "4.8385\n",
      "6.10224\n",
      "2.80973\n",
      "6.35821\n",
      "4.80883\n",
      "3.34975\n",
      "3.74184\n",
      "7.70708\n",
      "8.31807\n",
      "6.24093\n",
      "4.69965\n",
      "6.02732\n",
      "2.91016\n",
      "3.75257\n",
      "10.0159\n",
      "4.94271\n",
      "6.97445\n",
      "5.33986\n",
      "5.70607\n",
      "4.39849\n",
      "4.97499\n",
      "3.92659\n",
      "4.30114\n",
      "5.51568\n",
      "8.15528\n",
      "6.17279\n",
      "2.04308\n",
      "3.93634\n",
      "3.74146\n",
      "3.84315\n",
      "4.31218\n",
      "3.65968\n",
      "4.5715\n",
      "5.06105\n",
      "4.68104\n",
      "3.11799\n",
      "5.38333\n",
      "4.49932\n",
      "4.11536\n",
      "3.90609\n",
      "3.87224\n",
      "5.23847\n",
      "3.70172\n",
      "4.62598\n",
      "3.33492\n",
      "5.40087\n",
      "3.88252\n",
      "4.73161\n",
      "4.47081\n",
      "5.43274\n",
      "6.89815\n",
      "3.00589\n",
      "2.94183\n",
      "4.8234\n",
      "2.75156\n",
      "4.02805\n",
      "5.49975\n",
      "3.75699\n",
      "2.14765\n",
      "3.16711\n",
      "5.77308\n",
      "2.85805\n",
      "5.97757\n",
      "4.00446\n",
      "5.28724\n",
      "8.88413\n",
      "5.32653\n",
      "3.92874\n",
      "3.64764\n",
      "1.9217\n",
      "3.70579\n",
      "4.65936\n",
      "3.22389\n",
      "5.48682\n",
      "3.90338\n",
      "3.99272\n",
      "4.89316\n",
      "5.53136\n",
      "2.54375\n",
      "3.80534\n",
      "4.0078\n",
      "4.50814\n",
      "3.31779\n",
      "9.89276\n",
      "5.06036\n",
      "6.46098\n",
      "9.60598\n",
      "9.67416\n",
      "5.92403\n",
      "4.26753\n",
      "5.47041\n",
      "2.52129\n",
      "5.04096\n",
      "2.82419\n",
      "6.66053\n",
      "4.48337\n",
      "7.99299\n",
      "2.97983\n",
      "3.83003\n",
      "3.15576\n",
      "3.66334\n",
      "5.79365\n",
      "2.82124\n",
      "4.23536\n",
      "6.3992\n",
      "4.08788\n",
      "3.85399\n",
      "4.32212\n",
      "2.73058\n",
      "2.69445\n",
      "4.94187\n",
      "2.79624\n",
      "4.08003\n",
      "1.54851\n",
      "3.46372\n",
      "3.09532\n",
      "3.2319\n",
      "2.53623\n",
      "3.86906\n",
      "1.93642\n",
      "5.68943\n",
      "3.82917\n",
      "4.41853\n",
      "4.69032\n",
      "1.20931\n",
      "2.59286\n",
      "6.08995\n",
      "3.45631\n",
      "3.33736\n",
      "2.06497\n",
      "3.46474\n",
      "3.82305\n",
      "4.17333\n",
      "3.30283\n",
      "2.04647\n",
      "3.92583\n",
      "2.77592\n",
      "2.33269\n",
      "4.66359\n",
      "2.79168\n",
      "7.18907\n",
      "3.9473\n",
      "3.50613\n",
      "3.99254\n",
      "3.65268\n",
      "4.29686\n",
      "3.82433\n",
      "2.03231\n",
      "3.19853\n",
      "4.38298\n",
      "2.41224\n",
      "5.27851\n",
      "2.60991\n",
      "2.90426\n",
      "2.29744\n",
      "2.0757\n",
      "1.90422\n",
      "3.54375\n",
      "5.00228\n",
      "3.40766\n",
      "2.52477\n",
      "2.7038\n",
      "1.2932\n",
      "4.88524\n",
      "3.43945\n",
      "6.53169\n",
      "2.51539\n",
      "2.83572\n",
      "4.05819\n",
      "2.62046\n",
      "3.70344\n",
      "3.10419\n",
      "3.00673\n",
      "2.65668\n",
      "3.19651\n",
      "5.2025\n",
      "3.95049\n",
      "5.78135\n",
      "3.6655\n",
      "2.42022\n",
      "2.54616\n",
      "4.5942\n",
      "3.28866\n",
      "4.59802\n",
      "5.50891\n",
      "3.90378\n",
      "4.36407\n",
      "4.06524\n",
      "3.40692\n",
      "4.71029\n",
      "4.86858\n",
      "3.1574\n",
      "3.07501\n",
      "2.20601\n",
      "3.35672\n",
      "5.05526\n",
      "5.54808\n",
      "4.05101\n",
      "3.66018\n",
      "3.56868\n",
      "4.67994\n",
      "3.46116\n",
      "1.34048\n",
      "3.27434\n",
      "4.23811\n",
      "5.17453\n",
      "4.94395\n",
      "6.8325\n",
      "3.34072\n",
      "2.69677\n",
      "2.05899\n",
      "3.08801\n",
      "4.06278\n",
      "7.55854\n",
      "6.69129\n",
      "2.33048\n",
      "3.1382\n",
      "3.96375\n",
      "2.3337\n",
      "2.99757\n",
      "2.83146\n",
      "4.38919\n",
      "3.19634\n",
      "2.10919\n",
      "1.75346\n",
      "4.04262\n",
      "4.68155\n",
      "3.06428\n",
      "2.92125\n",
      "3.32453\n",
      "3.69291\n",
      "3.34407\n",
      "4.77703\n",
      "4.02992\n",
      "2.625\n",
      "2.54597\n",
      "3.0125\n",
      "2.80678\n",
      "2.40954\n",
      "3.64317\n",
      "4.07487\n",
      "1.12418\n",
      "2.98142\n",
      "2.80465\n",
      "2.6804\n",
      "3.13493\n",
      "3.03456\n",
      "2.73507\n",
      "2.48419\n",
      "2.70796\n",
      "9.22183\n",
      "2.22638\n",
      "2.08843\n",
      "3.45978\n",
      "3.02387\n",
      "2.57079\n",
      "3.07119\n",
      "2.7198\n",
      "2.43903\n",
      "2.39641\n",
      "6.08315\n",
      "2.97141\n",
      "2.97589\n",
      "3.11574\n",
      "3.83873\n",
      "3.48632\n",
      "2.49571\n",
      "1.16986\n",
      "3.61604\n",
      "3.63489\n",
      "1.9083\n",
      "3.43891\n",
      "3.05603\n",
      "2.85062\n",
      "3.31198\n",
      "4.18563\n",
      "1.84963\n",
      "4.38127\n",
      "3.89132\n",
      "2.50448\n",
      "6.1075\n",
      "2.1223\n",
      "2.55503\n",
      "3.754\n",
      "2.1243\n",
      "2.11802\n",
      "4.75516\n",
      "2.44367\n",
      "3.42164\n",
      "2.46314\n",
      "3.58624\n",
      "3.47062\n",
      "2.43558\n",
      "1.65893\n",
      "2.91261\n",
      "4.95833\n",
      "3.47505\n",
      "3.16204\n",
      "2.19118\n",
      "1.38146\n",
      "1.70862\n",
      "5.18855\n",
      "2.31124\n",
      "2.35172\n",
      "3.85762\n",
      "1.60929\n",
      "3.41133\n",
      "2.31626\n",
      "2.38197\n",
      "4.17492\n",
      "4.84786\n",
      "3.15623\n",
      "1.44282\n",
      "3.08827\n",
      "2.77647\n",
      "2.9491\n",
      "3.21598\n",
      "4.59581\n",
      "2.61778\n",
      "1.2346\n",
      "4.67664\n",
      "3.53503\n",
      "4.91414\n",
      "1.70814\n",
      "3.27448\n",
      "4.08051\n",
      "1.95079\n",
      "2.96289\n",
      "5.04874\n",
      "3.95957\n",
      "1.5785\n",
      "3.14018\n",
      "2.30823\n",
      "2.31341\n",
      "2.56439\n",
      "4.00341\n",
      "3.27815\n",
      "1.52996\n",
      "3.45782\n",
      "3.20496\n",
      "4.3586\n",
      "2.92526\n",
      "2.1582\n",
      "3.29129\n",
      "1.5116\n",
      "2.12172\n",
      "2.56463\n",
      "1.92355\n",
      "2.80086\n",
      "2.24529\n",
      "3.99096\n",
      "1.30189\n",
      "2.56267\n",
      "3.32143\n",
      "3.75109\n",
      "2.98157\n",
      "1.88739\n",
      "1.59896\n",
      "1.48096\n",
      "4.08047\n",
      "2.57981\n",
      "3.45275\n",
      "1.87189\n",
      "2.94816\n",
      "1.80823\n",
      "1.84935\n",
      "1.86559\n",
      "2.06147\n",
      "2.37116\n",
      "2.56454\n",
      "2.10368\n",
      "3.59324\n",
      "3.32065\n",
      "2.34124\n",
      "3.21514\n",
      "1.113\n",
      "3.84228\n",
      "4.35151\n",
      "6.16699\n",
      "4.53492\n",
      "3.37769\n",
      "2.02266\n",
      "3.22618\n",
      "3.86586\n",
      "1.37003\n",
      "2.86162\n",
      "2.368\n",
      "2.25462\n",
      "2.17989\n",
      "1.15432\n",
      "1.2297\n",
      "2.0661\n",
      "6.58717\n",
      "2.70084\n",
      "1.33168\n",
      "2.48659\n",
      "1.46956\n",
      "3.28987\n",
      "1.97314\n",
      "2.90961\n",
      "4.30762\n",
      "2.10032\n",
      "2.12108\n",
      "2.94764\n",
      "4.22254\n",
      "3.35682\n",
      "1.28508\n",
      "1.96483\n",
      "1.55701\n",
      "3.35345\n",
      "1.44592\n",
      "1.04958\n",
      "3.44377\n",
      "4.8579\n",
      "1.61104\n",
      "1.66666\n",
      "3.2426\n",
      "1.31395\n",
      "4.3516\n",
      "3.75931\n",
      "1.82525\n",
      "1.36614\n",
      "1.54008\n",
      "2.3497\n",
      "3.93656\n",
      "2.66843\n",
      "4.34512\n",
      "1.97489\n",
      "5.19898\n",
      "2.75362\n",
      "3.10493\n",
      "3.66542\n",
      "3.04277\n",
      "1.54861\n",
      "2.20267\n",
      "3.11113\n",
      "2.75206\n",
      "2.1987\n",
      "2.14451\n",
      "1.6917\n",
      "1.46145\n",
      "2.60191\n",
      "2.10953\n",
      "3.13369\n",
      "1.69616\n",
      "1.77019\n",
      "2.57685\n",
      "3.96218\n",
      "5.13987\n",
      "2.26586\n",
      "1.6292\n",
      "2.31258\n",
      "1.4517\n",
      "2.00169\n",
      "1.17755\n",
      "4.6657\n",
      "1.36276\n",
      "1.15455\n",
      "1.96009\n",
      "5.95847\n",
      "2.96288\n",
      "3.18077\n",
      "1.78137\n",
      "2.18856\n",
      "2.50302\n",
      "3.09727\n",
      "2.6078\n",
      "4.71141\n",
      "5.42271\n",
      "1.69269\n",
      "2.45093\n",
      "1.31283\n",
      "2.16728\n",
      "2.96122\n",
      "3.18866\n",
      "1.58884\n",
      "2.09118\n",
      "2.6712\n",
      "1.13251\n",
      "5.24931\n",
      "1.42635\n",
      "1.64438\n",
      "5.27615\n",
      "2.60011\n",
      "2.73861\n",
      "1.31716\n",
      "2.69891\n",
      "2.08433\n",
      "2.1493\n",
      "3.77146\n",
      "2.81329\n",
      "2.01278\n",
      "1.01178\n",
      "1.16215\n",
      "2.52912\n",
      "2.2028\n",
      "1.50217\n",
      "1.86014\n",
      "2.329\n",
      "4.31913\n",
      "3.29548\n",
      "3.91603\n",
      "2.48486\n",
      "2.03079\n",
      "2.98756\n",
      "1.62343\n",
      "4.98258\n",
      "1.62237\n",
      "1.18042\n",
      "3.97798\n",
      "1.0589\n",
      "2.30282\n",
      "2.06816\n",
      "2.47977\n",
      "2.42681\n",
      "3.04727\n",
      "3.03163\n",
      "2.04934\n",
      "1.54766\n",
      "3.75442\n",
      "4.11314\n",
      "3.45141\n",
      "4.54794\n",
      "1.11618\n",
      "2.36413\n",
      "2.2759\n",
      "1.42461\n",
      "2.33973\n",
      "1.58935\n",
      "2.58499\n",
      "3.5376\n",
      "2.60892\n",
      "1.41499\n",
      "1.19926\n",
      "3.0823\n",
      "1.66774\n",
      "1.75936\n",
      "1.73645\n",
      "3.234\n",
      "3.05539\n",
      "2.08612\n",
      "1.93316\n",
      "1.25362\n",
      "2.37295\n",
      "1.89127\n",
      "2.52576\n",
      "1.04664\n",
      "1.5766\n",
      "1.93901\n",
      "2.39887\n",
      "2.39292\n",
      "3.09499\n",
      "3.64355\n",
      "4.15559\n",
      "2.71428\n",
      "1.65233\n",
      "2.77243\n",
      "1.2965\n",
      "1.65602\n",
      "2.47509\n",
      "1.69913\n",
      "1.33766\n",
      "1.89845\n",
      "1.12773\n",
      "1.62516\n",
      "1.61783\n",
      "2.63853\n",
      "1.91316\n",
      "1.6312\n",
      "2.54777\n",
      "4.12556\n",
      "3.13161\n",
      "1.48007\n",
      "1.86819\n",
      "1.1761\n",
      "2.1699\n",
      "2.02479\n",
      "1.56331\n",
      "2.50393\n",
      "2.03316\n",
      "1.9979\n",
      "1.36106\n",
      "3.07998\n",
      "3.00813\n",
      "1.24128\n",
      "2.15391\n",
      "1.12218\n",
      "1.81202\n",
      "1.84429\n",
      "2.60916\n",
      "1.92206\n",
      "2.09614\n",
      "1.48616\n",
      "1.40922\n",
      "1.49122\n",
      "2.39998\n",
      "1.91457\n",
      "2.7912\n",
      "2.0257\n",
      "3.25145\n",
      "3.17267\n",
      "1.93107\n",
      "1.86442\n",
      "1.18743\n",
      "0.870883\n",
      "2.94809\n",
      "3.62558\n",
      "1.7679\n",
      "3.36972\n",
      "1.32324\n",
      "1.89943\n",
      "2.2619\n",
      "1.61027\n",
      "1.65188\n",
      "2.14232\n",
      "1.82752\n",
      "1.14911\n",
      "2.39491\n",
      "2.66275\n",
      "2.28075\n",
      "2.00721\n",
      "4.62471\n",
      "2.25251\n",
      "1.68758\n",
      "1.85418\n",
      "4.47605\n",
      "2.8688\n",
      "2.36513\n",
      "1.07684\n",
      "1.93823\n",
      "1.80786\n",
      "1.41818\n",
      "2.33759\n",
      "2.02089\n",
      "1.59418\n",
      "1.61764\n",
      "1.53065\n",
      "1.73014\n",
      "2.07852\n",
      "1.90097\n",
      "2.59926\n",
      "2.42516\n",
      "1.3686\n",
      "1.59176\n",
      "2.02451\n",
      "1.63873\n",
      "1.89171\n",
      "1.24723\n",
      "1.31158\n",
      "1.44926\n",
      "2.26726\n",
      "2.65919\n",
      "0.72382\n",
      "3.28727\n",
      "2.11058\n",
      "5.5352\n",
      "1.92848\n",
      "3.19724\n",
      "3.85414\n",
      "1.64932\n",
      "2.29259\n",
      "3.48465\n",
      "1.60718\n",
      "1.71922\n",
      "1.70755\n",
      "1.61184\n",
      "1.5628\n",
      "0.919016\n",
      "6.08233\n",
      "2.74641\n",
      "3.03117\n",
      "1.35658\n",
      "2.59416\n",
      "2.33677\n",
      "1.5133\n",
      "0.959411\n",
      "2.08489\n",
      "2.15084\n",
      "2.86371\n",
      "1.79955\n",
      "2.90006\n",
      "3.29284\n",
      "4.39484\n",
      "3.78274\n",
      "1.34856\n",
      "1.77385\n",
      "2.86359\n",
      "2.6799\n",
      "1.39374\n",
      "2.0973\n",
      "1.03919\n",
      "1.97252\n",
      "1.96096\n",
      "1.34626\n",
      "1.37724\n",
      "1.7613\n",
      "1.62894\n",
      "1.69293\n",
      "1.07312\n",
      "2.67397\n",
      "1.99947\n",
      "1.08699\n",
      "2.16086\n",
      "2.19722\n",
      "2.63595\n",
      "1.90914\n",
      "1.53949\n",
      "1.57506\n",
      "2.12459\n",
      "2.1568\n",
      "1.20958\n",
      "3.17697\n",
      "3.41723\n",
      "0.708096\n",
      "1.65587\n",
      "2.80668\n",
      "1.70218\n",
      "3.83853\n",
      "3.1463\n",
      "3.47397\n",
      "1.96127\n",
      "1.54997\n",
      "3.68614\n",
      "1.60625\n",
      "2.46211\n",
      "2.1085\n",
      "2.29931\n",
      "1.16887\n",
      "1.99942\n",
      "1.34531\n",
      "2.72253\n",
      "1.6206\n",
      "1.29461\n",
      "1.25803\n",
      "3.6533\n",
      "1.04777\n",
      "1.57833\n",
      "1.70454\n",
      "1.61819\n",
      "2.73541\n",
      "1.95891\n",
      "1.21756\n",
      "1.74721\n",
      "1.43107\n",
      "1.13967\n",
      "3.28723\n",
      "1.71436\n",
      "1.82279\n",
      "1.35076\n",
      "3.41679\n",
      "2.6061\n",
      "2.84783\n",
      "2.46163\n",
      "2.19694\n",
      "1.25826\n",
      "2.16215\n",
      "1.8322\n",
      "1.67889\n",
      "2.48468\n"
     ]
    }
   ],
   "source": [
    "\n",
    "\n",
    "zipped = list(zip(datasetX, datasetY))\n",
    "\n",
    "BATCH_SIZE = 32\n",
    "loss_history = list()\n",
    "for _ in range(1000):\n",
    "    datax = list()\n",
    "    datay = list()\n",
    "    for _ in range(BATCH_SIZE):\n",
    "        samp = random.choice(zipped)\n",
    "        datax.append(samp[0])\n",
    "        datay.append([samp[1]])\n",
    "    _, l = sess.run([optimizer,loss], feed_dict={input_pl: datax, output_pl: datay})\n",
    "    print(l)\n",
    "    loss_history.append(l)"
   ]
  },
  {
   "cell_type": "code",
   "execution_count": 16,
   "metadata": {},
   "outputs": [
    {
     "data": {
      "text/plain": [
       "[<matplotlib.lines.Line2D at 0x7fd948fda860>]"
      ]
     },
     "execution_count": 16,
     "metadata": {},
     "output_type": "execute_result"
    },
    {
     "data": {
      "image/png": "[encoded data removed]",
      "text/plain": [
       "<matplotlib.figure.Figure at 0x7fd9a46cc198>"
      ]
     },
     "metadata": {},
     "output_type": "display_data"
    }
   ],
   "source": [
    "%matplotlib inline\n",
    "import matplotlib.pyplot as plt\n",
    "plt.plot(loss_history[10:])"
   ]
  },
  {
   "cell_type": "markdown",
   "metadata": {},
   "source": [
    "### Looking at gradients\n",
    "Knowing about gradients and inspecting them is a vital part of working with neural networks. If your network is stuck, broke, or does not perform as you expect it: take a look at the gradients!\n",
    "\n",
    "Part of why this is important is that in very deep neural networks we are dealing with vanishing and exploding gradients. Imagine that you start with a high gradient in your final layer, and multiply this with the learning rate. You update your weights and move on to the next layer. Your loss is lower in this layer, and thus your gradient is lower. \n"
   ]
  },
  {
   "cell_type": "markdown",
   "metadata": {},
   "source": [
    "## Video 3: preprocessing data\n",
    "Last section we made our first multi-layer neural network. This video we are going to learn about standardising data, and why this is important. \n",
    "\n",
    "### Train and evaluation functions\n",
    "To really see the impact of decisions we make when building any machine learning algorithm we need to build some functions that train a network and evaluate a network. I made two simple functions here with the code we made in previous videos so we can demonstrate the effect of preprocessing data!"
   ]
  },
  {
   "cell_type": "code",
   "execution_count": 17,
   "metadata": {
    "collapsed": true
   },
   "outputs": [],
   "source": [
    "def reset_and_train_network(sess,\n",
    "                            inX, \n",
    "                            inY, \n",
    "                            batch_size, \n",
    "                            iterations, \n",
    "                            optimizer, \n",
    "                            inputplaceholder, \n",
    "                            outputplaceholder, \n",
    "                            loss_tensor, \n",
    "                            verbose=True):\n",
    "    init = tf.global_variables_initializer() # https://www.tensorflow.org/api_docs/python/tf/global_variables_initializer\n",
    "    sess.run(init)\n",
    "\n",
    "    zipped = list(zip(inX, inY))\n",
    "\n",
    "\n",
    "    loss_history = list()\n",
    "    for _ in range(iterations):\n",
    "        datax = list()\n",
    "        datay = list()\n",
    "        for _ in range(batch_size):\n",
    "            samp = random.choice(zipped)\n",
    "            datax.append(samp[0])\n",
    "            datay.append([samp[1]])\n",
    "        _, l = sess.run([optimizer,loss_tensor], \n",
    "                        feed_dict={inputplaceholder: datax, \n",
    "                                   outputplaceholder: datay})\n",
    "        if verbose:\n",
    "            print(l)\n",
    "        loss_history.append(l)\n",
    "    return loss_history\n",
    "\n",
    "## Do the train set\n",
    "def evaluate_network(sess,\n",
    "                     inX, \n",
    "                     inY, \n",
    "                     prediction_tensor, \n",
    "                     inputplaceholder,\n",
    "                     outputplaceholder,\n",
    "                     loss):\n",
    "\n",
    "\n",
    "    datasetY2 = [[x] for x in inY]\n",
    "    predicted_values, loss_dataset = sess.run([prediction_tensor,loss], \n",
    "                                              feed_dict={inputplaceholder: inX, \n",
    "                                                         outputplaceholder: datasetY2})\n",
    "    print(\"Loss dataset: \" + str(loss_dataset))\n",
    "    plt.scatter(datasetY2, predicted_values)\n",
    "    plt.xlabel(\"True value\")\n",
    "    plt.ylabel(\"Predicted value\")\n",
    "    plt.show()\n",
    "    \n",
    "\n"
   ]
  },
  {
   "cell_type": "markdown",
   "metadata": {},
   "source": [
    "### Why preprocess data\n",
    "At the moment we are feedign the raw properties of atoms to the network. When we worked with the iris dataset we saw that by shifting all data a bit manually even a single layer neural network was able to classify the data. \n",
    "\n",
    "To preprocss the data you can use the [Scikit preprocessing library](http://scikit-learn.org/stable/modules/preprocessing.html). With this library you standardise all your data outside of your Tensorflow pipeline. If you want to keep everything inside this pipeline you can use the [tf.Transform library]( https://github.com/tensorflow/transform)\n",
    "\n"
   ]
  },
  {
   "cell_type": "code",
   "execution_count": 18,
   "metadata": {},
   "outputs": [
    {
     "data": {
      "image/png": "[encoded data removed]",
      "text/plain": [
       "<matplotlib.figure.Figure at 0x7fd970be60b8>"
      ]
     },
     "metadata": {},
     "output_type": "display_data"
    },
    {
     "name": "stdout",
     "output_type": "stream",
     "text": [
      "Evaluating testset on network without preprocessing\n",
      "Loss dataset: 1.97831\n"
     ]
    },
    {
     "data": {
      "image/png": "[encoded data removed]",
      "text/plain": [
       "<matplotlib.figure.Figure at 0x7fd99850b5f8>"
      ]
     },
     "metadata": {},
     "output_type": "display_data"
    }
   ],
   "source": [
    "import random\n",
    "%matplotlib inline\n",
    "import matplotlib.pyplot as plt\n",
    "\n",
    "COMPARE_MSE_ITERATIONS = 1000\n",
    "## Without standardizing our data:\n",
    "losses = reset_and_train_network(sess,X_train.values,\n",
    "                                 Y_train.values, \n",
    "                                 64, \n",
    "                                COMPARE_MSE_ITERATIONS,\n",
    "                                optimizer, \n",
    "                                input_pl, \n",
    "                                output_pl,\n",
    "                                loss,\n",
    "                                verbose=False)\n",
    "plt.plot(losses[10:])\n",
    "plt.show()\n",
    "print(\"Evaluating testset on network without preprocessing\")\n",
    "\n",
    "## Evaluate our network\n",
    "evaluate_network(sess, X_test, Y_test, network_prediction, input_pl,\n",
    "                output_pl, loss)\n"
   ]
  },
  {
   "cell_type": "markdown",
   "metadata": {},
   "source": [
    "### Determining the mean squared error on a testset\n",
    "Although our loss function already indicates what the mean squared error on our train set is, this does not help us to compare models after we standardised our input and output data, as the loss naturally will be smaller with smaller numbers. After we \"inverted\" our predictions back to their normal range we can compare the mean square errors using the sklearn.metrics library! Let's do this now so we can verify the mean squared error function works. "
   ]
  },
  {
   "cell_type": "code",
   "execution_count": 19,
   "metadata": {},
   "outputs": [
    {
     "name": "stdout",
     "output_type": "stream",
     "text": [
      "Test mean squared error: 1.97831274778\n"
     ]
    }
   ],
   "source": [
    "\n",
    "true_values = [[x] for x in Y_test]\n",
    "predicted_values = sess.run(network_prediction, feed_dict={input_pl: X_test})\n",
    "\n",
    "from sklearn.metrics import mean_squared_error\n",
    "mse = mean_squared_error(predicted_values, true_values)\n",
    "print(\"Test mean squared error: \" + str(mse))\n"
   ]
  },
  {
   "cell_type": "markdown",
   "metadata": {},
   "source": [
    "### Scaling our data\n",
    "To actually scale our data we use the **StandardScaler** of the sklearn library. Calling the `fit(data)` function returns an object that can scale your data. To see how well our neural network performs we scale on the traindata, and evaluate our network on the testdata. "
   ]
  },
  {
   "cell_type": "code",
   "execution_count": 23,
   "metadata": {
    "scrolled": true
   },
   "outputs": [
    {
     "name": "stderr",
     "output_type": "stream",
     "text": [
      "/usr/local/lib/python3.5/dist-packages/ipykernel_launcher.py:5: FutureWarning: reshape is deprecated and will raise in a subsequent release. Please use .values.reshape(...) instead\n",
      "  \"\"\"\n",
      "/usr/local/lib/python3.5/dist-packages/ipykernel_launcher.py:10: FutureWarning: reshape is deprecated and will raise in a subsequent release. Please use .values.reshape(...) instead\n",
      "  # Remove the CWD from sys.path while we load stuff.\n",
      "/usr/local/lib/python3.5/dist-packages/ipykernel_launcher.py:11: FutureWarning: reshape is deprecated and will raise in a subsequent release. Please use .values.reshape(...) instead\n",
      "  # This is added back by InteractiveShellApp.init_path()\n"
     ]
    },
    {
     "name": "stdout",
     "output_type": "stream",
     "text": [
      "[  1.63512875e-16   1.47653766e-16  -6.30262836e-16 ...,  -1.53122424e-17\n",
      "  -7.38268832e-18  -1.23044805e-17]\n",
      "[ 1.  1.  1. ...,  1.  1.  1.]\n"
     ]
    },
    {
     "data": {
      "image/png": "[encoded data removed]",
      "text/plain": [
       "<matplotlib.figure.Figure at 0x7fd940122c88>"
      ]
     },
     "metadata": {},
     "output_type": "display_data"
    },
    {
     "name": "stdout",
     "output_type": "stream",
     "text": [
      "Evaluating trainset with preprocessing\n",
      "Loss dataset: 0.132098\n"
     ]
    },
    {
     "data": {
      "image/png": "[encoded data removed]",
      "text/plain": [
       "<matplotlib.figure.Figure at 0x7fd96e947470>"
      ]
     },
     "metadata": {},
     "output_type": "display_data"
    },
    {
     "name": "stdout",
     "output_type": "stream",
     "text": [
      "Evaluating testset with preprocessing\n",
      "Loss dataset: 0.132127\n"
     ]
    },
    {
     "data": {
      "image/png": "[encoded data removed]",
      "text/plain": [
       "<matplotlib.figure.Figure at 0x7fd93b532208>"
      ]
     },
     "metadata": {},
     "output_type": "display_data"
    }
   ],
   "source": [
    "from sklearn import preprocessing\n",
    "\n",
    "## Create the scalers\n",
    "scaler = preprocessing.StandardScaler().fit(X_train)\n",
    "outputscaler = preprocessing.StandardScaler().fit(Y_train.reshape(-1, 1))\n",
    "\n",
    "## Scale all datasets\n",
    "scaled_trainset = scaler.transform(X_train)\n",
    "scaled_testset = scaler.transform(X_test)\n",
    "scaled_train_out = outputscaler.transform(Y_train.reshape(-1, 1))\n",
    "scaled_test_out = outputscaler.transform(Y_test.reshape(-1, 1))\n",
    "scaled_train_out = scaled_train_out.reshape(-1)\n",
    "scaled_test_out = scaled_test_out.reshape(-1)\n",
    "#print(Y_train.reshape(-1, 1).shape)\n",
    "#print(scaled_train_out.shape)\n",
    "\n",
    "## Verify our data is scaled correctly \n",
    "print(scaled_trainset.mean(axis=0))\n",
    "print(scaled_trainset.std(axis=0))\n",
    "\n",
    "\n",
    "## Retrain the same network with standardized data\n",
    "losses_norm = reset_and_train_network(sess,scaled_trainset,\n",
    "                                      scaled_train_out,\n",
    "                                      64, \n",
    "                                        COMPARE_MSE_ITERATIONS,\n",
    "                                        optimizer, \n",
    "                                        input_pl, \n",
    "                                        output_pl,\n",
    "                                        loss,\n",
    "                                        verbose=False)\n",
    "plt.plot(losses_norm[10:])\n",
    "plt.show()\n",
    "\n",
    "## Evaluate the trainset after preprocessing and the testset after preprocessing\n",
    "print(\"Evaluating trainset with preprocessing\")\n",
    "evaluate_network(sess,scaled_trainset, scaled_train_out, network_prediction, input_pl, output_pl, loss)\n",
    "print(\"Evaluating testset with preprocessing\")\n",
    "evaluate_network(sess,scaled_testset, scaled_test_out, network_prediction, input_pl, output_pl, loss)\n"
   ]
  },
  {
   "cell_type": "code",
   "execution_count": 24,
   "metadata": {},
   "outputs": [
    {
     "name": "stdout",
     "output_type": "stream",
     "text": [
      "MSE testset with scaling: 1.78037025323\n"
     ]
    }
   ],
   "source": [
    "from sklearn.metrics import mean_squared_error\n",
    "\n",
    "## Predict the ground energy of each molecule\n",
    "datasetY2 = [[x] for x in Y_test]\n",
    "predicted_values = sess.run(network_prediction, feed_dict={input_pl: scaled_testset})\n",
    "\n",
    "## Scale these values back, and calculate the MSE\n",
    "inversed_predicted_values = outputscaler.inverse_transform(predicted_values)\n",
    "mse = mean_squared_error(inversed_predicted_values, datasetY2)\n",
    "print(\"MSE testset with scaling: \" + str(mse))"
   ]
  },
  {
   "cell_type": "markdown",
   "metadata": {},
   "source": [
    "### Visualising your graph\n",
    "When working with Tensorflow it's easy to make a mistake. For example, when adding an extra layer to your network it's easy to forget to connect it to other layers. A cool feature of our Jupyter notebook is that you can visualise the graph you made. The source of this code can be found in [this Stackoverflow answer](https://stackoverflow.com/questions/38189119/simple-way-to-visualize-a-tensorflow-graph-in-jupyter/38192374#38192374). \n"
   ]
  },
  {
   "cell_type": "code",
   "execution_count": 25,
   "metadata": {
    "collapsed": true
   },
   "outputs": [],
   "source": [
    "from IPython.display import clear_output, Image, display, HTML\n",
    "\n",
    "def strip_consts(graph_def, max_const_size=32):\n",
    "    \"\"\"Strip large constant values from graph_def.\"\"\"\n",
    "    strip_def = tf.GraphDef()\n",
    "    for n0 in graph_def.node:\n",
    "        n = strip_def.node.add() \n",
    "        n.MergeFrom(n0)\n",
    "        if n.op == 'Const':\n",
    "            tensor = n.attr['value'].tensor\n",
    "            size = len(tensor.tensor_content)\n",
    "            if size > max_const_size:\n",
    "                tensor.tensor_content = \"<stripped %d bytes>\"%size\n",
    "    return strip_def\n",
    "\n",
    "def show_graph(graph_def, max_const_size=32):\n",
    "    \"\"\"Visualize TensorFlow graph.\"\"\"\n",
    "    if hasattr(graph_def, 'as_graph_def'):\n",
    "        graph_def = graph_def.as_graph_def()\n",
    "    strip_def = strip_consts(graph_def, max_const_size=max_const_size)\n",
    "    code = \"\"\"\n",
    "        <script>\n",
    "          function load() {{\n",
    "            document.getElementById(\"{id}\").pbtxt = {data};\n",
    "          }}\n",
    "        </script>\n",
    "        <link rel=\"import\" href=\"https://tensorboard.appspot.com/tf-graph-basic.build.html\" onload=load()>\n",
    "        <div style=\"height:600px\">\n",
    "          <tf-graph-basic id=\"{id}\"></tf-graph-basic>\n",
    "        </div>\n",
    "    \"\"\".format(data=repr(str(strip_def)), id='graph'+str(np.random.rand()))\n",
    "\n",
    "    iframe = \"\"\"\n",
    "        <iframe seamless style=\"width:1200px;height:620px;border:0\" srcdoc=\"{}\"></iframe>\n",
    "    \"\"\".format(code.replace('\"', '&quot;'))\n",
    "    display(HTML(iframe))\n"
   ]
  },
  {
   "cell_type": "code",
   "execution_count": 26,
   "metadata": {},
   "outputs": [
    {
     "data": {
      "text/html": [
       "\n",
       "        <iframe seamless style=\"width:1200px;height:620px;border:0\" srcdoc=\"\n",
       "        <script>\n",
       "          function load() {\n",
       "            document.getElementById(&quot;graph0.8556818555336668&quot;).pbtxt = 'node {\\n  name: &quot;inputplaceholder&quot;\\n  op: &quot;Placeholder&quot;\\n  attr {\\n    key: &quot;dtype&quot;\\n    value {\\n      type: DT_FLOAT\\n    }\\n  }\\n  attr {\\n    key: &quot;shape&quot;\\n    value {\\n      shape {\\n        dim {\\n          size: -1\\n        }\\n        dim {\\n          size: 1275\\n        }\\n      }\\n    }\\n  }\\n}\\nnode {\\n  name: &quot;userdefinedoutput&quot;\\n  op: &quot;Placeholder&quot;\\n  attr {\\n    key: &quot;dtype&quot;\\n    value {\\n      type: DT_FLOAT\\n    }\\n  }\\n  attr {\\n    key: &quot;shape&quot;\\n    value {\\n      shape {\\n        dim {\\n          size: -1\\n        }\\n        dim {\\n          size: 1\\n        }\\n      }\\n    }\\n  }\\n}\\nnode {\\n  name: &quot;first_dense_layer/kernel/Initializer/random_uniform/shape&quot;\\n  op: &quot;Const&quot;\\n  attr {\\n    key: &quot;_class&quot;\\n    value {\\n      list {\\n        s: &quot;loc:@first_dense_layer/kernel&quot;\\n      }\\n    }\\n  }\\n  attr {\\n    key: &quot;dtype&quot;\\n    value {\\n      type: DT_INT32\\n    }\\n  }\\n  attr {\\n    key: &quot;value&quot;\\n    value {\\n      tensor {\\n        dtype: DT_INT32\\n        tensor_shape {\\n          dim {\\n            size: 2\\n          }\\n        }\\n        tensor_content: &quot;\\\\373\\\\004\\\\000\\\\000\\\\000\\\\002\\\\000\\\\000&quot;\\n      }\\n    }\\n  }\\n}\\nnode {\\n  name: &quot;first_dense_layer/kernel/Initializer/random_uniform/min&quot;\\n  op: &quot;Const&quot;\\n  attr {\\n    key: &quot;_class&quot;\\n    value {\\n      list {\\n        s: &quot;loc:@first_dense_layer/kernel&quot;\\n      }\\n    }\\n  }\\n  attr {\\n    key: &quot;dtype&quot;\\n    value {\\n      type: DT_FLOAT\\n    }\\n  }\\n  attr {\\n    key: &quot;value&quot;\\n    value {\\n      tensor {\\n        dtype: DT_FLOAT\\n        tensor_shape {\\n        }\\n        float_val: -0.0579446516931057\\n      }\\n    }\\n  }\\n}\\nnode {\\n  name: &quot;first_dense_layer/kernel/Initializer/random_uniform/max&quot;\\n  op: &quot;Const&quot;\\n  attr {\\n    key: &quot;_class&quot;\\n    value {\\n      list {\\n        s: &quot;loc:@first_dense_layer/kernel&quot;\\n      }\\n    }\\n  }\\n  attr {\\n    key: &quot;dtype&quot;\\n    value {\\n      type: DT_FLOAT\\n    }\\n  }\\n  attr {\\n    key: &quot;value&quot;\\n    value {\\n      tensor {\\n        dtype: DT_FLOAT\\n        tensor_shape {\\n        }\\n        float_val: 0.0579446516931057\\n      }\\n    }\\n  }\\n}\\nnode {\\n  name: &quot;first_dense_layer/kernel/Initializer/random_uniform/RandomUniform&quot;\\n  op: &quot;RandomUniform&quot;\\n  input: &quot;first_dense_layer/kernel/Initializer/random_uniform/shape&quot;\\n  attr {\\n    key: &quot;T&quot;\\n    value {\\n      type: DT_INT32\\n    }\\n  }\\n  attr {\\n    key: &quot;_class&quot;\\n    value {\\n      list {\\n        s: &quot;loc:@first_dense_layer/kernel&quot;\\n      }\\n    }\\n  }\\n  attr {\\n    key: &quot;dtype&quot;\\n    value {\\n      type: DT_FLOAT\\n    }\\n  }\\n  attr {\\n    key: &quot;seed&quot;\\n    value {\\n      i: 0\\n    }\\n  }\\n  attr {\\n    key: &quot;seed2&quot;\\n    value {\\n      i: 0\\n    }\\n  }\\n}\\nnode {\\n  name: &quot;first_dense_layer/kernel/Initializer/random_uniform/sub&quot;\\n  op: &quot;Sub&quot;\\n  input: &quot;first_dense_layer/kernel/Initializer/random_uniform/max&quot;\\n  input: &quot;first_dense_layer/kernel/Initializer/random_uniform/min&quot;\\n  attr {\\n    key: &quot;T&quot;\\n    value {\\n      type: DT_FLOAT\\n    }\\n  }\\n  attr {\\n    key: &quot;_class&quot;\\n    value {\\n      list {\\n        s: &quot;loc:@first_dense_layer/kernel&quot;\\n      }\\n    }\\n  }\\n}\\nnode {\\n  name: &quot;first_dense_layer/kernel/Initializer/random_uniform/mul&quot;\\n  op: &quot;Mul&quot;\\n  input: &quot;first_dense_layer/kernel/Initializer/random_uniform/RandomUniform&quot;\\n  input: &quot;first_dense_layer/kernel/Initializer/random_uniform/sub&quot;\\n  attr {\\n    key: &quot;T&quot;\\n    value {\\n      type: DT_FLOAT\\n    }\\n  }\\n  attr {\\n    key: &quot;_class&quot;\\n    value {\\n      list {\\n        s: &quot;loc:@first_dense_layer/kernel&quot;\\n      }\\n    }\\n  }\\n}\\nnode {\\n  name: &quot;first_dense_layer/kernel/Initializer/random_uniform&quot;\\n  op: &quot;Add&quot;\\n  input: &quot;first_dense_layer/kernel/Initializer/random_uniform/mul&quot;\\n  input: &quot;first_dense_layer/kernel/Initializer/random_uniform/min&quot;\\n  attr {\\n    key: &quot;T&quot;\\n    value {\\n      type: DT_FLOAT\\n    }\\n  }\\n  attr {\\n    key: &quot;_class&quot;\\n    value {\\n      list {\\n        s: &quot;loc:@first_dense_layer/kernel&quot;\\n      }\\n    }\\n  }\\n}\\nnode {\\n  name: &quot;first_dense_layer/kernel&quot;\\n  op: &quot;VariableV2&quot;\\n  attr {\\n    key: &quot;_class&quot;\\n    value {\\n      list {\\n        s: &quot;loc:@first_dense_layer/kernel&quot;\\n      }\\n    }\\n  }\\n  attr {\\n    key: &quot;container&quot;\\n    value {\\n      s: &quot;&quot;\\n    }\\n  }\\n  attr {\\n    key: &quot;dtype&quot;\\n    value {\\n      type: DT_FLOAT\\n    }\\n  }\\n  attr {\\n    key: &quot;shape&quot;\\n    value {\\n      shape {\\n        dim {\\n          size: 1275\\n        }\\n        dim {\\n          size: 512\\n        }\\n      }\\n    }\\n  }\\n  attr {\\n    key: &quot;shared_name&quot;\\n    value {\\n      s: &quot;&quot;\\n    }\\n  }\\n}\\nnode {\\n  name: &quot;first_dense_layer/kernel/Assign&quot;\\n  op: &quot;Assign&quot;\\n  input: &quot;first_dense_layer/kernel&quot;\\n  input: &quot;first_dense_layer/kernel/Initializer/random_uniform&quot;\\n  attr {\\n    key: &quot;T&quot;\\n    value {\\n      type: DT_FLOAT\\n    }\\n  }\\n  attr {\\n    key: &quot;_class&quot;\\n    value {\\n      list {\\n        s: &quot;loc:@first_dense_layer/kernel&quot;\\n      }\\n    }\\n  }\\n  attr {\\n    key: &quot;use_locking&quot;\\n    value {\\n      b: true\\n    }\\n  }\\n  attr {\\n    key: &quot;validate_shape&quot;\\n    value {\\n      b: true\\n    }\\n  }\\n}\\nnode {\\n  name: &quot;first_dense_layer/kernel/read&quot;\\n  op: &quot;Identity&quot;\\n  input: &quot;first_dense_layer/kernel&quot;\\n  attr {\\n    key: &quot;T&quot;\\n    value {\\n      type: DT_FLOAT\\n    }\\n  }\\n  attr {\\n    key: &quot;_class&quot;\\n    value {\\n      list {\\n        s: &quot;loc:@first_dense_layer/kernel&quot;\\n      }\\n    }\\n  }\\n}\\nnode {\\n  name: &quot;first_dense_layer/bias/Initializer/zeros&quot;\\n  op: &quot;Const&quot;\\n  attr {\\n    key: &quot;_class&quot;\\n    value {\\n      list {\\n        s: &quot;loc:@first_dense_layer/bias&quot;\\n      }\\n    }\\n  }\\n  attr {\\n    key: &quot;dtype&quot;\\n    value {\\n      type: DT_FLOAT\\n    }\\n  }\\n  attr {\\n    key: &quot;value&quot;\\n    value {\\n      tensor {\\n        dtype: DT_FLOAT\\n        tensor_shape {\\n          dim {\\n            size: 512\\n          }\\n        }\\n        float_val: 0.0\\n      }\\n    }\\n  }\\n}\\nnode {\\n  name: &quot;first_dense_layer/bias&quot;\\n  op: &quot;VariableV2&quot;\\n  attr {\\n    key: &quot;_class&quot;\\n    value {\\n      list {\\n        s: &quot;loc:@first_dense_layer/bias&quot;\\n      }\\n    }\\n  }\\n  attr {\\n    key: &quot;container&quot;\\n    value {\\n      s: &quot;&quot;\\n    }\\n  }\\n  attr {\\n    key: &quot;dtype&quot;\\n    value {\\n      type: DT_FLOAT\\n    }\\n  }\\n  attr {\\n    key: &quot;shape&quot;\\n    value {\\n      shape {\\n        dim {\\n          size: 512\\n        }\\n      }\\n    }\\n  }\\n  attr {\\n    key: &quot;shared_name&quot;\\n    value {\\n      s: &quot;&quot;\\n    }\\n  }\\n}\\nnode {\\n  name: &quot;first_dense_layer/bias/Assign&quot;\\n  op: &quot;Assign&quot;\\n  input: &quot;first_dense_layer/bias&quot;\\n  input: &quot;first_dense_layer/bias/Initializer/zeros&quot;\\n  attr {\\n    key: &quot;T&quot;\\n    value {\\n      type: DT_FLOAT\\n    }\\n  }\\n  attr {\\n    key: &quot;_class&quot;\\n    value {\\n      list {\\n        s: &quot;loc:@first_dense_layer/bias&quot;\\n      }\\n    }\\n  }\\n  attr {\\n    key: &quot;use_locking&quot;\\n    value {\\n      b: true\\n    }\\n  }\\n  attr {\\n    key: &quot;validate_shape&quot;\\n    value {\\n      b: true\\n    }\\n  }\\n}\\nnode {\\n  name: &quot;first_dense_layer/bias/read&quot;\\n  op: &quot;Identity&quot;\\n  input: &quot;first_dense_layer/bias&quot;\\n  attr {\\n    key: &quot;T&quot;\\n    value {\\n      type: DT_FLOAT\\n    }\\n  }\\n  attr {\\n    key: &quot;_class&quot;\\n    value {\\n      list {\\n        s: &quot;loc:@first_dense_layer/bias&quot;\\n      }\\n    }\\n  }\\n}\\nnode {\\n  name: &quot;first_dense_layer/MatMul&quot;\\n  op: &quot;MatMul&quot;\\n  input: &quot;inputplaceholder&quot;\\n  input: &quot;first_dense_layer/kernel/read&quot;\\n  attr {\\n    key: &quot;T&quot;\\n    value {\\n      type: DT_FLOAT\\n    }\\n  }\\n  attr {\\n    key: &quot;transpose_a&quot;\\n    value {\\n      b: false\\n    }\\n  }\\n  attr {\\n    key: &quot;transpose_b&quot;\\n    value {\\n      b: false\\n    }\\n  }\\n}\\nnode {\\n  name: &quot;first_dense_layer/BiasAdd&quot;\\n  op: &quot;BiasAdd&quot;\\n  input: &quot;first_dense_layer/MatMul&quot;\\n  input: &quot;first_dense_layer/bias/read&quot;\\n  attr {\\n    key: &quot;T&quot;\\n    value {\\n      type: DT_FLOAT\\n    }\\n  }\\n  attr {\\n    key: &quot;data_format&quot;\\n    value {\\n      s: &quot;NHWC&quot;\\n    }\\n  }\\n}\\nnode {\\n  name: &quot;first_dense_layer/Sigmoid&quot;\\n  op: &quot;Sigmoid&quot;\\n  input: &quot;first_dense_layer/BiasAdd&quot;\\n  attr {\\n    key: &quot;T&quot;\\n    value {\\n      type: DT_FLOAT\\n    }\\n  }\\n}\\nnode {\\n  name: &quot;prediction_dense_layer/kernel/Initializer/random_uniform/shape&quot;\\n  op: &quot;Const&quot;\\n  attr {\\n    key: &quot;_class&quot;\\n    value {\\n      list {\\n        s: &quot;loc:@prediction_dense_layer/kernel&quot;\\n      }\\n    }\\n  }\\n  attr {\\n    key: &quot;dtype&quot;\\n    value {\\n      type: DT_INT32\\n    }\\n  }\\n  attr {\\n    key: &quot;value&quot;\\n    value {\\n      tensor {\\n        dtype: DT_INT32\\n        tensor_shape {\\n          dim {\\n            size: 2\\n          }\\n        }\\n        tensor_content: &quot;\\\\000\\\\002\\\\000\\\\000\\\\001\\\\000\\\\000\\\\000&quot;\\n      }\\n    }\\n  }\\n}\\nnode {\\n  name: &quot;prediction_dense_layer/kernel/Initializer/random_uniform/min&quot;\\n  op: &quot;Const&quot;\\n  attr {\\n    key: &quot;_class&quot;\\n    value {\\n      list {\\n        s: &quot;loc:@prediction_dense_layer/kernel&quot;\\n      }\\n    }\\n  }\\n  attr {\\n    key: &quot;dtype&quot;\\n    value {\\n      type: DT_FLOAT\\n    }\\n  }\\n  attr {\\n    key: &quot;value&quot;\\n    value {\\n      tensor {\\n        dtype: DT_FLOAT\\n        tensor_shape {\\n        }\\n        float_val: -0.10814761370420456\\n      }\\n    }\\n  }\\n}\\nnode {\\n  name: &quot;prediction_dense_layer/kernel/Initializer/random_uniform/max&quot;\\n  op: &quot;Const&quot;\\n  attr {\\n    key: &quot;_class&quot;\\n    value {\\n      list {\\n        s: &quot;loc:@prediction_dense_layer/kernel&quot;\\n      }\\n    }\\n  }\\n  attr {\\n    key: &quot;dtype&quot;\\n    value {\\n      type: DT_FLOAT\\n    }\\n  }\\n  attr {\\n    key: &quot;value&quot;\\n    value {\\n      tensor {\\n        dtype: DT_FLOAT\\n        tensor_shape {\\n        }\\n        float_val: 0.10814761370420456\\n      }\\n    }\\n  }\\n}\\nnode {\\n  name: &quot;prediction_dense_layer/kernel/Initializer/random_uniform/RandomUniform&quot;\\n  op: &quot;RandomUniform&quot;\\n  input: &quot;prediction_dense_layer/kernel/Initializer/random_uniform/shape&quot;\\n  attr {\\n    key: &quot;T&quot;\\n    value {\\n      type: DT_INT32\\n    }\\n  }\\n  attr {\\n    key: &quot;_class&quot;\\n    value {\\n      list {\\n        s: &quot;loc:@prediction_dense_layer/kernel&quot;\\n      }\\n    }\\n  }\\n  attr {\\n    key: &quot;dtype&quot;\\n    value {\\n      type: DT_FLOAT\\n    }\\n  }\\n  attr {\\n    key: &quot;seed&quot;\\n    value {\\n      i: 0\\n    }\\n  }\\n  attr {\\n    key: &quot;seed2&quot;\\n    value {\\n      i: 0\\n    }\\n  }\\n}\\nnode {\\n  name: &quot;prediction_dense_layer/kernel/Initializer/random_uniform/sub&quot;\\n  op: &quot;Sub&quot;\\n  input: &quot;prediction_dense_layer/kernel/Initializer/random_uniform/max&quot;\\n  input: &quot;prediction_dense_layer/kernel/Initializer/random_uniform/min&quot;\\n  attr {\\n    key: &quot;T&quot;\\n    value {\\n      type: DT_FLOAT\\n    }\\n  }\\n  attr {\\n    key: &quot;_class&quot;\\n    value {\\n      list {\\n        s: &quot;loc:@prediction_dense_layer/kernel&quot;\\n      }\\n    }\\n  }\\n}\\nnode {\\n  name: &quot;prediction_dense_layer/kernel/Initializer/random_uniform/mul&quot;\\n  op: &quot;Mul&quot;\\n  input: &quot;prediction_dense_layer/kernel/Initializer/random_uniform/RandomUniform&quot;\\n  input: &quot;prediction_dense_layer/kernel/Initializer/random_uniform/sub&quot;\\n  attr {\\n    key: &quot;T&quot;\\n    value {\\n      type: DT_FLOAT\\n    }\\n  }\\n  attr {\\n    key: &quot;_class&quot;\\n    value {\\n      list {\\n        s: &quot;loc:@prediction_dense_layer/kernel&quot;\\n      }\\n    }\\n  }\\n}\\nnode {\\n  name: &quot;prediction_dense_layer/kernel/Initializer/random_uniform&quot;\\n  op: &quot;Add&quot;\\n  input: &quot;prediction_dense_layer/kernel/Initializer/random_uniform/mul&quot;\\n  input: &quot;prediction_dense_layer/kernel/Initializer/random_uniform/min&quot;\\n  attr {\\n    key: &quot;T&quot;\\n    value {\\n      type: DT_FLOAT\\n    }\\n  }\\n  attr {\\n    key: &quot;_class&quot;\\n    value {\\n      list {\\n        s: &quot;loc:@prediction_dense_layer/kernel&quot;\\n      }\\n    }\\n  }\\n}\\nnode {\\n  name: &quot;prediction_dense_layer/kernel&quot;\\n  op: &quot;VariableV2&quot;\\n  attr {\\n    key: &quot;_class&quot;\\n    value {\\n      list {\\n        s: &quot;loc:@prediction_dense_layer/kernel&quot;\\n      }\\n    }\\n  }\\n  attr {\\n    key: &quot;container&quot;\\n    value {\\n      s: &quot;&quot;\\n    }\\n  }\\n  attr {\\n    key: &quot;dtype&quot;\\n    value {\\n      type: DT_FLOAT\\n    }\\n  }\\n  attr {\\n    key: &quot;shape&quot;\\n    value {\\n      shape {\\n        dim {\\n          size: 512\\n        }\\n        dim {\\n          size: 1\\n        }\\n      }\\n    }\\n  }\\n  attr {\\n    key: &quot;shared_name&quot;\\n    value {\\n      s: &quot;&quot;\\n    }\\n  }\\n}\\nnode {\\n  name: &quot;prediction_dense_layer/kernel/Assign&quot;\\n  op: &quot;Assign&quot;\\n  input: &quot;prediction_dense_layer/kernel&quot;\\n  input: &quot;prediction_dense_layer/kernel/Initializer/random_uniform&quot;\\n  attr {\\n    key: &quot;T&quot;\\n    value {\\n      type: DT_FLOAT\\n    }\\n  }\\n  attr {\\n    key: &quot;_class&quot;\\n    value {\\n      list {\\n        s: &quot;loc:@prediction_dense_layer/kernel&quot;\\n      }\\n    }\\n  }\\n  attr {\\n    key: &quot;use_locking&quot;\\n    value {\\n      b: true\\n    }\\n  }\\n  attr {\\n    key: &quot;validate_shape&quot;\\n    value {\\n      b: true\\n    }\\n  }\\n}\\nnode {\\n  name: &quot;prediction_dense_layer/kernel/read&quot;\\n  op: &quot;Identity&quot;\\n  input: &quot;prediction_dense_layer/kernel&quot;\\n  attr {\\n    key: &quot;T&quot;\\n    value {\\n      type: DT_FLOAT\\n    }\\n  }\\n  attr {\\n    key: &quot;_class&quot;\\n    value {\\n      list {\\n        s: &quot;loc:@prediction_dense_layer/kernel&quot;\\n      }\\n    }\\n  }\\n}\\nnode {\\n  name: &quot;prediction_dense_layer/bias/Initializer/zeros&quot;\\n  op: &quot;Const&quot;\\n  attr {\\n    key: &quot;_class&quot;\\n    value {\\n      list {\\n        s: &quot;loc:@prediction_dense_layer/bias&quot;\\n      }\\n    }\\n  }\\n  attr {\\n    key: &quot;dtype&quot;\\n    value {\\n      type: DT_FLOAT\\n    }\\n  }\\n  attr {\\n    key: &quot;value&quot;\\n    value {\\n      tensor {\\n        dtype: DT_FLOAT\\n        tensor_shape {\\n          dim {\\n            size: 1\\n          }\\n        }\\n        float_val: 0.0\\n      }\\n    }\\n  }\\n}\\nnode {\\n  name: &quot;prediction_dense_layer/bias&quot;\\n  op: &quot;VariableV2&quot;\\n  attr {\\n    key: &quot;_class&quot;\\n    value {\\n      list {\\n        s: &quot;loc:@prediction_dense_layer/bias&quot;\\n      }\\n    }\\n  }\\n  attr {\\n    key: &quot;container&quot;\\n    value {\\n      s: &quot;&quot;\\n    }\\n  }\\n  attr {\\n    key: &quot;dtype&quot;\\n    value {\\n      type: DT_FLOAT\\n    }\\n  }\\n  attr {\\n    key: &quot;shape&quot;\\n    value {\\n      shape {\\n        dim {\\n          size: 1\\n        }\\n      }\\n    }\\n  }\\n  attr {\\n    key: &quot;shared_name&quot;\\n    value {\\n      s: &quot;&quot;\\n    }\\n  }\\n}\\nnode {\\n  name: &quot;prediction_dense_layer/bias/Assign&quot;\\n  op: &quot;Assign&quot;\\n  input: &quot;prediction_dense_layer/bias&quot;\\n  input: &quot;prediction_dense_layer/bias/Initializer/zeros&quot;\\n  attr {\\n    key: &quot;T&quot;\\n    value {\\n      type: DT_FLOAT\\n    }\\n  }\\n  attr {\\n    key: &quot;_class&quot;\\n    value {\\n      list {\\n        s: &quot;loc:@prediction_dense_layer/bias&quot;\\n      }\\n    }\\n  }\\n  attr {\\n    key: &quot;use_locking&quot;\\n    value {\\n      b: true\\n    }\\n  }\\n  attr {\\n    key: &quot;validate_shape&quot;\\n    value {\\n      b: true\\n    }\\n  }\\n}\\nnode {\\n  name: &quot;prediction_dense_layer/bias/read&quot;\\n  op: &quot;Identity&quot;\\n  input: &quot;prediction_dense_layer/bias&quot;\\n  attr {\\n    key: &quot;T&quot;\\n    value {\\n      type: DT_FLOAT\\n    }\\n  }\\n  attr {\\n    key: &quot;_class&quot;\\n    value {\\n      list {\\n        s: &quot;loc:@prediction_dense_layer/bias&quot;\\n      }\\n    }\\n  }\\n}\\nnode {\\n  name: &quot;prediction_dense_layer/MatMul&quot;\\n  op: &quot;MatMul&quot;\\n  input: &quot;first_dense_layer/Sigmoid&quot;\\n  input: &quot;prediction_dense_layer/kernel/read&quot;\\n  attr {\\n    key: &quot;T&quot;\\n    value {\\n      type: DT_FLOAT\\n    }\\n  }\\n  attr {\\n    key: &quot;transpose_a&quot;\\n    value {\\n      b: false\\n    }\\n  }\\n  attr {\\n    key: &quot;transpose_b&quot;\\n    value {\\n      b: false\\n    }\\n  }\\n}\\nnode {\\n  name: &quot;prediction_dense_layer/BiasAdd&quot;\\n  op: &quot;BiasAdd&quot;\\n  input: &quot;prediction_dense_layer/MatMul&quot;\\n  input: &quot;prediction_dense_layer/bias/read&quot;\\n  attr {\\n    key: &quot;T&quot;\\n    value {\\n      type: DT_FLOAT\\n    }\\n  }\\n  attr {\\n    key: &quot;data_format&quot;\\n    value {\\n      s: &quot;NHWC&quot;\\n    }\\n  }\\n}\\nnode {\\n  name: &quot;mean_squared_error/SquaredDifference&quot;\\n  op: &quot;SquaredDifference&quot;\\n  input: &quot;prediction_dense_layer/BiasAdd&quot;\\n  input: &quot;userdefinedoutput&quot;\\n  attr {\\n    key: &quot;T&quot;\\n    value {\\n      type: DT_FLOAT\\n    }\\n  }\\n}\\nnode {\\n  name: &quot;mean_squared_error/assert_broadcastable/weights&quot;\\n  op: &quot;Const&quot;\\n  attr {\\n    key: &quot;dtype&quot;\\n    value {\\n      type: DT_FLOAT\\n    }\\n  }\\n  attr {\\n    key: &quot;value&quot;\\n    value {\\n      tensor {\\n        dtype: DT_FLOAT\\n        tensor_shape {\\n        }\\n        float_val: 1.0\\n      }\\n    }\\n  }\\n}\\nnode {\\n  name: &quot;mean_squared_error/assert_broadcastable/weights/shape&quot;\\n  op: &quot;Const&quot;\\n  attr {\\n    key: &quot;dtype&quot;\\n    value {\\n      type: DT_INT32\\n    }\\n  }\\n  attr {\\n    key: &quot;value&quot;\\n    value {\\n      tensor {\\n        dtype: DT_INT32\\n        tensor_shape {\\n          dim {\\n          }\\n        }\\n      }\\n    }\\n  }\\n}\\nnode {\\n  name: &quot;mean_squared_error/assert_broadcastable/weights/rank&quot;\\n  op: &quot;Const&quot;\\n  attr {\\n    key: &quot;dtype&quot;\\n    value {\\n      type: DT_INT32\\n    }\\n  }\\n  attr {\\n    key: &quot;value&quot;\\n    value {\\n      tensor {\\n        dtype: DT_INT32\\n        tensor_shape {\\n        }\\n        int_val: 0\\n      }\\n    }\\n  }\\n}\\nnode {\\n  name: &quot;mean_squared_error/assert_broadcastable/values/shape&quot;\\n  op: &quot;Shape&quot;\\n  input: &quot;mean_squared_error/SquaredDifference&quot;\\n  attr {\\n    key: &quot;T&quot;\\n    value {\\n      type: DT_FLOAT\\n    }\\n  }\\n  attr {\\n    key: &quot;out_type&quot;\\n    value {\\n      type: DT_INT32\\n    }\\n  }\\n}\\nnode {\\n  name: &quot;mean_squared_error/assert_broadcastable/values/rank&quot;\\n  op: &quot;Const&quot;\\n  attr {\\n    key: &quot;dtype&quot;\\n    value {\\n      type: DT_INT32\\n    }\\n  }\\n  attr {\\n    key: &quot;value&quot;\\n    value {\\n      tensor {\\n        dtype: DT_INT32\\n        tensor_shape {\\n        }\\n        int_val: 2\\n      }\\n    }\\n  }\\n}\\nnode {\\n  name: &quot;mean_squared_error/assert_broadcastable/static_scalar_check_success&quot;\\n  op: &quot;NoOp&quot;\\n}\\nnode {\\n  name: &quot;mean_squared_error/ToFloat_3/x&quot;\\n  op: &quot;Const&quot;\\n  input: &quot;^mean_squared_error/assert_broadcastable/static_scalar_check_success&quot;\\n  attr {\\n    key: &quot;dtype&quot;\\n    value {\\n      type: DT_FLOAT\\n    }\\n  }\\n  attr {\\n    key: &quot;value&quot;\\n    value {\\n      tensor {\\n        dtype: DT_FLOAT\\n        tensor_shape {\\n        }\\n        float_val: 1.0\\n      }\\n    }\\n  }\\n}\\nnode {\\n  name: &quot;mean_squared_error/Mul&quot;\\n  op: &quot;Mul&quot;\\n  input: &quot;mean_squared_error/SquaredDifference&quot;\\n  input: &quot;mean_squared_error/ToFloat_3/x&quot;\\n  attr {\\n    key: &quot;T&quot;\\n    value {\\n      type: DT_FLOAT\\n    }\\n  }\\n}\\nnode {\\n  name: &quot;mean_squared_error/Const&quot;\\n  op: &quot;Const&quot;\\n  input: &quot;^mean_squared_error/assert_broadcastable/static_scalar_check_success&quot;\\n  attr {\\n    key: &quot;dtype&quot;\\n    value {\\n      type: DT_INT32\\n    }\\n  }\\n  attr {\\n    key: &quot;value&quot;\\n    value {\\n      tensor {\\n        dtype: DT_INT32\\n        tensor_shape {\\n          dim {\\n            size: 2\\n          }\\n        }\\n        tensor_content: &quot;\\\\000\\\\000\\\\000\\\\000\\\\001\\\\000\\\\000\\\\000&quot;\\n      }\\n    }\\n  }\\n}\\nnode {\\n  name: &quot;mean_squared_error/Sum&quot;\\n  op: &quot;Sum&quot;\\n  input: &quot;mean_squared_error/Mul&quot;\\n  input: &quot;mean_squared_error/Const&quot;\\n  attr {\\n    key: &quot;T&quot;\\n    value {\\n      type: DT_FLOAT\\n    }\\n  }\\n  attr {\\n    key: &quot;Tidx&quot;\\n    value {\\n      type: DT_INT32\\n    }\\n  }\\n  attr {\\n    key: &quot;keep_dims&quot;\\n    value {\\n      b: false\\n    }\\n  }\\n}\\nnode {\\n  name: &quot;mean_squared_error/num_present/Equal/y&quot;\\n  op: &quot;Const&quot;\\n  input: &quot;^mean_squared_error/assert_broadcastable/static_scalar_check_success&quot;\\n  attr {\\n    key: &quot;dtype&quot;\\n    value {\\n      type: DT_FLOAT\\n    }\\n  }\\n  attr {\\n    key: &quot;value&quot;\\n    value {\\n      tensor {\\n        dtype: DT_FLOAT\\n        tensor_shape {\\n        }\\n        float_val: 0.0\\n      }\\n    }\\n  }\\n}\\nnode {\\n  name: &quot;mean_squared_error/num_present/Equal&quot;\\n  op: &quot;Equal&quot;\\n  input: &quot;mean_squared_error/ToFloat_3/x&quot;\\n  input: &quot;mean_squared_error/num_present/Equal/y&quot;\\n  attr {\\n    key: &quot;T&quot;\\n    value {\\n      type: DT_FLOAT\\n    }\\n  }\\n}\\nnode {\\n  name: &quot;mean_squared_error/num_present/zeros_like&quot;\\n  op: &quot;Const&quot;\\n  input: &quot;^mean_squared_error/assert_broadcastable/static_scalar_check_success&quot;\\n  attr {\\n    key: &quot;dtype&quot;\\n    value {\\n      type: DT_FLOAT\\n    }\\n  }\\n  attr {\\n    key: &quot;value&quot;\\n    value {\\n      tensor {\\n        dtype: DT_FLOAT\\n        tensor_shape {\\n        }\\n        float_val: 0.0\\n      }\\n    }\\n  }\\n}\\nnode {\\n  name: &quot;mean_squared_error/num_present/ones_like/Shape&quot;\\n  op: &quot;Const&quot;\\n  input: &quot;^mean_squared_error/assert_broadcastable/static_scalar_check_success&quot;\\n  attr {\\n    key: &quot;dtype&quot;\\n    value {\\n      type: DT_INT32\\n    }\\n  }\\n  attr {\\n    key: &quot;value&quot;\\n    value {\\n      tensor {\\n        dtype: DT_INT32\\n        tensor_shape {\\n          dim {\\n          }\\n        }\\n      }\\n    }\\n  }\\n}\\nnode {\\n  name: &quot;mean_squared_error/num_present/ones_like/Const&quot;\\n  op: &quot;Const&quot;\\n  input: &quot;^mean_squared_error/assert_broadcastable/static_scalar_check_success&quot;\\n  attr {\\n    key: &quot;dtype&quot;\\n    value {\\n      type: DT_FLOAT\\n    }\\n  }\\n  attr {\\n    key: &quot;value&quot;\\n    value {\\n      tensor {\\n        dtype: DT_FLOAT\\n        tensor_shape {\\n        }\\n        float_val: 1.0\\n      }\\n    }\\n  }\\n}\\nnode {\\n  name: &quot;mean_squared_error/num_present/ones_like&quot;\\n  op: &quot;Fill&quot;\\n  input: &quot;mean_squared_error/num_present/ones_like/Shape&quot;\\n  input: &quot;mean_squared_error/num_present/ones_like/Const&quot;\\n  attr {\\n    key: &quot;T&quot;\\n    value {\\n      type: DT_FLOAT\\n    }\\n  }\\n}\\nnode {\\n  name: &quot;mean_squared_error/num_present/Select&quot;\\n  op: &quot;Select&quot;\\n  input: &quot;mean_squared_error/num_present/Equal&quot;\\n  input: &quot;mean_squared_error/num_present/zeros_like&quot;\\n  input: &quot;mean_squared_error/num_present/ones_like&quot;\\n  attr {\\n    key: &quot;T&quot;\\n    value {\\n      type: DT_FLOAT\\n    }\\n  }\\n}\\nnode {\\n  name: &quot;mean_squared_error/num_present/broadcast_weights/assert_broadcastable/weights/shape&quot;\\n  op: &quot;Const&quot;\\n  input: &quot;^mean_squared_error/assert_broadcastable/static_scalar_check_success&quot;\\n  attr {\\n    key: &quot;dtype&quot;\\n    value {\\n      type: DT_INT32\\n    }\\n  }\\n  attr {\\n    key: &quot;value&quot;\\n    value {\\n      tensor {\\n        dtype: DT_INT32\\n        tensor_shape {\\n          dim {\\n          }\\n        }\\n      }\\n    }\\n  }\\n}\\nnode {\\n  name: &quot;mean_squared_error/num_present/broadcast_weights/assert_broadcastable/weights/rank&quot;\\n  op: &quot;Const&quot;\\n  input: &quot;^mean_squared_error/assert_broadcastable/static_scalar_check_success&quot;\\n  attr {\\n    key: &quot;dtype&quot;\\n    value {\\n      type: DT_INT32\\n    }\\n  }\\n  attr {\\n    key: &quot;value&quot;\\n    value {\\n      tensor {\\n        dtype: DT_INT32\\n        tensor_shape {\\n        }\\n        int_val: 0\\n      }\\n    }\\n  }\\n}\\nnode {\\n  name: &quot;mean_squared_error/num_present/broadcast_weights/assert_broadcastable/values/shape&quot;\\n  op: &quot;Shape&quot;\\n  input: &quot;mean_squared_error/SquaredDifference&quot;\\n  input: &quot;^mean_squared_error/assert_broadcastable/static_scalar_check_success&quot;\\n  attr {\\n    key: &quot;T&quot;\\n    value {\\n      type: DT_FLOAT\\n    }\\n  }\\n  attr {\\n    key: &quot;out_type&quot;\\n    value {\\n      type: DT_INT32\\n    }\\n  }\\n}\\nnode {\\n  name: &quot;mean_squared_error/num_present/broadcast_weights/assert_broadcastable/values/rank&quot;\\n  op: &quot;Const&quot;\\n  input: &quot;^mean_squared_error/assert_broadcastable/static_scalar_check_success&quot;\\n  attr {\\n    key: &quot;dtype&quot;\\n    value {\\n      type: DT_INT32\\n    }\\n  }\\n  attr {\\n    key: &quot;value&quot;\\n    value {\\n      tensor {\\n        dtype: DT_INT32\\n        tensor_shape {\\n        }\\n        int_val: 2\\n      }\\n    }\\n  }\\n}\\nnode {\\n  name: &quot;mean_squared_error/num_present/broadcast_weights/assert_broadcastable/static_scalar_check_success&quot;\\n  op: &quot;NoOp&quot;\\n  input: &quot;^mean_squared_error/assert_broadcastable/static_scalar_check_success&quot;\\n}\\nnode {\\n  name: &quot;mean_squared_error/num_present/broadcast_weights/ones_like/Shape&quot;\\n  op: &quot;Shape&quot;\\n  input: &quot;mean_squared_error/SquaredDifference&quot;\\n  input: &quot;^mean_squared_error/assert_broadcastable/static_scalar_check_success&quot;\\n  input: &quot;^mean_squared_error/num_present/broadcast_weights/assert_broadcastable/static_scalar_check_success&quot;\\n  attr {\\n    key: &quot;T&quot;\\n    value {\\n      type: DT_FLOAT\\n    }\\n  }\\n  attr {\\n    key: &quot;out_type&quot;\\n    value {\\n      type: DT_INT32\\n    }\\n  }\\n}\\nnode {\\n  name: &quot;mean_squared_error/num_present/broadcast_weights/ones_like/Const&quot;\\n  op: &quot;Const&quot;\\n  input: &quot;^mean_squared_error/assert_broadcastable/static_scalar_check_success&quot;\\n  input: &quot;^mean_squared_error/num_present/broadcast_weights/assert_broadcastable/static_scalar_check_success&quot;\\n  attr {\\n    key: &quot;dtype&quot;\\n    value {\\n      type: DT_FLOAT\\n    }\\n  }\\n  attr {\\n    key: &quot;value&quot;\\n    value {\\n      tensor {\\n        dtype: DT_FLOAT\\n        tensor_shape {\\n        }\\n        float_val: 1.0\\n      }\\n    }\\n  }\\n}\\nnode {\\n  name: &quot;mean_squared_error/num_present/broadcast_weights/ones_like&quot;\\n  op: &quot;Fill&quot;\\n  input: &quot;mean_squared_error/num_present/broadcast_weights/ones_like/Shape&quot;\\n  input: &quot;mean_squared_error/num_present/broadcast_weights/ones_like/Const&quot;\\n  attr {\\n    key: &quot;T&quot;\\n    value {\\n      type: DT_FLOAT\\n    }\\n  }\\n}\\nnode {\\n  name: &quot;mean_squared_error/num_present/broadcast_weights&quot;\\n  op: &quot;Mul&quot;\\n  input: &quot;mean_squared_error/num_present/Select&quot;\\n  input: &quot;mean_squared_error/num_present/broadcast_weights/ones_like&quot;\\n  attr {\\n    key: &quot;T&quot;\\n    value {\\n      type: DT_FLOAT\\n    }\\n  }\\n}\\nnode {\\n  name: &quot;mean_squared_error/num_present/Const&quot;\\n  op: &quot;Const&quot;\\n  input: &quot;^mean_squared_error/assert_broadcastable/static_scalar_check_success&quot;\\n  attr {\\n    key: &quot;dtype&quot;\\n    value {\\n      type: DT_INT32\\n    }\\n  }\\n  attr {\\n    key: &quot;value&quot;\\n    value {\\n      tensor {\\n        dtype: DT_INT32\\n        tensor_shape {\\n          dim {\\n            size: 2\\n          }\\n        }\\n        tensor_content: &quot;\\\\000\\\\000\\\\000\\\\000\\\\001\\\\000\\\\000\\\\000&quot;\\n      }\\n    }\\n  }\\n}\\nnode {\\n  name: &quot;mean_squared_error/num_present&quot;\\n  op: &quot;Sum&quot;\\n  input: &quot;mean_squared_error/num_present/broadcast_weights&quot;\\n  input: &quot;mean_squared_error/num_present/Const&quot;\\n  attr {\\n    key: &quot;T&quot;\\n    value {\\n      type: DT_FLOAT\\n    }\\n  }\\n  attr {\\n    key: &quot;Tidx&quot;\\n    value {\\n      type: DT_INT32\\n    }\\n  }\\n  attr {\\n    key: &quot;keep_dims&quot;\\n    value {\\n      b: false\\n    }\\n  }\\n}\\nnode {\\n  name: &quot;mean_squared_error/Const_1&quot;\\n  op: &quot;Const&quot;\\n  input: &quot;^mean_squared_error/assert_broadcastable/static_scalar_check_success&quot;\\n  attr {\\n    key: &quot;dtype&quot;\\n    value {\\n      type: DT_INT32\\n    }\\n  }\\n  attr {\\n    key: &quot;value&quot;\\n    value {\\n      tensor {\\n        dtype: DT_INT32\\n        tensor_shape {\\n          dim {\\n          }\\n        }\\n      }\\n    }\\n  }\\n}\\nnode {\\n  name: &quot;mean_squared_error/Sum_1&quot;\\n  op: &quot;Sum&quot;\\n  input: &quot;mean_squared_error/Sum&quot;\\n  input: &quot;mean_squared_error/Const_1&quot;\\n  attr {\\n    key: &quot;T&quot;\\n    value {\\n      type: DT_FLOAT\\n    }\\n  }\\n  attr {\\n    key: &quot;Tidx&quot;\\n    value {\\n      type: DT_INT32\\n    }\\n  }\\n  attr {\\n    key: &quot;keep_dims&quot;\\n    value {\\n      b: false\\n    }\\n  }\\n}\\nnode {\\n  name: &quot;mean_squared_error/Greater/y&quot;\\n  op: &quot;Const&quot;\\n  input: &quot;^mean_squared_error/assert_broadcastable/static_scalar_check_success&quot;\\n  attr {\\n    key: &quot;dtype&quot;\\n    value {\\n      type: DT_FLOAT\\n    }\\n  }\\n  attr {\\n    key: &quot;value&quot;\\n    value {\\n      tensor {\\n        dtype: DT_FLOAT\\n        tensor_shape {\\n        }\\n        float_val: 0.0\\n      }\\n    }\\n  }\\n}\\nnode {\\n  name: &quot;mean_squared_error/Greater&quot;\\n  op: &quot;Greater&quot;\\n  input: &quot;mean_squared_error/num_present&quot;\\n  input: &quot;mean_squared_error/Greater/y&quot;\\n  attr {\\n    key: &quot;T&quot;\\n    value {\\n      type: DT_FLOAT\\n    }\\n  }\\n}\\nnode {\\n  name: &quot;mean_squared_error/Equal/y&quot;\\n  op: &quot;Const&quot;\\n  input: &quot;^mean_squared_error/assert_broadcastable/static_scalar_check_success&quot;\\n  attr {\\n    key: &quot;dtype&quot;\\n    value {\\n      type: DT_FLOAT\\n    }\\n  }\\n  attr {\\n    key: &quot;value&quot;\\n    value {\\n      tensor {\\n        dtype: DT_FLOAT\\n        tensor_shape {\\n        }\\n        float_val: 0.0\\n      }\\n    }\\n  }\\n}\\nnode {\\n  name: &quot;mean_squared_error/Equal&quot;\\n  op: &quot;Equal&quot;\\n  input: &quot;mean_squared_error/num_present&quot;\\n  input: &quot;mean_squared_error/Equal/y&quot;\\n  attr {\\n    key: &quot;T&quot;\\n    value {\\n      type: DT_FLOAT\\n    }\\n  }\\n}\\nnode {\\n  name: &quot;mean_squared_error/ones_like/Shape&quot;\\n  op: &quot;Const&quot;\\n  input: &quot;^mean_squared_error/assert_broadcastable/static_scalar_check_success&quot;\\n  attr {\\n    key: &quot;dtype&quot;\\n    value {\\n      type: DT_INT32\\n    }\\n  }\\n  attr {\\n    key: &quot;value&quot;\\n    value {\\n      tensor {\\n        dtype: DT_INT32\\n        tensor_shape {\\n          dim {\\n          }\\n        }\\n      }\\n    }\\n  }\\n}\\nnode {\\n  name: &quot;mean_squared_error/ones_like/Const&quot;\\n  op: &quot;Const&quot;\\n  input: &quot;^mean_squared_error/assert_broadcastable/static_scalar_check_success&quot;\\n  attr {\\n    key: &quot;dtype&quot;\\n    value {\\n      type: DT_FLOAT\\n    }\\n  }\\n  attr {\\n    key: &quot;value&quot;\\n    value {\\n      tensor {\\n        dtype: DT_FLOAT\\n        tensor_shape {\\n        }\\n        float_val: 1.0\\n      }\\n    }\\n  }\\n}\\nnode {\\n  name: &quot;mean_squared_error/ones_like&quot;\\n  op: &quot;Fill&quot;\\n  input: &quot;mean_squared_error/ones_like/Shape&quot;\\n  input: &quot;mean_squared_error/ones_like/Const&quot;\\n  attr {\\n    key: &quot;T&quot;\\n    value {\\n      type: DT_FLOAT\\n    }\\n  }\\n}\\nnode {\\n  name: &quot;mean_squared_error/Select&quot;\\n  op: &quot;Select&quot;\\n  input: &quot;mean_squared_error/Equal&quot;\\n  input: &quot;mean_squared_error/ones_like&quot;\\n  input: &quot;mean_squared_error/num_present&quot;\\n  attr {\\n    key: &quot;T&quot;\\n    value {\\n      type: DT_FLOAT\\n    }\\n  }\\n}\\nnode {\\n  name: &quot;mean_squared_error/div&quot;\\n  op: &quot;RealDiv&quot;\\n  input: &quot;mean_squared_error/Sum_1&quot;\\n  input: &quot;mean_squared_error/Select&quot;\\n  attr {\\n    key: &quot;T&quot;\\n    value {\\n      type: DT_FLOAT\\n    }\\n  }\\n}\\nnode {\\n  name: &quot;mean_squared_error/zeros_like&quot;\\n  op: &quot;Const&quot;\\n  input: &quot;^mean_squared_error/assert_broadcastable/static_scalar_check_success&quot;\\n  attr {\\n    key: &quot;dtype&quot;\\n    value {\\n      type: DT_FLOAT\\n    }\\n  }\\n  attr {\\n    key: &quot;value&quot;\\n    value {\\n      tensor {\\n        dtype: DT_FLOAT\\n        tensor_shape {\\n        }\\n        float_val: 0.0\\n      }\\n    }\\n  }\\n}\\nnode {\\n  name: &quot;mean_squared_error/value&quot;\\n  op: &quot;Select&quot;\\n  input: &quot;mean_squared_error/Greater&quot;\\n  input: &quot;mean_squared_error/div&quot;\\n  input: &quot;mean_squared_error/zeros_like&quot;\\n  attr {\\n    key: &quot;T&quot;\\n    value {\\n      type: DT_FLOAT\\n    }\\n  }\\n}\\nnode {\\n  name: &quot;gradients/Shape&quot;\\n  op: &quot;Const&quot;\\n  attr {\\n    key: &quot;dtype&quot;\\n    value {\\n      type: DT_INT32\\n    }\\n  }\\n  attr {\\n    key: &quot;value&quot;\\n    value {\\n      tensor {\\n        dtype: DT_INT32\\n        tensor_shape {\\n          dim {\\n          }\\n        }\\n      }\\n    }\\n  }\\n}\\nnode {\\n  name: &quot;gradients/Const&quot;\\n  op: &quot;Const&quot;\\n  attr {\\n    key: &quot;dtype&quot;\\n    value {\\n      type: DT_FLOAT\\n    }\\n  }\\n  attr {\\n    key: &quot;value&quot;\\n    value {\\n      tensor {\\n        dtype: DT_FLOAT\\n        tensor_shape {\\n        }\\n        float_val: 1.0\\n      }\\n    }\\n  }\\n}\\nnode {\\n  name: &quot;gradients/Fill&quot;\\n  op: &quot;Fill&quot;\\n  input: &quot;gradients/Shape&quot;\\n  input: &quot;gradients/Const&quot;\\n  attr {\\n    key: &quot;T&quot;\\n    value {\\n      type: DT_FLOAT\\n    }\\n  }\\n}\\nnode {\\n  name: &quot;gradients/mean_squared_error/value_grad/zeros_like&quot;\\n  op: &quot;Const&quot;\\n  attr {\\n    key: &quot;dtype&quot;\\n    value {\\n      type: DT_FLOAT\\n    }\\n  }\\n  attr {\\n    key: &quot;value&quot;\\n    value {\\n      tensor {\\n        dtype: DT_FLOAT\\n        tensor_shape {\\n        }\\n        float_val: 0.0\\n      }\\n    }\\n  }\\n}\\nnode {\\n  name: &quot;gradients/mean_squared_error/value_grad/Select&quot;\\n  op: &quot;Select&quot;\\n  input: &quot;mean_squared_error/Greater&quot;\\n  input: &quot;gradients/Fill&quot;\\n  input: &quot;gradients/mean_squared_error/value_grad/zeros_like&quot;\\n  attr {\\n    key: &quot;T&quot;\\n    value {\\n      type: DT_FLOAT\\n    }\\n  }\\n}\\nnode {\\n  name: &quot;gradients/mean_squared_error/value_grad/Select_1&quot;\\n  op: &quot;Select&quot;\\n  input: &quot;mean_squared_error/Greater&quot;\\n  input: &quot;gradients/mean_squared_error/value_grad/zeros_like&quot;\\n  input: &quot;gradients/Fill&quot;\\n  attr {\\n    key: &quot;T&quot;\\n    value {\\n      type: DT_FLOAT\\n    }\\n  }\\n}\\nnode {\\n  name: &quot;gradients/mean_squared_error/value_grad/tuple/group_deps&quot;\\n  op: &quot;NoOp&quot;\\n  input: &quot;^gradients/mean_squared_error/value_grad/Select&quot;\\n  input: &quot;^gradients/mean_squared_error/value_grad/Select_1&quot;\\n}\\nnode {\\n  name: &quot;gradients/mean_squared_error/value_grad/tuple/control_dependency&quot;\\n  op: &quot;Identity&quot;\\n  input: &quot;gradients/mean_squared_error/value_grad/Select&quot;\\n  input: &quot;^gradients/mean_squared_error/value_grad/tuple/group_deps&quot;\\n  attr {\\n    key: &quot;T&quot;\\n    value {\\n      type: DT_FLOAT\\n    }\\n  }\\n  attr {\\n    key: &quot;_class&quot;\\n    value {\\n      list {\\n        s: &quot;loc:@gradients/mean_squared_error/value_grad/Select&quot;\\n      }\\n    }\\n  }\\n}\\nnode {\\n  name: &quot;gradients/mean_squared_error/value_grad/tuple/control_dependency_1&quot;\\n  op: &quot;Identity&quot;\\n  input: &quot;gradients/mean_squared_error/value_grad/Select_1&quot;\\n  input: &quot;^gradients/mean_squared_error/value_grad/tuple/group_deps&quot;\\n  attr {\\n    key: &quot;T&quot;\\n    value {\\n      type: DT_FLOAT\\n    }\\n  }\\n  attr {\\n    key: &quot;_class&quot;\\n    value {\\n      list {\\n        s: &quot;loc:@gradients/mean_squared_error/value_grad/Select_1&quot;\\n      }\\n    }\\n  }\\n}\\nnode {\\n  name: &quot;gradients/mean_squared_error/div_grad/Shape&quot;\\n  op: &quot;Const&quot;\\n  attr {\\n    key: &quot;dtype&quot;\\n    value {\\n      type: DT_INT32\\n    }\\n  }\\n  attr {\\n    key: &quot;value&quot;\\n    value {\\n      tensor {\\n        dtype: DT_INT32\\n        tensor_shape {\\n          dim {\\n          }\\n        }\\n      }\\n    }\\n  }\\n}\\nnode {\\n  name: &quot;gradients/mean_squared_error/div_grad/Shape_1&quot;\\n  op: &quot;Const&quot;\\n  attr {\\n    key: &quot;dtype&quot;\\n    value {\\n      type: DT_INT32\\n    }\\n  }\\n  attr {\\n    key: &quot;value&quot;\\n    value {\\n      tensor {\\n        dtype: DT_INT32\\n        tensor_shape {\\n          dim {\\n          }\\n        }\\n      }\\n    }\\n  }\\n}\\nnode {\\n  name: &quot;gradients/mean_squared_error/div_grad/BroadcastGradientArgs&quot;\\n  op: &quot;BroadcastGradientArgs&quot;\\n  input: &quot;gradients/mean_squared_error/div_grad/Shape&quot;\\n  input: &quot;gradients/mean_squared_error/div_grad/Shape_1&quot;\\n  attr {\\n    key: &quot;T&quot;\\n    value {\\n      type: DT_INT32\\n    }\\n  }\\n}\\nnode {\\n  name: &quot;gradients/mean_squared_error/div_grad/RealDiv&quot;\\n  op: &quot;RealDiv&quot;\\n  input: &quot;gradients/mean_squared_error/value_grad/tuple/control_dependency&quot;\\n  input: &quot;mean_squared_error/Select&quot;\\n  attr {\\n    key: &quot;T&quot;\\n    value {\\n      type: DT_FLOAT\\n    }\\n  }\\n}\\nnode {\\n  name: &quot;gradients/mean_squared_error/div_grad/Sum&quot;\\n  op: &quot;Sum&quot;\\n  input: &quot;gradients/mean_squared_error/div_grad/RealDiv&quot;\\n  input: &quot;gradients/mean_squared_error/div_grad/BroadcastGradientArgs&quot;\\n  attr {\\n    key: &quot;T&quot;\\n    value {\\n      type: DT_FLOAT\\n    }\\n  }\\n  attr {\\n    key: &quot;Tidx&quot;\\n    value {\\n      type: DT_INT32\\n    }\\n  }\\n  attr {\\n    key: &quot;keep_dims&quot;\\n    value {\\n      b: false\\n    }\\n  }\\n}\\nnode {\\n  name: &quot;gradients/mean_squared_error/div_grad/Reshape&quot;\\n  op: &quot;Reshape&quot;\\n  input: &quot;gradients/mean_squared_error/div_grad/Sum&quot;\\n  input: &quot;gradients/mean_squared_error/div_grad/Shape&quot;\\n  attr {\\n    key: &quot;T&quot;\\n    value {\\n      type: DT_FLOAT\\n    }\\n  }\\n  attr {\\n    key: &quot;Tshape&quot;\\n    value {\\n      type: DT_INT32\\n    }\\n  }\\n}\\nnode {\\n  name: &quot;gradients/mean_squared_error/div_grad/Neg&quot;\\n  op: &quot;Neg&quot;\\n  input: &quot;mean_squared_error/Sum_1&quot;\\n  attr {\\n    key: &quot;T&quot;\\n    value {\\n      type: DT_FLOAT\\n    }\\n  }\\n}\\nnode {\\n  name: &quot;gradients/mean_squared_error/div_grad/RealDiv_1&quot;\\n  op: &quot;RealDiv&quot;\\n  input: &quot;gradients/mean_squared_error/div_grad/Neg&quot;\\n  input: &quot;mean_squared_error/Select&quot;\\n  attr {\\n    key: &quot;T&quot;\\n    value {\\n      type: DT_FLOAT\\n    }\\n  }\\n}\\nnode {\\n  name: &quot;gradients/mean_squared_error/div_grad/RealDiv_2&quot;\\n  op: &quot;RealDiv&quot;\\n  input: &quot;gradients/mean_squared_error/div_grad/RealDiv_1&quot;\\n  input: &quot;mean_squared_error/Select&quot;\\n  attr {\\n    key: &quot;T&quot;\\n    value {\\n      type: DT_FLOAT\\n    }\\n  }\\n}\\nnode {\\n  name: &quot;gradients/mean_squared_error/div_grad/mul&quot;\\n  op: &quot;Mul&quot;\\n  input: &quot;gradients/mean_squared_error/value_grad/tuple/control_dependency&quot;\\n  input: &quot;gradients/mean_squared_error/div_grad/RealDiv_2&quot;\\n  attr {\\n    key: &quot;T&quot;\\n    value {\\n      type: DT_FLOAT\\n    }\\n  }\\n}\\nnode {\\n  name: &quot;gradients/mean_squared_error/div_grad/Sum_1&quot;\\n  op: &quot;Sum&quot;\\n  input: &quot;gradients/mean_squared_error/div_grad/mul&quot;\\n  input: &quot;gradients/mean_squared_error/div_grad/BroadcastGradientArgs:1&quot;\\n  attr {\\n    key: &quot;T&quot;\\n    value {\\n      type: DT_FLOAT\\n    }\\n  }\\n  attr {\\n    key: &quot;Tidx&quot;\\n    value {\\n      type: DT_INT32\\n    }\\n  }\\n  attr {\\n    key: &quot;keep_dims&quot;\\n    value {\\n      b: false\\n    }\\n  }\\n}\\nnode {\\n  name: &quot;gradients/mean_squared_error/div_grad/Reshape_1&quot;\\n  op: &quot;Reshape&quot;\\n  input: &quot;gradients/mean_squared_error/div_grad/Sum_1&quot;\\n  input: &quot;gradients/mean_squared_error/div_grad/Shape_1&quot;\\n  attr {\\n    key: &quot;T&quot;\\n    value {\\n      type: DT_FLOAT\\n    }\\n  }\\n  attr {\\n    key: &quot;Tshape&quot;\\n    value {\\n      type: DT_INT32\\n    }\\n  }\\n}\\nnode {\\n  name: &quot;gradients/mean_squared_error/div_grad/tuple/group_deps&quot;\\n  op: &quot;NoOp&quot;\\n  input: &quot;^gradients/mean_squared_error/div_grad/Reshape&quot;\\n  input: &quot;^gradients/mean_squared_error/div_grad/Reshape_1&quot;\\n}\\nnode {\\n  name: &quot;gradients/mean_squared_error/div_grad/tuple/control_dependency&quot;\\n  op: &quot;Identity&quot;\\n  input: &quot;gradients/mean_squared_error/div_grad/Reshape&quot;\\n  input: &quot;^gradients/mean_squared_error/div_grad/tuple/group_deps&quot;\\n  attr {\\n    key: &quot;T&quot;\\n    value {\\n      type: DT_FLOAT\\n    }\\n  }\\n  attr {\\n    key: &quot;_class&quot;\\n    value {\\n      list {\\n        s: &quot;loc:@gradients/mean_squared_error/div_grad/Reshape&quot;\\n      }\\n    }\\n  }\\n}\\nnode {\\n  name: &quot;gradients/mean_squared_error/div_grad/tuple/control_dependency_1&quot;\\n  op: &quot;Identity&quot;\\n  input: &quot;gradients/mean_squared_error/div_grad/Reshape_1&quot;\\n  input: &quot;^gradients/mean_squared_error/div_grad/tuple/group_deps&quot;\\n  attr {\\n    key: &quot;T&quot;\\n    value {\\n      type: DT_FLOAT\\n    }\\n  }\\n  attr {\\n    key: &quot;_class&quot;\\n    value {\\n      list {\\n        s: &quot;loc:@gradients/mean_squared_error/div_grad/Reshape_1&quot;\\n      }\\n    }\\n  }\\n}\\nnode {\\n  name: &quot;gradients/mean_squared_error/Sum_1_grad/Reshape/shape&quot;\\n  op: &quot;Const&quot;\\n  attr {\\n    key: &quot;dtype&quot;\\n    value {\\n      type: DT_INT32\\n    }\\n  }\\n  attr {\\n    key: &quot;value&quot;\\n    value {\\n      tensor {\\n        dtype: DT_INT32\\n        tensor_shape {\\n          dim {\\n          }\\n        }\\n      }\\n    }\\n  }\\n}\\nnode {\\n  name: &quot;gradients/mean_squared_error/Sum_1_grad/Reshape&quot;\\n  op: &quot;Reshape&quot;\\n  input: &quot;gradients/mean_squared_error/div_grad/tuple/control_dependency&quot;\\n  input: &quot;gradients/mean_squared_error/Sum_1_grad/Reshape/shape&quot;\\n  attr {\\n    key: &quot;T&quot;\\n    value {\\n      type: DT_FLOAT\\n    }\\n  }\\n  attr {\\n    key: &quot;Tshape&quot;\\n    value {\\n      type: DT_INT32\\n    }\\n  }\\n}\\nnode {\\n  name: &quot;gradients/mean_squared_error/Sum_1_grad/Tile/multiples&quot;\\n  op: &quot;Const&quot;\\n  attr {\\n    key: &quot;dtype&quot;\\n    value {\\n      type: DT_INT32\\n    }\\n  }\\n  attr {\\n    key: &quot;value&quot;\\n    value {\\n      tensor {\\n        dtype: DT_INT32\\n        tensor_shape {\\n          dim {\\n          }\\n        }\\n      }\\n    }\\n  }\\n}\\nnode {\\n  name: &quot;gradients/mean_squared_error/Sum_1_grad/Tile&quot;\\n  op: &quot;Tile&quot;\\n  input: &quot;gradients/mean_squared_error/Sum_1_grad/Reshape&quot;\\n  input: &quot;gradients/mean_squared_error/Sum_1_grad/Tile/multiples&quot;\\n  attr {\\n    key: &quot;T&quot;\\n    value {\\n      type: DT_FLOAT\\n    }\\n  }\\n  attr {\\n    key: &quot;Tmultiples&quot;\\n    value {\\n      type: DT_INT32\\n    }\\n  }\\n}\\nnode {\\n  name: &quot;gradients/mean_squared_error/Select_grad/zeros_like&quot;\\n  op: &quot;Const&quot;\\n  attr {\\n    key: &quot;dtype&quot;\\n    value {\\n      type: DT_FLOAT\\n    }\\n  }\\n  attr {\\n    key: &quot;value&quot;\\n    value {\\n      tensor {\\n        dtype: DT_FLOAT\\n        tensor_shape {\\n        }\\n        float_val: 0.0\\n      }\\n    }\\n  }\\n}\\nnode {\\n  name: &quot;gradients/mean_squared_error/Select_grad/Select&quot;\\n  op: &quot;Select&quot;\\n  input: &quot;mean_squared_error/Equal&quot;\\n  input: &quot;gradients/mean_squared_error/div_grad/tuple/control_dependency_1&quot;\\n  input: &quot;gradients/mean_squared_error/Select_grad/zeros_like&quot;\\n  attr {\\n    key: &quot;T&quot;\\n    value {\\n      type: DT_FLOAT\\n    }\\n  }\\n}\\nnode {\\n  name: &quot;gradients/mean_squared_error/Select_grad/Select_1&quot;\\n  op: &quot;Select&quot;\\n  input: &quot;mean_squared_error/Equal&quot;\\n  input: &quot;gradients/mean_squared_error/Select_grad/zeros_like&quot;\\n  input: &quot;gradients/mean_squared_error/div_grad/tuple/control_dependency_1&quot;\\n  attr {\\n    key: &quot;T&quot;\\n    value {\\n      type: DT_FLOAT\\n    }\\n  }\\n}\\nnode {\\n  name: &quot;gradients/mean_squared_error/Select_grad/tuple/group_deps&quot;\\n  op: &quot;NoOp&quot;\\n  input: &quot;^gradients/mean_squared_error/Select_grad/Select&quot;\\n  input: &quot;^gradients/mean_squared_error/Select_grad/Select_1&quot;\\n}\\nnode {\\n  name: &quot;gradients/mean_squared_error/Select_grad/tuple/control_dependency&quot;\\n  op: &quot;Identity&quot;\\n  input: &quot;gradients/mean_squared_error/Select_grad/Select&quot;\\n  input: &quot;^gradients/mean_squared_error/Select_grad/tuple/group_deps&quot;\\n  attr {\\n    key: &quot;T&quot;\\n    value {\\n      type: DT_FLOAT\\n    }\\n  }\\n  attr {\\n    key: &quot;_class&quot;\\n    value {\\n      list {\\n        s: &quot;loc:@gradients/mean_squared_error/Select_grad/Select&quot;\\n      }\\n    }\\n  }\\n}\\nnode {\\n  name: &quot;gradients/mean_squared_error/Select_grad/tuple/control_dependency_1&quot;\\n  op: &quot;Identity&quot;\\n  input: &quot;gradients/mean_squared_error/Select_grad/Select_1&quot;\\n  input: &quot;^gradients/mean_squared_error/Select_grad/tuple/group_deps&quot;\\n  attr {\\n    key: &quot;T&quot;\\n    value {\\n      type: DT_FLOAT\\n    }\\n  }\\n  attr {\\n    key: &quot;_class&quot;\\n    value {\\n      list {\\n        s: &quot;loc:@gradients/mean_squared_error/Select_grad/Select_1&quot;\\n      }\\n    }\\n  }\\n}\\nnode {\\n  name: &quot;gradients/mean_squared_error/Sum_grad/Reshape/shape&quot;\\n  op: &quot;Const&quot;\\n  attr {\\n    key: &quot;dtype&quot;\\n    value {\\n      type: DT_INT32\\n    }\\n  }\\n  attr {\\n    key: &quot;value&quot;\\n    value {\\n      tensor {\\n        dtype: DT_INT32\\n        tensor_shape {\\n          dim {\\n            size: 2\\n          }\\n        }\\n        tensor_content: &quot;\\\\001\\\\000\\\\000\\\\000\\\\001\\\\000\\\\000\\\\000&quot;\\n      }\\n    }\\n  }\\n}\\nnode {\\n  name: &quot;gradients/mean_squared_error/Sum_grad/Reshape&quot;\\n  op: &quot;Reshape&quot;\\n  input: &quot;gradients/mean_squared_error/Sum_1_grad/Tile&quot;\\n  input: &quot;gradients/mean_squared_error/Sum_grad/Reshape/shape&quot;\\n  attr {\\n    key: &quot;T&quot;\\n    value {\\n      type: DT_FLOAT\\n    }\\n  }\\n  attr {\\n    key: &quot;Tshape&quot;\\n    value {\\n      type: DT_INT32\\n    }\\n  }\\n}\\nnode {\\n  name: &quot;gradients/mean_squared_error/Sum_grad/Shape&quot;\\n  op: &quot;Shape&quot;\\n  input: &quot;mean_squared_error/Mul&quot;\\n  attr {\\n    key: &quot;T&quot;\\n    value {\\n      type: DT_FLOAT\\n    }\\n  }\\n  attr {\\n    key: &quot;out_type&quot;\\n    value {\\n      type: DT_INT32\\n    }\\n  }\\n}\\nnode {\\n  name: &quot;gradients/mean_squared_error/Sum_grad/Tile&quot;\\n  op: &quot;Tile&quot;\\n  input: &quot;gradients/mean_squared_error/Sum_grad/Reshape&quot;\\n  input: &quot;gradients/mean_squared_error/Sum_grad/Shape&quot;\\n  attr {\\n    key: &quot;T&quot;\\n    value {\\n      type: DT_FLOAT\\n    }\\n  }\\n  attr {\\n    key: &quot;Tmultiples&quot;\\n    value {\\n      type: DT_INT32\\n    }\\n  }\\n}\\nnode {\\n  name: &quot;gradients/mean_squared_error/Mul_grad/Shape&quot;\\n  op: &quot;Shape&quot;\\n  input: &quot;mean_squared_error/SquaredDifference&quot;\\n  attr {\\n    key: &quot;T&quot;\\n    value {\\n      type: DT_FLOAT\\n    }\\n  }\\n  attr {\\n    key: &quot;out_type&quot;\\n    value {\\n      type: DT_INT32\\n    }\\n  }\\n}\\nnode {\\n  name: &quot;gradients/mean_squared_error/Mul_grad/Shape_1&quot;\\n  op: &quot;Const&quot;\\n  attr {\\n    key: &quot;dtype&quot;\\n    value {\\n      type: DT_INT32\\n    }\\n  }\\n  attr {\\n    key: &quot;value&quot;\\n    value {\\n      tensor {\\n        dtype: DT_INT32\\n        tensor_shape {\\n          dim {\\n          }\\n        }\\n      }\\n    }\\n  }\\n}\\nnode {\\n  name: &quot;gradients/mean_squared_error/Mul_grad/BroadcastGradientArgs&quot;\\n  op: &quot;BroadcastGradientArgs&quot;\\n  input: &quot;gradients/mean_squared_error/Mul_grad/Shape&quot;\\n  input: &quot;gradients/mean_squared_error/Mul_grad/Shape_1&quot;\\n  attr {\\n    key: &quot;T&quot;\\n    value {\\n      type: DT_INT32\\n    }\\n  }\\n}\\nnode {\\n  name: &quot;gradients/mean_squared_error/Mul_grad/mul&quot;\\n  op: &quot;Mul&quot;\\n  input: &quot;gradients/mean_squared_error/Sum_grad/Tile&quot;\\n  input: &quot;mean_squared_error/ToFloat_3/x&quot;\\n  attr {\\n    key: &quot;T&quot;\\n    value {\\n      type: DT_FLOAT\\n    }\\n  }\\n}\\nnode {\\n  name: &quot;gradients/mean_squared_error/Mul_grad/Sum&quot;\\n  op: &quot;Sum&quot;\\n  input: &quot;gradients/mean_squared_error/Mul_grad/mul&quot;\\n  input: &quot;gradients/mean_squared_error/Mul_grad/BroadcastGradientArgs&quot;\\n  attr {\\n    key: &quot;T&quot;\\n    value {\\n      type: DT_FLOAT\\n    }\\n  }\\n  attr {\\n    key: &quot;Tidx&quot;\\n    value {\\n      type: DT_INT32\\n    }\\n  }\\n  attr {\\n    key: &quot;keep_dims&quot;\\n    value {\\n      b: false\\n    }\\n  }\\n}\\nnode {\\n  name: &quot;gradients/mean_squared_error/Mul_grad/Reshape&quot;\\n  op: &quot;Reshape&quot;\\n  input: &quot;gradients/mean_squared_error/Mul_grad/Sum&quot;\\n  input: &quot;gradients/mean_squared_error/Mul_grad/Shape&quot;\\n  attr {\\n    key: &quot;T&quot;\\n    value {\\n      type: DT_FLOAT\\n    }\\n  }\\n  attr {\\n    key: &quot;Tshape&quot;\\n    value {\\n      type: DT_INT32\\n    }\\n  }\\n}\\nnode {\\n  name: &quot;gradients/mean_squared_error/Mul_grad/mul_1&quot;\\n  op: &quot;Mul&quot;\\n  input: &quot;mean_squared_error/SquaredDifference&quot;\\n  input: &quot;gradients/mean_squared_error/Sum_grad/Tile&quot;\\n  attr {\\n    key: &quot;T&quot;\\n    value {\\n      type: DT_FLOAT\\n    }\\n  }\\n}\\nnode {\\n  name: &quot;gradients/mean_squared_error/Mul_grad/Sum_1&quot;\\n  op: &quot;Sum&quot;\\n  input: &quot;gradients/mean_squared_error/Mul_grad/mul_1&quot;\\n  input: &quot;gradients/mean_squared_error/Mul_grad/BroadcastGradientArgs:1&quot;\\n  attr {\\n    key: &quot;T&quot;\\n    value {\\n      type: DT_FLOAT\\n    }\\n  }\\n  attr {\\n    key: &quot;Tidx&quot;\\n    value {\\n      type: DT_INT32\\n    }\\n  }\\n  attr {\\n    key: &quot;keep_dims&quot;\\n    value {\\n      b: false\\n    }\\n  }\\n}\\nnode {\\n  name: &quot;gradients/mean_squared_error/Mul_grad/Reshape_1&quot;\\n  op: &quot;Reshape&quot;\\n  input: &quot;gradients/mean_squared_error/Mul_grad/Sum_1&quot;\\n  input: &quot;gradients/mean_squared_error/Mul_grad/Shape_1&quot;\\n  attr {\\n    key: &quot;T&quot;\\n    value {\\n      type: DT_FLOAT\\n    }\\n  }\\n  attr {\\n    key: &quot;Tshape&quot;\\n    value {\\n      type: DT_INT32\\n    }\\n  }\\n}\\nnode {\\n  name: &quot;gradients/mean_squared_error/Mul_grad/tuple/group_deps&quot;\\n  op: &quot;NoOp&quot;\\n  input: &quot;^gradients/mean_squared_error/Mul_grad/Reshape&quot;\\n  input: &quot;^gradients/mean_squared_error/Mul_grad/Reshape_1&quot;\\n}\\nnode {\\n  name: &quot;gradients/mean_squared_error/Mul_grad/tuple/control_dependency&quot;\\n  op: &quot;Identity&quot;\\n  input: &quot;gradients/mean_squared_error/Mul_grad/Reshape&quot;\\n  input: &quot;^gradients/mean_squared_error/Mul_grad/tuple/group_deps&quot;\\n  attr {\\n    key: &quot;T&quot;\\n    value {\\n      type: DT_FLOAT\\n    }\\n  }\\n  attr {\\n    key: &quot;_class&quot;\\n    value {\\n      list {\\n        s: &quot;loc:@gradients/mean_squared_error/Mul_grad/Reshape&quot;\\n      }\\n    }\\n  }\\n}\\nnode {\\n  name: &quot;gradients/mean_squared_error/Mul_grad/tuple/control_dependency_1&quot;\\n  op: &quot;Identity&quot;\\n  input: &quot;gradients/mean_squared_error/Mul_grad/Reshape_1&quot;\\n  input: &quot;^gradients/mean_squared_error/Mul_grad/tuple/group_deps&quot;\\n  attr {\\n    key: &quot;T&quot;\\n    value {\\n      type: DT_FLOAT\\n    }\\n  }\\n  attr {\\n    key: &quot;_class&quot;\\n    value {\\n      list {\\n        s: &quot;loc:@gradients/mean_squared_error/Mul_grad/Reshape_1&quot;\\n      }\\n    }\\n  }\\n}\\nnode {\\n  name: &quot;gradients/mean_squared_error/num_present_grad/Reshape/shape&quot;\\n  op: &quot;Const&quot;\\n  attr {\\n    key: &quot;dtype&quot;\\n    value {\\n      type: DT_INT32\\n    }\\n  }\\n  attr {\\n    key: &quot;value&quot;\\n    value {\\n      tensor {\\n        dtype: DT_INT32\\n        tensor_shape {\\n          dim {\\n            size: 2\\n          }\\n        }\\n        tensor_content: &quot;\\\\001\\\\000\\\\000\\\\000\\\\001\\\\000\\\\000\\\\000&quot;\\n      }\\n    }\\n  }\\n}\\nnode {\\n  name: &quot;gradients/mean_squared_error/num_present_grad/Reshape&quot;\\n  op: &quot;Reshape&quot;\\n  input: &quot;gradients/mean_squared_error/Select_grad/tuple/control_dependency_1&quot;\\n  input: &quot;gradients/mean_squared_error/num_present_grad/Reshape/shape&quot;\\n  attr {\\n    key: &quot;T&quot;\\n    value {\\n      type: DT_FLOAT\\n    }\\n  }\\n  attr {\\n    key: &quot;Tshape&quot;\\n    value {\\n      type: DT_INT32\\n    }\\n  }\\n}\\nnode {\\n  name: &quot;gradients/mean_squared_error/num_present_grad/Shape&quot;\\n  op: &quot;Shape&quot;\\n  input: &quot;mean_squared_error/num_present/broadcast_weights&quot;\\n  attr {\\n    key: &quot;T&quot;\\n    value {\\n      type: DT_FLOAT\\n    }\\n  }\\n  attr {\\n    key: &quot;out_type&quot;\\n    value {\\n      type: DT_INT32\\n    }\\n  }\\n}\\nnode {\\n  name: &quot;gradients/mean_squared_error/num_present_grad/Tile&quot;\\n  op: &quot;Tile&quot;\\n  input: &quot;gradients/mean_squared_error/num_present_grad/Reshape&quot;\\n  input: &quot;gradients/mean_squared_error/num_present_grad/Shape&quot;\\n  attr {\\n    key: &quot;T&quot;\\n    value {\\n      type: DT_FLOAT\\n    }\\n  }\\n  attr {\\n    key: &quot;Tmultiples&quot;\\n    value {\\n      type: DT_INT32\\n    }\\n  }\\n}\\nnode {\\n  name: &quot;gradients/mean_squared_error/num_present/broadcast_weights_grad/Shape&quot;\\n  op: &quot;Const&quot;\\n  attr {\\n    key: &quot;dtype&quot;\\n    value {\\n      type: DT_INT32\\n    }\\n  }\\n  attr {\\n    key: &quot;value&quot;\\n    value {\\n      tensor {\\n        dtype: DT_INT32\\n        tensor_shape {\\n          dim {\\n          }\\n        }\\n      }\\n    }\\n  }\\n}\\nnode {\\n  name: &quot;gradients/mean_squared_error/num_present/broadcast_weights_grad/Shape_1&quot;\\n  op: &quot;Shape&quot;\\n  input: &quot;mean_squared_error/num_present/broadcast_weights/ones_like&quot;\\n  attr {\\n    key: &quot;T&quot;\\n    value {\\n      type: DT_FLOAT\\n    }\\n  }\\n  attr {\\n    key: &quot;out_type&quot;\\n    value {\\n      type: DT_INT32\\n    }\\n  }\\n}\\nnode {\\n  name: &quot;gradients/mean_squared_error/num_present/broadcast_weights_grad/BroadcastGradientArgs&quot;\\n  op: &quot;BroadcastGradientArgs&quot;\\n  input: &quot;gradients/mean_squared_error/num_present/broadcast_weights_grad/Shape&quot;\\n  input: &quot;gradients/mean_squared_error/num_present/broadcast_weights_grad/Shape_1&quot;\\n  attr {\\n    key: &quot;T&quot;\\n    value {\\n      type: DT_INT32\\n    }\\n  }\\n}\\nnode {\\n  name: &quot;gradients/mean_squared_error/num_present/broadcast_weights_grad/mul&quot;\\n  op: &quot;Mul&quot;\\n  input: &quot;gradients/mean_squared_error/num_present_grad/Tile&quot;\\n  input: &quot;mean_squared_error/num_present/broadcast_weights/ones_like&quot;\\n  attr {\\n    key: &quot;T&quot;\\n    value {\\n      type: DT_FLOAT\\n    }\\n  }\\n}\\nnode {\\n  name: &quot;gradients/mean_squared_error/num_present/broadcast_weights_grad/Sum&quot;\\n  op: &quot;Sum&quot;\\n  input: &quot;gradients/mean_squared_error/num_present/broadcast_weights_grad/mul&quot;\\n  input: &quot;gradients/mean_squared_error/num_present/broadcast_weights_grad/BroadcastGradientArgs&quot;\\n  attr {\\n    key: &quot;T&quot;\\n    value {\\n      type: DT_FLOAT\\n    }\\n  }\\n  attr {\\n    key: &quot;Tidx&quot;\\n    value {\\n      type: DT_INT32\\n    }\\n  }\\n  attr {\\n    key: &quot;keep_dims&quot;\\n    value {\\n      b: false\\n    }\\n  }\\n}\\nnode {\\n  name: &quot;gradients/mean_squared_error/num_present/broadcast_weights_grad/Reshape&quot;\\n  op: &quot;Reshape&quot;\\n  input: &quot;gradients/mean_squared_error/num_present/broadcast_weights_grad/Sum&quot;\\n  input: &quot;gradients/mean_squared_error/num_present/broadcast_weights_grad/Shape&quot;\\n  attr {\\n    key: &quot;T&quot;\\n    value {\\n      type: DT_FLOAT\\n    }\\n  }\\n  attr {\\n    key: &quot;Tshape&quot;\\n    value {\\n      type: DT_INT32\\n    }\\n  }\\n}\\nnode {\\n  name: &quot;gradients/mean_squared_error/num_present/broadcast_weights_grad/mul_1&quot;\\n  op: &quot;Mul&quot;\\n  input: &quot;mean_squared_error/num_present/Select&quot;\\n  input: &quot;gradients/mean_squared_error/num_present_grad/Tile&quot;\\n  attr {\\n    key: &quot;T&quot;\\n    value {\\n      type: DT_FLOAT\\n    }\\n  }\\n}\\nnode {\\n  name: &quot;gradients/mean_squared_error/num_present/broadcast_weights_grad/Sum_1&quot;\\n  op: &quot;Sum&quot;\\n  input: &quot;gradients/mean_squared_error/num_present/broadcast_weights_grad/mul_1&quot;\\n  input: &quot;gradients/mean_squared_error/num_present/broadcast_weights_grad/BroadcastGradientArgs:1&quot;\\n  attr {\\n    key: &quot;T&quot;\\n    value {\\n      type: DT_FLOAT\\n    }\\n  }\\n  attr {\\n    key: &quot;Tidx&quot;\\n    value {\\n      type: DT_INT32\\n    }\\n  }\\n  attr {\\n    key: &quot;keep_dims&quot;\\n    value {\\n      b: false\\n    }\\n  }\\n}\\nnode {\\n  name: &quot;gradients/mean_squared_error/num_present/broadcast_weights_grad/Reshape_1&quot;\\n  op: &quot;Reshape&quot;\\n  input: &quot;gradients/mean_squared_error/num_present/broadcast_weights_grad/Sum_1&quot;\\n  input: &quot;gradients/mean_squared_error/num_present/broadcast_weights_grad/Shape_1&quot;\\n  attr {\\n    key: &quot;T&quot;\\n    value {\\n      type: DT_FLOAT\\n    }\\n  }\\n  attr {\\n    key: &quot;Tshape&quot;\\n    value {\\n      type: DT_INT32\\n    }\\n  }\\n}\\nnode {\\n  name: &quot;gradients/mean_squared_error/num_present/broadcast_weights_grad/tuple/group_deps&quot;\\n  op: &quot;NoOp&quot;\\n  input: &quot;^gradients/mean_squared_error/num_present/broadcast_weights_grad/Reshape&quot;\\n  input: &quot;^gradients/mean_squared_error/num_present/broadcast_weights_grad/Reshape_1&quot;\\n}\\nnode {\\n  name: &quot;gradients/mean_squared_error/num_present/broadcast_weights_grad/tuple/control_dependency&quot;\\n  op: &quot;Identity&quot;\\n  input: &quot;gradients/mean_squared_error/num_present/broadcast_weights_grad/Reshape&quot;\\n  input: &quot;^gradients/mean_squared_error/num_present/broadcast_weights_grad/tuple/group_deps&quot;\\n  attr {\\n    key: &quot;T&quot;\\n    value {\\n      type: DT_FLOAT\\n    }\\n  }\\n  attr {\\n    key: &quot;_class&quot;\\n    value {\\n      list {\\n        s: &quot;loc:@gradients/mean_squared_error/num_present/broadcast_weights_grad/Reshape&quot;\\n      }\\n    }\\n  }\\n}\\nnode {\\n  name: &quot;gradients/mean_squared_error/num_present/broadcast_weights_grad/tuple/control_dependency_1&quot;\\n  op: &quot;Identity&quot;\\n  input: &quot;gradients/mean_squared_error/num_present/broadcast_weights_grad/Reshape_1&quot;\\n  input: &quot;^gradients/mean_squared_error/num_present/broadcast_weights_grad/tuple/group_deps&quot;\\n  attr {\\n    key: &quot;T&quot;\\n    value {\\n      type: DT_FLOAT\\n    }\\n  }\\n  attr {\\n    key: &quot;_class&quot;\\n    value {\\n      list {\\n        s: &quot;loc:@gradients/mean_squared_error/num_present/broadcast_weights_grad/Reshape_1&quot;\\n      }\\n    }\\n  }\\n}\\nnode {\\n  name: &quot;gradients/mean_squared_error/num_present/broadcast_weights/ones_like_grad/Const&quot;\\n  op: &quot;Const&quot;\\n  attr {\\n    key: &quot;dtype&quot;\\n    value {\\n      type: DT_INT32\\n    }\\n  }\\n  attr {\\n    key: &quot;value&quot;\\n    value {\\n      tensor {\\n        dtype: DT_INT32\\n        tensor_shape {\\n          dim {\\n            size: 2\\n          }\\n        }\\n        tensor_content: &quot;\\\\000\\\\000\\\\000\\\\000\\\\001\\\\000\\\\000\\\\000&quot;\\n      }\\n    }\\n  }\\n}\\nnode {\\n  name: &quot;gradients/mean_squared_error/num_present/broadcast_weights/ones_like_grad/Sum&quot;\\n  op: &quot;Sum&quot;\\n  input: &quot;gradients/mean_squared_error/num_present/broadcast_weights_grad/tuple/control_dependency_1&quot;\\n  input: &quot;gradients/mean_squared_error/num_present/broadcast_weights/ones_like_grad/Const&quot;\\n  attr {\\n    key: &quot;T&quot;\\n    value {\\n      type: DT_FLOAT\\n    }\\n  }\\n  attr {\\n    key: &quot;Tidx&quot;\\n    value {\\n      type: DT_INT32\\n    }\\n  }\\n  attr {\\n    key: &quot;keep_dims&quot;\\n    value {\\n      b: false\\n    }\\n  }\\n}\\nnode {\\n  name: &quot;gradients/mean_squared_error/SquaredDifference_grad/Shape&quot;\\n  op: &quot;Shape&quot;\\n  input: &quot;prediction_dense_layer/BiasAdd&quot;\\n  attr {\\n    key: &quot;T&quot;\\n    value {\\n      type: DT_FLOAT\\n    }\\n  }\\n  attr {\\n    key: &quot;out_type&quot;\\n    value {\\n      type: DT_INT32\\n    }\\n  }\\n}\\nnode {\\n  name: &quot;gradients/mean_squared_error/SquaredDifference_grad/Shape_1&quot;\\n  op: &quot;Shape&quot;\\n  input: &quot;userdefinedoutput&quot;\\n  attr {\\n    key: &quot;T&quot;\\n    value {\\n      type: DT_FLOAT\\n    }\\n  }\\n  attr {\\n    key: &quot;out_type&quot;\\n    value {\\n      type: DT_INT32\\n    }\\n  }\\n}\\nnode {\\n  name: &quot;gradients/mean_squared_error/SquaredDifference_grad/BroadcastGradientArgs&quot;\\n  op: &quot;BroadcastGradientArgs&quot;\\n  input: &quot;gradients/mean_squared_error/SquaredDifference_grad/Shape&quot;\\n  input: &quot;gradients/mean_squared_error/SquaredDifference_grad/Shape_1&quot;\\n  attr {\\n    key: &quot;T&quot;\\n    value {\\n      type: DT_INT32\\n    }\\n  }\\n}\\nnode {\\n  name: &quot;gradients/mean_squared_error/SquaredDifference_grad/scalar&quot;\\n  op: &quot;Const&quot;\\n  input: &quot;^gradients/mean_squared_error/Mul_grad/tuple/control_dependency&quot;\\n  attr {\\n    key: &quot;dtype&quot;\\n    value {\\n      type: DT_FLOAT\\n    }\\n  }\\n  attr {\\n    key: &quot;value&quot;\\n    value {\\n      tensor {\\n        dtype: DT_FLOAT\\n        tensor_shape {\\n        }\\n        float_val: 2.0\\n      }\\n    }\\n  }\\n}\\nnode {\\n  name: &quot;gradients/mean_squared_error/SquaredDifference_grad/mul&quot;\\n  op: &quot;Mul&quot;\\n  input: &quot;gradients/mean_squared_error/SquaredDifference_grad/scalar&quot;\\n  input: &quot;gradients/mean_squared_error/Mul_grad/tuple/control_dependency&quot;\\n  attr {\\n    key: &quot;T&quot;\\n    value {\\n      type: DT_FLOAT\\n    }\\n  }\\n}\\nnode {\\n  name: &quot;gradients/mean_squared_error/SquaredDifference_grad/sub&quot;\\n  op: &quot;Sub&quot;\\n  input: &quot;prediction_dense_layer/BiasAdd&quot;\\n  input: &quot;userdefinedoutput&quot;\\n  input: &quot;^gradients/mean_squared_error/Mul_grad/tuple/control_dependency&quot;\\n  attr {\\n    key: &quot;T&quot;\\n    value {\\n      type: DT_FLOAT\\n    }\\n  }\\n}\\nnode {\\n  name: &quot;gradients/mean_squared_error/SquaredDifference_grad/mul_1&quot;\\n  op: &quot;Mul&quot;\\n  input: &quot;gradients/mean_squared_error/SquaredDifference_grad/mul&quot;\\n  input: &quot;gradients/mean_squared_error/SquaredDifference_grad/sub&quot;\\n  attr {\\n    key: &quot;T&quot;\\n    value {\\n      type: DT_FLOAT\\n    }\\n  }\\n}\\nnode {\\n  name: &quot;gradients/mean_squared_error/SquaredDifference_grad/Sum&quot;\\n  op: &quot;Sum&quot;\\n  input: &quot;gradients/mean_squared_error/SquaredDifference_grad/mul_1&quot;\\n  input: &quot;gradients/mean_squared_error/SquaredDifference_grad/BroadcastGradientArgs&quot;\\n  attr {\\n    key: &quot;T&quot;\\n    value {\\n      type: DT_FLOAT\\n    }\\n  }\\n  attr {\\n    key: &quot;Tidx&quot;\\n    value {\\n      type: DT_INT32\\n    }\\n  }\\n  attr {\\n    key: &quot;keep_dims&quot;\\n    value {\\n      b: false\\n    }\\n  }\\n}\\nnode {\\n  name: &quot;gradients/mean_squared_error/SquaredDifference_grad/Reshape&quot;\\n  op: &quot;Reshape&quot;\\n  input: &quot;gradients/mean_squared_error/SquaredDifference_grad/Sum&quot;\\n  input: &quot;gradients/mean_squared_error/SquaredDifference_grad/Shape&quot;\\n  attr {\\n    key: &quot;T&quot;\\n    value {\\n      type: DT_FLOAT\\n    }\\n  }\\n  attr {\\n    key: &quot;Tshape&quot;\\n    value {\\n      type: DT_INT32\\n    }\\n  }\\n}\\nnode {\\n  name: &quot;gradients/mean_squared_error/SquaredDifference_grad/Sum_1&quot;\\n  op: &quot;Sum&quot;\\n  input: &quot;gradients/mean_squared_error/SquaredDifference_grad/mul_1&quot;\\n  input: &quot;gradients/mean_squared_error/SquaredDifference_grad/BroadcastGradientArgs:1&quot;\\n  attr {\\n    key: &quot;T&quot;\\n    value {\\n      type: DT_FLOAT\\n    }\\n  }\\n  attr {\\n    key: &quot;Tidx&quot;\\n    value {\\n      type: DT_INT32\\n    }\\n  }\\n  attr {\\n    key: &quot;keep_dims&quot;\\n    value {\\n      b: false\\n    }\\n  }\\n}\\nnode {\\n  name: &quot;gradients/mean_squared_error/SquaredDifference_grad/Reshape_1&quot;\\n  op: &quot;Reshape&quot;\\n  input: &quot;gradients/mean_squared_error/SquaredDifference_grad/Sum_1&quot;\\n  input: &quot;gradients/mean_squared_error/SquaredDifference_grad/Shape_1&quot;\\n  attr {\\n    key: &quot;T&quot;\\n    value {\\n      type: DT_FLOAT\\n    }\\n  }\\n  attr {\\n    key: &quot;Tshape&quot;\\n    value {\\n      type: DT_INT32\\n    }\\n  }\\n}\\nnode {\\n  name: &quot;gradients/mean_squared_error/SquaredDifference_grad/Neg&quot;\\n  op: &quot;Neg&quot;\\n  input: &quot;gradients/mean_squared_error/SquaredDifference_grad/Reshape_1&quot;\\n  attr {\\n    key: &quot;T&quot;\\n    value {\\n      type: DT_FLOAT\\n    }\\n  }\\n}\\nnode {\\n  name: &quot;gradients/mean_squared_error/SquaredDifference_grad/tuple/group_deps&quot;\\n  op: &quot;NoOp&quot;\\n  input: &quot;^gradients/mean_squared_error/SquaredDifference_grad/Reshape&quot;\\n  input: &quot;^gradients/mean_squared_error/SquaredDifference_grad/Neg&quot;\\n}\\nnode {\\n  name: &quot;gradients/mean_squared_error/SquaredDifference_grad/tuple/control_dependency&quot;\\n  op: &quot;Identity&quot;\\n  input: &quot;gradients/mean_squared_error/SquaredDifference_grad/Reshape&quot;\\n  input: &quot;^gradients/mean_squared_error/SquaredDifference_grad/tuple/group_deps&quot;\\n  attr {\\n    key: &quot;T&quot;\\n    value {\\n      type: DT_FLOAT\\n    }\\n  }\\n  attr {\\n    key: &quot;_class&quot;\\n    value {\\n      list {\\n        s: &quot;loc:@gradients/mean_squared_error/SquaredDifference_grad/Reshape&quot;\\n      }\\n    }\\n  }\\n}\\nnode {\\n  name: &quot;gradients/mean_squared_error/SquaredDifference_grad/tuple/control_dependency_1&quot;\\n  op: &quot;Identity&quot;\\n  input: &quot;gradients/mean_squared_error/SquaredDifference_grad/Neg&quot;\\n  input: &quot;^gradients/mean_squared_error/SquaredDifference_grad/tuple/group_deps&quot;\\n  attr {\\n    key: &quot;T&quot;\\n    value {\\n      type: DT_FLOAT\\n    }\\n  }\\n  attr {\\n    key: &quot;_class&quot;\\n    value {\\n      list {\\n        s: &quot;loc:@gradients/mean_squared_error/SquaredDifference_grad/Neg&quot;\\n      }\\n    }\\n  }\\n}\\nnode {\\n  name: &quot;gradients/prediction_dense_layer/BiasAdd_grad/BiasAddGrad&quot;\\n  op: &quot;BiasAddGrad&quot;\\n  input: &quot;gradients/mean_squared_error/SquaredDifference_grad/tuple/control_dependency&quot;\\n  attr {\\n    key: &quot;T&quot;\\n    value {\\n      type: DT_FLOAT\\n    }\\n  }\\n  attr {\\n    key: &quot;data_format&quot;\\n    value {\\n      s: &quot;NHWC&quot;\\n    }\\n  }\\n}\\nnode {\\n  name: &quot;gradients/prediction_dense_layer/BiasAdd_grad/tuple/group_deps&quot;\\n  op: &quot;NoOp&quot;\\n  input: &quot;^gradients/mean_squared_error/SquaredDifference_grad/tuple/control_dependency&quot;\\n  input: &quot;^gradients/prediction_dense_layer/BiasAdd_grad/BiasAddGrad&quot;\\n}\\nnode {\\n  name: &quot;gradients/prediction_dense_layer/BiasAdd_grad/tuple/control_dependency&quot;\\n  op: &quot;Identity&quot;\\n  input: &quot;gradients/mean_squared_error/SquaredDifference_grad/tuple/control_dependency&quot;\\n  input: &quot;^gradients/prediction_dense_layer/BiasAdd_grad/tuple/group_deps&quot;\\n  attr {\\n    key: &quot;T&quot;\\n    value {\\n      type: DT_FLOAT\\n    }\\n  }\\n  attr {\\n    key: &quot;_class&quot;\\n    value {\\n      list {\\n        s: &quot;loc:@gradients/mean_squared_error/SquaredDifference_grad/Reshape&quot;\\n      }\\n    }\\n  }\\n}\\nnode {\\n  name: &quot;gradients/prediction_dense_layer/BiasAdd_grad/tuple/control_dependency_1&quot;\\n  op: &quot;Identity&quot;\\n  input: &quot;gradients/prediction_dense_layer/BiasAdd_grad/BiasAddGrad&quot;\\n  input: &quot;^gradients/prediction_dense_layer/BiasAdd_grad/tuple/group_deps&quot;\\n  attr {\\n    key: &quot;T&quot;\\n    value {\\n      type: DT_FLOAT\\n    }\\n  }\\n  attr {\\n    key: &quot;_class&quot;\\n    value {\\n      list {\\n        s: &quot;loc:@gradients/prediction_dense_layer/BiasAdd_grad/BiasAddGrad&quot;\\n      }\\n    }\\n  }\\n}\\nnode {\\n  name: &quot;gradients/prediction_dense_layer/MatMul_grad/MatMul&quot;\\n  op: &quot;MatMul&quot;\\n  input: &quot;gradients/prediction_dense_layer/BiasAdd_grad/tuple/control_dependency&quot;\\n  input: &quot;prediction_dense_layer/kernel/read&quot;\\n  attr {\\n    key: &quot;T&quot;\\n    value {\\n      type: DT_FLOAT\\n    }\\n  }\\n  attr {\\n    key: &quot;transpose_a&quot;\\n    value {\\n      b: false\\n    }\\n  }\\n  attr {\\n    key: &quot;transpose_b&quot;\\n    value {\\n      b: true\\n    }\\n  }\\n}\\nnode {\\n  name: &quot;gradients/prediction_dense_layer/MatMul_grad/MatMul_1&quot;\\n  op: &quot;MatMul&quot;\\n  input: &quot;first_dense_layer/Sigmoid&quot;\\n  input: &quot;gradients/prediction_dense_layer/BiasAdd_grad/tuple/control_dependency&quot;\\n  attr {\\n    key: &quot;T&quot;\\n    value {\\n      type: DT_FLOAT\\n    }\\n  }\\n  attr {\\n    key: &quot;transpose_a&quot;\\n    value {\\n      b: true\\n    }\\n  }\\n  attr {\\n    key: &quot;transpose_b&quot;\\n    value {\\n      b: false\\n    }\\n  }\\n}\\nnode {\\n  name: &quot;gradients/prediction_dense_layer/MatMul_grad/tuple/group_deps&quot;\\n  op: &quot;NoOp&quot;\\n  input: &quot;^gradients/prediction_dense_layer/MatMul_grad/MatMul&quot;\\n  input: &quot;^gradients/prediction_dense_layer/MatMul_grad/MatMul_1&quot;\\n}\\nnode {\\n  name: &quot;gradients/prediction_dense_layer/MatMul_grad/tuple/control_dependency&quot;\\n  op: &quot;Identity&quot;\\n  input: &quot;gradients/prediction_dense_layer/MatMul_grad/MatMul&quot;\\n  input: &quot;^gradients/prediction_dense_layer/MatMul_grad/tuple/group_deps&quot;\\n  attr {\\n    key: &quot;T&quot;\\n    value {\\n      type: DT_FLOAT\\n    }\\n  }\\n  attr {\\n    key: &quot;_class&quot;\\n    value {\\n      list {\\n        s: &quot;loc:@gradients/prediction_dense_layer/MatMul_grad/MatMul&quot;\\n      }\\n    }\\n  }\\n}\\nnode {\\n  name: &quot;gradients/prediction_dense_layer/MatMul_grad/tuple/control_dependency_1&quot;\\n  op: &quot;Identity&quot;\\n  input: &quot;gradients/prediction_dense_layer/MatMul_grad/MatMul_1&quot;\\n  input: &quot;^gradients/prediction_dense_layer/MatMul_grad/tuple/group_deps&quot;\\n  attr {\\n    key: &quot;T&quot;\\n    value {\\n      type: DT_FLOAT\\n    }\\n  }\\n  attr {\\n    key: &quot;_class&quot;\\n    value {\\n      list {\\n        s: &quot;loc:@gradients/prediction_dense_layer/MatMul_grad/MatMul_1&quot;\\n      }\\n    }\\n  }\\n}\\nnode {\\n  name: &quot;gradients/first_dense_layer/Sigmoid_grad/SigmoidGrad&quot;\\n  op: &quot;SigmoidGrad&quot;\\n  input: &quot;first_dense_layer/Sigmoid&quot;\\n  input: &quot;gradients/prediction_dense_layer/MatMul_grad/tuple/control_dependency&quot;\\n  attr {\\n    key: &quot;T&quot;\\n    value {\\n      type: DT_FLOAT\\n    }\\n  }\\n}\\nnode {\\n  name: &quot;gradients/first_dense_layer/BiasAdd_grad/BiasAddGrad&quot;\\n  op: &quot;BiasAddGrad&quot;\\n  input: &quot;gradients/first_dense_layer/Sigmoid_grad/SigmoidGrad&quot;\\n  attr {\\n    key: &quot;T&quot;\\n    value {\\n      type: DT_FLOAT\\n    }\\n  }\\n  attr {\\n    key: &quot;data_format&quot;\\n    value {\\n      s: &quot;NHWC&quot;\\n    }\\n  }\\n}\\nnode {\\n  name: &quot;gradients/first_dense_layer/BiasAdd_grad/tuple/group_deps&quot;\\n  op: &quot;NoOp&quot;\\n  input: &quot;^gradients/first_dense_layer/Sigmoid_grad/SigmoidGrad&quot;\\n  input: &quot;^gradients/first_dense_layer/BiasAdd_grad/BiasAddGrad&quot;\\n}\\nnode {\\n  name: &quot;gradients/first_dense_layer/BiasAdd_grad/tuple/control_dependency&quot;\\n  op: &quot;Identity&quot;\\n  input: &quot;gradients/first_dense_layer/Sigmoid_grad/SigmoidGrad&quot;\\n  input: &quot;^gradients/first_dense_layer/BiasAdd_grad/tuple/group_deps&quot;\\n  attr {\\n    key: &quot;T&quot;\\n    value {\\n      type: DT_FLOAT\\n    }\\n  }\\n  attr {\\n    key: &quot;_class&quot;\\n    value {\\n      list {\\n        s: &quot;loc:@gradients/first_dense_layer/Sigmoid_grad/SigmoidGrad&quot;\\n      }\\n    }\\n  }\\n}\\nnode {\\n  name: &quot;gradients/first_dense_layer/BiasAdd_grad/tuple/control_dependency_1&quot;\\n  op: &quot;Identity&quot;\\n  input: &quot;gradients/first_dense_layer/BiasAdd_grad/BiasAddGrad&quot;\\n  input: &quot;^gradients/first_dense_layer/BiasAdd_grad/tuple/group_deps&quot;\\n  attr {\\n    key: &quot;T&quot;\\n    value {\\n      type: DT_FLOAT\\n    }\\n  }\\n  attr {\\n    key: &quot;_class&quot;\\n    value {\\n      list {\\n        s: &quot;loc:@gradients/first_dense_layer/BiasAdd_grad/BiasAddGrad&quot;\\n      }\\n    }\\n  }\\n}\\nnode {\\n  name: &quot;gradients/first_dense_layer/MatMul_grad/MatMul&quot;\\n  op: &quot;MatMul&quot;\\n  input: &quot;gradients/first_dense_layer/BiasAdd_grad/tuple/control_dependency&quot;\\n  input: &quot;first_dense_layer/kernel/read&quot;\\n  attr {\\n    key: &quot;T&quot;\\n    value {\\n      type: DT_FLOAT\\n    }\\n  }\\n  attr {\\n    key: &quot;transpose_a&quot;\\n    value {\\n      b: false\\n    }\\n  }\\n  attr {\\n    key: &quot;transpose_b&quot;\\n    value {\\n      b: true\\n    }\\n  }\\n}\\nnode {\\n  name: &quot;gradients/first_dense_layer/MatMul_grad/MatMul_1&quot;\\n  op: &quot;MatMul&quot;\\n  input: &quot;inputplaceholder&quot;\\n  input: &quot;gradients/first_dense_layer/BiasAdd_grad/tuple/control_dependency&quot;\\n  attr {\\n    key: &quot;T&quot;\\n    value {\\n      type: DT_FLOAT\\n    }\\n  }\\n  attr {\\n    key: &quot;transpose_a&quot;\\n    value {\\n      b: true\\n    }\\n  }\\n  attr {\\n    key: &quot;transpose_b&quot;\\n    value {\\n      b: false\\n    }\\n  }\\n}\\nnode {\\n  name: &quot;gradients/first_dense_layer/MatMul_grad/tuple/group_deps&quot;\\n  op: &quot;NoOp&quot;\\n  input: &quot;^gradients/first_dense_layer/MatMul_grad/MatMul&quot;\\n  input: &quot;^gradients/first_dense_layer/MatMul_grad/MatMul_1&quot;\\n}\\nnode {\\n  name: &quot;gradients/first_dense_layer/MatMul_grad/tuple/control_dependency&quot;\\n  op: &quot;Identity&quot;\\n  input: &quot;gradients/first_dense_layer/MatMul_grad/MatMul&quot;\\n  input: &quot;^gradients/first_dense_layer/MatMul_grad/tuple/group_deps&quot;\\n  attr {\\n    key: &quot;T&quot;\\n    value {\\n      type: DT_FLOAT\\n    }\\n  }\\n  attr {\\n    key: &quot;_class&quot;\\n    value {\\n      list {\\n        s: &quot;loc:@gradients/first_dense_layer/MatMul_grad/MatMul&quot;\\n      }\\n    }\\n  }\\n}\\nnode {\\n  name: &quot;gradients/first_dense_layer/MatMul_grad/tuple/control_dependency_1&quot;\\n  op: &quot;Identity&quot;\\n  input: &quot;gradients/first_dense_layer/MatMul_grad/MatMul_1&quot;\\n  input: &quot;^gradients/first_dense_layer/MatMul_grad/tuple/group_deps&quot;\\n  attr {\\n    key: &quot;T&quot;\\n    value {\\n      type: DT_FLOAT\\n    }\\n  }\\n  attr {\\n    key: &quot;_class&quot;\\n    value {\\n      list {\\n        s: &quot;loc:@gradients/first_dense_layer/MatMul_grad/MatMul_1&quot;\\n      }\\n    }\\n  }\\n}\\nnode {\\n  name: &quot;GradientDescent/learning_rate&quot;\\n  op: &quot;Const&quot;\\n  attr {\\n    key: &quot;dtype&quot;\\n    value {\\n      type: DT_FLOAT\\n    }\\n  }\\n  attr {\\n    key: &quot;value&quot;\\n    value {\\n      tensor {\\n        dtype: DT_FLOAT\\n        tensor_shape {\\n        }\\n        float_val: 0.05000000074505806\\n      }\\n    }\\n  }\\n}\\nnode {\\n  name: &quot;GradientDescent/update_first_dense_layer/kernel/ApplyGradientDescent&quot;\\n  op: &quot;ApplyGradientDescent&quot;\\n  input: &quot;first_dense_layer/kernel&quot;\\n  input: &quot;GradientDescent/learning_rate&quot;\\n  input: &quot;gradients/first_dense_layer/MatMul_grad/tuple/control_dependency_1&quot;\\n  attr {\\n    key: &quot;T&quot;\\n    value {\\n      type: DT_FLOAT\\n    }\\n  }\\n  attr {\\n    key: &quot;_class&quot;\\n    value {\\n      list {\\n        s: &quot;loc:@first_dense_layer/kernel&quot;\\n      }\\n    }\\n  }\\n  attr {\\n    key: &quot;use_locking&quot;\\n    value {\\n      b: false\\n    }\\n  }\\n}\\nnode {\\n  name: &quot;GradientDescent/update_first_dense_layer/bias/ApplyGradientDescent&quot;\\n  op: &quot;ApplyGradientDescent&quot;\\n  input: &quot;first_dense_layer/bias&quot;\\n  input: &quot;GradientDescent/learning_rate&quot;\\n  input: &quot;gradients/first_dense_layer/BiasAdd_grad/tuple/control_dependency_1&quot;\\n  attr {\\n    key: &quot;T&quot;\\n    value {\\n      type: DT_FLOAT\\n    }\\n  }\\n  attr {\\n    key: &quot;_class&quot;\\n    value {\\n      list {\\n        s: &quot;loc:@first_dense_layer/bias&quot;\\n      }\\n    }\\n  }\\n  attr {\\n    key: &quot;use_locking&quot;\\n    value {\\n      b: false\\n    }\\n  }\\n}\\nnode {\\n  name: &quot;GradientDescent/update_prediction_dense_layer/kernel/ApplyGradientDescent&quot;\\n  op: &quot;ApplyGradientDescent&quot;\\n  input: &quot;prediction_dense_layer/kernel&quot;\\n  input: &quot;GradientDescent/learning_rate&quot;\\n  input: &quot;gradients/prediction_dense_layer/MatMul_grad/tuple/control_dependency_1&quot;\\n  attr {\\n    key: &quot;T&quot;\\n    value {\\n      type: DT_FLOAT\\n    }\\n  }\\n  attr {\\n    key: &quot;_class&quot;\\n    value {\\n      list {\\n        s: &quot;loc:@prediction_dense_layer/kernel&quot;\\n      }\\n    }\\n  }\\n  attr {\\n    key: &quot;use_locking&quot;\\n    value {\\n      b: false\\n    }\\n  }\\n}\\nnode {\\n  name: &quot;GradientDescent/update_prediction_dense_layer/bias/ApplyGradientDescent&quot;\\n  op: &quot;ApplyGradientDescent&quot;\\n  input: &quot;prediction_dense_layer/bias&quot;\\n  input: &quot;GradientDescent/learning_rate&quot;\\n  input: &quot;gradients/prediction_dense_layer/BiasAdd_grad/tuple/control_dependency_1&quot;\\n  attr {\\n    key: &quot;T&quot;\\n    value {\\n      type: DT_FLOAT\\n    }\\n  }\\n  attr {\\n    key: &quot;_class&quot;\\n    value {\\n      list {\\n        s: &quot;loc:@prediction_dense_layer/bias&quot;\\n      }\\n    }\\n  }\\n  attr {\\n    key: &quot;use_locking&quot;\\n    value {\\n      b: false\\n    }\\n  }\\n}\\nnode {\\n  name: &quot;GradientDescent&quot;\\n  op: &quot;NoOp&quot;\\n  input: &quot;^GradientDescent/update_first_dense_layer/kernel/ApplyGradientDescent&quot;\\n  input: &quot;^GradientDescent/update_first_dense_layer/bias/ApplyGradientDescent&quot;\\n  input: &quot;^GradientDescent/update_prediction_dense_layer/kernel/ApplyGradientDescent&quot;\\n  input: &quot;^GradientDescent/update_prediction_dense_layer/bias/ApplyGradientDescent&quot;\\n}\\nnode {\\n  name: &quot;init&quot;\\n  op: &quot;NoOp&quot;\\n  input: &quot;^first_dense_layer/kernel/Assign&quot;\\n  input: &quot;^first_dense_layer/bias/Assign&quot;\\n  input: &quot;^prediction_dense_layer/kernel/Assign&quot;\\n  input: &quot;^prediction_dense_layer/bias/Assign&quot;\\n}\\nnode {\\n  name: &quot;gradients_1/Shape&quot;\\n  op: &quot;Const&quot;\\n  attr {\\n    key: &quot;dtype&quot;\\n    value {\\n      type: DT_INT32\\n    }\\n  }\\n  attr {\\n    key: &quot;value&quot;\\n    value {\\n      tensor {\\n        dtype: DT_INT32\\n        tensor_shape {\\n          dim {\\n          }\\n        }\\n      }\\n    }\\n  }\\n}\\nnode {\\n  name: &quot;gradients_1/Const&quot;\\n  op: &quot;Const&quot;\\n  attr {\\n    key: &quot;dtype&quot;\\n    value {\\n      type: DT_FLOAT\\n    }\\n  }\\n  attr {\\n    key: &quot;value&quot;\\n    value {\\n      tensor {\\n        dtype: DT_FLOAT\\n        tensor_shape {\\n        }\\n        float_val: 1.0\\n      }\\n    }\\n  }\\n}\\nnode {\\n  name: &quot;gradients_1/Fill&quot;\\n  op: &quot;Fill&quot;\\n  input: &quot;gradients_1/Shape&quot;\\n  input: &quot;gradients_1/Const&quot;\\n  attr {\\n    key: &quot;T&quot;\\n    value {\\n      type: DT_FLOAT\\n    }\\n  }\\n}\\nnode {\\n  name: &quot;gradients_1/mean_squared_error/value_grad/zeros_like&quot;\\n  op: &quot;Const&quot;\\n  attr {\\n    key: &quot;dtype&quot;\\n    value {\\n      type: DT_FLOAT\\n    }\\n  }\\n  attr {\\n    key: &quot;value&quot;\\n    value {\\n      tensor {\\n        dtype: DT_FLOAT\\n        tensor_shape {\\n        }\\n        float_val: 0.0\\n      }\\n    }\\n  }\\n}\\nnode {\\n  name: &quot;gradients_1/mean_squared_error/value_grad/Select&quot;\\n  op: &quot;Select&quot;\\n  input: &quot;mean_squared_error/Greater&quot;\\n  input: &quot;gradients_1/Fill&quot;\\n  input: &quot;gradients_1/mean_squared_error/value_grad/zeros_like&quot;\\n  attr {\\n    key: &quot;T&quot;\\n    value {\\n      type: DT_FLOAT\\n    }\\n  }\\n}\\nnode {\\n  name: &quot;gradients_1/mean_squared_error/value_grad/Select_1&quot;\\n  op: &quot;Select&quot;\\n  input: &quot;mean_squared_error/Greater&quot;\\n  input: &quot;gradients_1/mean_squared_error/value_grad/zeros_like&quot;\\n  input: &quot;gradients_1/Fill&quot;\\n  attr {\\n    key: &quot;T&quot;\\n    value {\\n      type: DT_FLOAT\\n    }\\n  }\\n}\\nnode {\\n  name: &quot;gradients_1/mean_squared_error/value_grad/tuple/group_deps&quot;\\n  op: &quot;NoOp&quot;\\n  input: &quot;^gradients_1/mean_squared_error/value_grad/Select&quot;\\n  input: &quot;^gradients_1/mean_squared_error/value_grad/Select_1&quot;\\n}\\nnode {\\n  name: &quot;gradients_1/mean_squared_error/value_grad/tuple/control_dependency&quot;\\n  op: &quot;Identity&quot;\\n  input: &quot;gradients_1/mean_squared_error/value_grad/Select&quot;\\n  input: &quot;^gradients_1/mean_squared_error/value_grad/tuple/group_deps&quot;\\n  attr {\\n    key: &quot;T&quot;\\n    value {\\n      type: DT_FLOAT\\n    }\\n  }\\n  attr {\\n    key: &quot;_class&quot;\\n    value {\\n      list {\\n        s: &quot;loc:@gradients_1/mean_squared_error/value_grad/Select&quot;\\n      }\\n    }\\n  }\\n}\\nnode {\\n  name: &quot;gradients_1/mean_squared_error/value_grad/tuple/control_dependency_1&quot;\\n  op: &quot;Identity&quot;\\n  input: &quot;gradients_1/mean_squared_error/value_grad/Select_1&quot;\\n  input: &quot;^gradients_1/mean_squared_error/value_grad/tuple/group_deps&quot;\\n  attr {\\n    key: &quot;T&quot;\\n    value {\\n      type: DT_FLOAT\\n    }\\n  }\\n  attr {\\n    key: &quot;_class&quot;\\n    value {\\n      list {\\n        s: &quot;loc:@gradients_1/mean_squared_error/value_grad/Select_1&quot;\\n      }\\n    }\\n  }\\n}\\nnode {\\n  name: &quot;gradients_1/mean_squared_error/div_grad/Shape&quot;\\n  op: &quot;Const&quot;\\n  attr {\\n    key: &quot;dtype&quot;\\n    value {\\n      type: DT_INT32\\n    }\\n  }\\n  attr {\\n    key: &quot;value&quot;\\n    value {\\n      tensor {\\n        dtype: DT_INT32\\n        tensor_shape {\\n          dim {\\n          }\\n        }\\n      }\\n    }\\n  }\\n}\\nnode {\\n  name: &quot;gradients_1/mean_squared_error/div_grad/Shape_1&quot;\\n  op: &quot;Const&quot;\\n  attr {\\n    key: &quot;dtype&quot;\\n    value {\\n      type: DT_INT32\\n    }\\n  }\\n  attr {\\n    key: &quot;value&quot;\\n    value {\\n      tensor {\\n        dtype: DT_INT32\\n        tensor_shape {\\n          dim {\\n          }\\n        }\\n      }\\n    }\\n  }\\n}\\nnode {\\n  name: &quot;gradients_1/mean_squared_error/div_grad/BroadcastGradientArgs&quot;\\n  op: &quot;BroadcastGradientArgs&quot;\\n  input: &quot;gradients_1/mean_squared_error/div_grad/Shape&quot;\\n  input: &quot;gradients_1/mean_squared_error/div_grad/Shape_1&quot;\\n  attr {\\n    key: &quot;T&quot;\\n    value {\\n      type: DT_INT32\\n    }\\n  }\\n}\\nnode {\\n  name: &quot;gradients_1/mean_squared_error/div_grad/RealDiv&quot;\\n  op: &quot;RealDiv&quot;\\n  input: &quot;gradients_1/mean_squared_error/value_grad/tuple/control_dependency&quot;\\n  input: &quot;mean_squared_error/Select&quot;\\n  attr {\\n    key: &quot;T&quot;\\n    value {\\n      type: DT_FLOAT\\n    }\\n  }\\n}\\nnode {\\n  name: &quot;gradients_1/mean_squared_error/div_grad/Sum&quot;\\n  op: &quot;Sum&quot;\\n  input: &quot;gradients_1/mean_squared_error/div_grad/RealDiv&quot;\\n  input: &quot;gradients_1/mean_squared_error/div_grad/BroadcastGradientArgs&quot;\\n  attr {\\n    key: &quot;T&quot;\\n    value {\\n      type: DT_FLOAT\\n    }\\n  }\\n  attr {\\n    key: &quot;Tidx&quot;\\n    value {\\n      type: DT_INT32\\n    }\\n  }\\n  attr {\\n    key: &quot;keep_dims&quot;\\n    value {\\n      b: false\\n    }\\n  }\\n}\\nnode {\\n  name: &quot;gradients_1/mean_squared_error/div_grad/Reshape&quot;\\n  op: &quot;Reshape&quot;\\n  input: &quot;gradients_1/mean_squared_error/div_grad/Sum&quot;\\n  input: &quot;gradients_1/mean_squared_error/div_grad/Shape&quot;\\n  attr {\\n    key: &quot;T&quot;\\n    value {\\n      type: DT_FLOAT\\n    }\\n  }\\n  attr {\\n    key: &quot;Tshape&quot;\\n    value {\\n      type: DT_INT32\\n    }\\n  }\\n}\\nnode {\\n  name: &quot;gradients_1/mean_squared_error/div_grad/Neg&quot;\\n  op: &quot;Neg&quot;\\n  input: &quot;mean_squared_error/Sum_1&quot;\\n  attr {\\n    key: &quot;T&quot;\\n    value {\\n      type: DT_FLOAT\\n    }\\n  }\\n}\\nnode {\\n  name: &quot;gradients_1/mean_squared_error/div_grad/RealDiv_1&quot;\\n  op: &quot;RealDiv&quot;\\n  input: &quot;gradients_1/mean_squared_error/div_grad/Neg&quot;\\n  input: &quot;mean_squared_error/Select&quot;\\n  attr {\\n    key: &quot;T&quot;\\n    value {\\n      type: DT_FLOAT\\n    }\\n  }\\n}\\nnode {\\n  name: &quot;gradients_1/mean_squared_error/div_grad/RealDiv_2&quot;\\n  op: &quot;RealDiv&quot;\\n  input: &quot;gradients_1/mean_squared_error/div_grad/RealDiv_1&quot;\\n  input: &quot;mean_squared_error/Select&quot;\\n  attr {\\n    key: &quot;T&quot;\\n    value {\\n      type: DT_FLOAT\\n    }\\n  }\\n}\\nnode {\\n  name: &quot;gradients_1/mean_squared_error/div_grad/mul&quot;\\n  op: &quot;Mul&quot;\\n  input: &quot;gradients_1/mean_squared_error/value_grad/tuple/control_dependency&quot;\\n  input: &quot;gradients_1/mean_squared_error/div_grad/RealDiv_2&quot;\\n  attr {\\n    key: &quot;T&quot;\\n    value {\\n      type: DT_FLOAT\\n    }\\n  }\\n}\\nnode {\\n  name: &quot;gradients_1/mean_squared_error/div_grad/Sum_1&quot;\\n  op: &quot;Sum&quot;\\n  input: &quot;gradients_1/mean_squared_error/div_grad/mul&quot;\\n  input: &quot;gradients_1/mean_squared_error/div_grad/BroadcastGradientArgs:1&quot;\\n  attr {\\n    key: &quot;T&quot;\\n    value {\\n      type: DT_FLOAT\\n    }\\n  }\\n  attr {\\n    key: &quot;Tidx&quot;\\n    value {\\n      type: DT_INT32\\n    }\\n  }\\n  attr {\\n    key: &quot;keep_dims&quot;\\n    value {\\n      b: false\\n    }\\n  }\\n}\\nnode {\\n  name: &quot;gradients_1/mean_squared_error/div_grad/Reshape_1&quot;\\n  op: &quot;Reshape&quot;\\n  input: &quot;gradients_1/mean_squared_error/div_grad/Sum_1&quot;\\n  input: &quot;gradients_1/mean_squared_error/div_grad/Shape_1&quot;\\n  attr {\\n    key: &quot;T&quot;\\n    value {\\n      type: DT_FLOAT\\n    }\\n  }\\n  attr {\\n    key: &quot;Tshape&quot;\\n    value {\\n      type: DT_INT32\\n    }\\n  }\\n}\\nnode {\\n  name: &quot;gradients_1/mean_squared_error/div_grad/tuple/group_deps&quot;\\n  op: &quot;NoOp&quot;\\n  input: &quot;^gradients_1/mean_squared_error/div_grad/Reshape&quot;\\n  input: &quot;^gradients_1/mean_squared_error/div_grad/Reshape_1&quot;\\n}\\nnode {\\n  name: &quot;gradients_1/mean_squared_error/div_grad/tuple/control_dependency&quot;\\n  op: &quot;Identity&quot;\\n  input: &quot;gradients_1/mean_squared_error/div_grad/Reshape&quot;\\n  input: &quot;^gradients_1/mean_squared_error/div_grad/tuple/group_deps&quot;\\n  attr {\\n    key: &quot;T&quot;\\n    value {\\n      type: DT_FLOAT\\n    }\\n  }\\n  attr {\\n    key: &quot;_class&quot;\\n    value {\\n      list {\\n        s: &quot;loc:@gradients_1/mean_squared_error/div_grad/Reshape&quot;\\n      }\\n    }\\n  }\\n}\\nnode {\\n  name: &quot;gradients_1/mean_squared_error/div_grad/tuple/control_dependency_1&quot;\\n  op: &quot;Identity&quot;\\n  input: &quot;gradients_1/mean_squared_error/div_grad/Reshape_1&quot;\\n  input: &quot;^gradients_1/mean_squared_error/div_grad/tuple/group_deps&quot;\\n  attr {\\n    key: &quot;T&quot;\\n    value {\\n      type: DT_FLOAT\\n    }\\n  }\\n  attr {\\n    key: &quot;_class&quot;\\n    value {\\n      list {\\n        s: &quot;loc:@gradients_1/mean_squared_error/div_grad/Reshape_1&quot;\\n      }\\n    }\\n  }\\n}\\nnode {\\n  name: &quot;gradients_1/mean_squared_error/Sum_1_grad/Reshape/shape&quot;\\n  op: &quot;Const&quot;\\n  attr {\\n    key: &quot;dtype&quot;\\n    value {\\n      type: DT_INT32\\n    }\\n  }\\n  attr {\\n    key: &quot;value&quot;\\n    value {\\n      tensor {\\n        dtype: DT_INT32\\n        tensor_shape {\\n          dim {\\n          }\\n        }\\n      }\\n    }\\n  }\\n}\\nnode {\\n  name: &quot;gradients_1/mean_squared_error/Sum_1_grad/Reshape&quot;\\n  op: &quot;Reshape&quot;\\n  input: &quot;gradients_1/mean_squared_error/div_grad/tuple/control_dependency&quot;\\n  input: &quot;gradients_1/mean_squared_error/Sum_1_grad/Reshape/shape&quot;\\n  attr {\\n    key: &quot;T&quot;\\n    value {\\n      type: DT_FLOAT\\n    }\\n  }\\n  attr {\\n    key: &quot;Tshape&quot;\\n    value {\\n      type: DT_INT32\\n    }\\n  }\\n}\\nnode {\\n  name: &quot;gradients_1/mean_squared_error/Sum_1_grad/Tile/multiples&quot;\\n  op: &quot;Const&quot;\\n  attr {\\n    key: &quot;dtype&quot;\\n    value {\\n      type: DT_INT32\\n    }\\n  }\\n  attr {\\n    key: &quot;value&quot;\\n    value {\\n      tensor {\\n        dtype: DT_INT32\\n        tensor_shape {\\n          dim {\\n          }\\n        }\\n      }\\n    }\\n  }\\n}\\nnode {\\n  name: &quot;gradients_1/mean_squared_error/Sum_1_grad/Tile&quot;\\n  op: &quot;Tile&quot;\\n  input: &quot;gradients_1/mean_squared_error/Sum_1_grad/Reshape&quot;\\n  input: &quot;gradients_1/mean_squared_error/Sum_1_grad/Tile/multiples&quot;\\n  attr {\\n    key: &quot;T&quot;\\n    value {\\n      type: DT_FLOAT\\n    }\\n  }\\n  attr {\\n    key: &quot;Tmultiples&quot;\\n    value {\\n      type: DT_INT32\\n    }\\n  }\\n}\\nnode {\\n  name: &quot;gradients_1/mean_squared_error/Select_grad/zeros_like&quot;\\n  op: &quot;Const&quot;\\n  attr {\\n    key: &quot;dtype&quot;\\n    value {\\n      type: DT_FLOAT\\n    }\\n  }\\n  attr {\\n    key: &quot;value&quot;\\n    value {\\n      tensor {\\n        dtype: DT_FLOAT\\n        tensor_shape {\\n        }\\n        float_val: 0.0\\n      }\\n    }\\n  }\\n}\\nnode {\\n  name: &quot;gradients_1/mean_squared_error/Select_grad/Select&quot;\\n  op: &quot;Select&quot;\\n  input: &quot;mean_squared_error/Equal&quot;\\n  input: &quot;gradients_1/mean_squared_error/div_grad/tuple/control_dependency_1&quot;\\n  input: &quot;gradients_1/mean_squared_error/Select_grad/zeros_like&quot;\\n  attr {\\n    key: &quot;T&quot;\\n    value {\\n      type: DT_FLOAT\\n    }\\n  }\\n}\\nnode {\\n  name: &quot;gradients_1/mean_squared_error/Select_grad/Select_1&quot;\\n  op: &quot;Select&quot;\\n  input: &quot;mean_squared_error/Equal&quot;\\n  input: &quot;gradients_1/mean_squared_error/Select_grad/zeros_like&quot;\\n  input: &quot;gradients_1/mean_squared_error/div_grad/tuple/control_dependency_1&quot;\\n  attr {\\n    key: &quot;T&quot;\\n    value {\\n      type: DT_FLOAT\\n    }\\n  }\\n}\\nnode {\\n  name: &quot;gradients_1/mean_squared_error/Select_grad/tuple/group_deps&quot;\\n  op: &quot;NoOp&quot;\\n  input: &quot;^gradients_1/mean_squared_error/Select_grad/Select&quot;\\n  input: &quot;^gradients_1/mean_squared_error/Select_grad/Select_1&quot;\\n}\\nnode {\\n  name: &quot;gradients_1/mean_squared_error/Select_grad/tuple/control_dependency&quot;\\n  op: &quot;Identity&quot;\\n  input: &quot;gradients_1/mean_squared_error/Select_grad/Select&quot;\\n  input: &quot;^gradients_1/mean_squared_error/Select_grad/tuple/group_deps&quot;\\n  attr {\\n    key: &quot;T&quot;\\n    value {\\n      type: DT_FLOAT\\n    }\\n  }\\n  attr {\\n    key: &quot;_class&quot;\\n    value {\\n      list {\\n        s: &quot;loc:@gradients_1/mean_squared_error/Select_grad/Select&quot;\\n      }\\n    }\\n  }\\n}\\nnode {\\n  name: &quot;gradients_1/mean_squared_error/Select_grad/tuple/control_dependency_1&quot;\\n  op: &quot;Identity&quot;\\n  input: &quot;gradients_1/mean_squared_error/Select_grad/Select_1&quot;\\n  input: &quot;^gradients_1/mean_squared_error/Select_grad/tuple/group_deps&quot;\\n  attr {\\n    key: &quot;T&quot;\\n    value {\\n      type: DT_FLOAT\\n    }\\n  }\\n  attr {\\n    key: &quot;_class&quot;\\n    value {\\n      list {\\n        s: &quot;loc:@gradients_1/mean_squared_error/Select_grad/Select_1&quot;\\n      }\\n    }\\n  }\\n}\\nnode {\\n  name: &quot;gradients_1/mean_squared_error/Sum_grad/Reshape/shape&quot;\\n  op: &quot;Const&quot;\\n  attr {\\n    key: &quot;dtype&quot;\\n    value {\\n      type: DT_INT32\\n    }\\n  }\\n  attr {\\n    key: &quot;value&quot;\\n    value {\\n      tensor {\\n        dtype: DT_INT32\\n        tensor_shape {\\n          dim {\\n            size: 2\\n          }\\n        }\\n        tensor_content: &quot;\\\\001\\\\000\\\\000\\\\000\\\\001\\\\000\\\\000\\\\000&quot;\\n      }\\n    }\\n  }\\n}\\nnode {\\n  name: &quot;gradients_1/mean_squared_error/Sum_grad/Reshape&quot;\\n  op: &quot;Reshape&quot;\\n  input: &quot;gradients_1/mean_squared_error/Sum_1_grad/Tile&quot;\\n  input: &quot;gradients_1/mean_squared_error/Sum_grad/Reshape/shape&quot;\\n  attr {\\n    key: &quot;T&quot;\\n    value {\\n      type: DT_FLOAT\\n    }\\n  }\\n  attr {\\n    key: &quot;Tshape&quot;\\n    value {\\n      type: DT_INT32\\n    }\\n  }\\n}\\nnode {\\n  name: &quot;gradients_1/mean_squared_error/Sum_grad/Shape&quot;\\n  op: &quot;Shape&quot;\\n  input: &quot;mean_squared_error/Mul&quot;\\n  attr {\\n    key: &quot;T&quot;\\n    value {\\n      type: DT_FLOAT\\n    }\\n  }\\n  attr {\\n    key: &quot;out_type&quot;\\n    value {\\n      type: DT_INT32\\n    }\\n  }\\n}\\nnode {\\n  name: &quot;gradients_1/mean_squared_error/Sum_grad/Tile&quot;\\n  op: &quot;Tile&quot;\\n  input: &quot;gradients_1/mean_squared_error/Sum_grad/Reshape&quot;\\n  input: &quot;gradients_1/mean_squared_error/Sum_grad/Shape&quot;\\n  attr {\\n    key: &quot;T&quot;\\n    value {\\n      type: DT_FLOAT\\n    }\\n  }\\n  attr {\\n    key: &quot;Tmultiples&quot;\\n    value {\\n      type: DT_INT32\\n    }\\n  }\\n}\\nnode {\\n  name: &quot;gradients_1/mean_squared_error/Mul_grad/Shape&quot;\\n  op: &quot;Shape&quot;\\n  input: &quot;mean_squared_error/SquaredDifference&quot;\\n  attr {\\n    key: &quot;T&quot;\\n    value {\\n      type: DT_FLOAT\\n    }\\n  }\\n  attr {\\n    key: &quot;out_type&quot;\\n    value {\\n      type: DT_INT32\\n    }\\n  }\\n}\\nnode {\\n  name: &quot;gradients_1/mean_squared_error/Mul_grad/Shape_1&quot;\\n  op: &quot;Const&quot;\\n  attr {\\n    key: &quot;dtype&quot;\\n    value {\\n      type: DT_INT32\\n    }\\n  }\\n  attr {\\n    key: &quot;value&quot;\\n    value {\\n      tensor {\\n        dtype: DT_INT32\\n        tensor_shape {\\n          dim {\\n          }\\n        }\\n      }\\n    }\\n  }\\n}\\nnode {\\n  name: &quot;gradients_1/mean_squared_error/Mul_grad/BroadcastGradientArgs&quot;\\n  op: &quot;BroadcastGradientArgs&quot;\\n  input: &quot;gradients_1/mean_squared_error/Mul_grad/Shape&quot;\\n  input: &quot;gradients_1/mean_squared_error/Mul_grad/Shape_1&quot;\\n  attr {\\n    key: &quot;T&quot;\\n    value {\\n      type: DT_INT32\\n    }\\n  }\\n}\\nnode {\\n  name: &quot;gradients_1/mean_squared_error/Mul_grad/mul&quot;\\n  op: &quot;Mul&quot;\\n  input: &quot;gradients_1/mean_squared_error/Sum_grad/Tile&quot;\\n  input: &quot;mean_squared_error/ToFloat_3/x&quot;\\n  attr {\\n    key: &quot;T&quot;\\n    value {\\n      type: DT_FLOAT\\n    }\\n  }\\n}\\nnode {\\n  name: &quot;gradients_1/mean_squared_error/Mul_grad/Sum&quot;\\n  op: &quot;Sum&quot;\\n  input: &quot;gradients_1/mean_squared_error/Mul_grad/mul&quot;\\n  input: &quot;gradients_1/mean_squared_error/Mul_grad/BroadcastGradientArgs&quot;\\n  attr {\\n    key: &quot;T&quot;\\n    value {\\n      type: DT_FLOAT\\n    }\\n  }\\n  attr {\\n    key: &quot;Tidx&quot;\\n    value {\\n      type: DT_INT32\\n    }\\n  }\\n  attr {\\n    key: &quot;keep_dims&quot;\\n    value {\\n      b: false\\n    }\\n  }\\n}\\nnode {\\n  name: &quot;gradients_1/mean_squared_error/Mul_grad/Reshape&quot;\\n  op: &quot;Reshape&quot;\\n  input: &quot;gradients_1/mean_squared_error/Mul_grad/Sum&quot;\\n  input: &quot;gradients_1/mean_squared_error/Mul_grad/Shape&quot;\\n  attr {\\n    key: &quot;T&quot;\\n    value {\\n      type: DT_FLOAT\\n    }\\n  }\\n  attr {\\n    key: &quot;Tshape&quot;\\n    value {\\n      type: DT_INT32\\n    }\\n  }\\n}\\nnode {\\n  name: &quot;gradients_1/mean_squared_error/Mul_grad/mul_1&quot;\\n  op: &quot;Mul&quot;\\n  input: &quot;mean_squared_error/SquaredDifference&quot;\\n  input: &quot;gradients_1/mean_squared_error/Sum_grad/Tile&quot;\\n  attr {\\n    key: &quot;T&quot;\\n    value {\\n      type: DT_FLOAT\\n    }\\n  }\\n}\\nnode {\\n  name: &quot;gradients_1/mean_squared_error/Mul_grad/Sum_1&quot;\\n  op: &quot;Sum&quot;\\n  input: &quot;gradients_1/mean_squared_error/Mul_grad/mul_1&quot;\\n  input: &quot;gradients_1/mean_squared_error/Mul_grad/BroadcastGradientArgs:1&quot;\\n  attr {\\n    key: &quot;T&quot;\\n    value {\\n      type: DT_FLOAT\\n    }\\n  }\\n  attr {\\n    key: &quot;Tidx&quot;\\n    value {\\n      type: DT_INT32\\n    }\\n  }\\n  attr {\\n    key: &quot;keep_dims&quot;\\n    value {\\n      b: false\\n    }\\n  }\\n}\\nnode {\\n  name: &quot;gradients_1/mean_squared_error/Mul_grad/Reshape_1&quot;\\n  op: &quot;Reshape&quot;\\n  input: &quot;gradients_1/mean_squared_error/Mul_grad/Sum_1&quot;\\n  input: &quot;gradients_1/mean_squared_error/Mul_grad/Shape_1&quot;\\n  attr {\\n    key: &quot;T&quot;\\n    value {\\n      type: DT_FLOAT\\n    }\\n  }\\n  attr {\\n    key: &quot;Tshape&quot;\\n    value {\\n      type: DT_INT32\\n    }\\n  }\\n}\\nnode {\\n  name: &quot;gradients_1/mean_squared_error/Mul_grad/tuple/group_deps&quot;\\n  op: &quot;NoOp&quot;\\n  input: &quot;^gradients_1/mean_squared_error/Mul_grad/Reshape&quot;\\n  input: &quot;^gradients_1/mean_squared_error/Mul_grad/Reshape_1&quot;\\n}\\nnode {\\n  name: &quot;gradients_1/mean_squared_error/Mul_grad/tuple/control_dependency&quot;\\n  op: &quot;Identity&quot;\\n  input: &quot;gradients_1/mean_squared_error/Mul_grad/Reshape&quot;\\n  input: &quot;^gradients_1/mean_squared_error/Mul_grad/tuple/group_deps&quot;\\n  attr {\\n    key: &quot;T&quot;\\n    value {\\n      type: DT_FLOAT\\n    }\\n  }\\n  attr {\\n    key: &quot;_class&quot;\\n    value {\\n      list {\\n        s: &quot;loc:@gradients_1/mean_squared_error/Mul_grad/Reshape&quot;\\n      }\\n    }\\n  }\\n}\\nnode {\\n  name: &quot;gradients_1/mean_squared_error/Mul_grad/tuple/control_dependency_1&quot;\\n  op: &quot;Identity&quot;\\n  input: &quot;gradients_1/mean_squared_error/Mul_grad/Reshape_1&quot;\\n  input: &quot;^gradients_1/mean_squared_error/Mul_grad/tuple/group_deps&quot;\\n  attr {\\n    key: &quot;T&quot;\\n    value {\\n      type: DT_FLOAT\\n    }\\n  }\\n  attr {\\n    key: &quot;_class&quot;\\n    value {\\n      list {\\n        s: &quot;loc:@gradients_1/mean_squared_error/Mul_grad/Reshape_1&quot;\\n      }\\n    }\\n  }\\n}\\nnode {\\n  name: &quot;gradients_1/mean_squared_error/num_present_grad/Reshape/shape&quot;\\n  op: &quot;Const&quot;\\n  attr {\\n    key: &quot;dtype&quot;\\n    value {\\n      type: DT_INT32\\n    }\\n  }\\n  attr {\\n    key: &quot;value&quot;\\n    value {\\n      tensor {\\n        dtype: DT_INT32\\n        tensor_shape {\\n          dim {\\n            size: 2\\n          }\\n        }\\n        tensor_content: &quot;\\\\001\\\\000\\\\000\\\\000\\\\001\\\\000\\\\000\\\\000&quot;\\n      }\\n    }\\n  }\\n}\\nnode {\\n  name: &quot;gradients_1/mean_squared_error/num_present_grad/Reshape&quot;\\n  op: &quot;Reshape&quot;\\n  input: &quot;gradients_1/mean_squared_error/Select_grad/tuple/control_dependency_1&quot;\\n  input: &quot;gradients_1/mean_squared_error/num_present_grad/Reshape/shape&quot;\\n  attr {\\n    key: &quot;T&quot;\\n    value {\\n      type: DT_FLOAT\\n    }\\n  }\\n  attr {\\n    key: &quot;Tshape&quot;\\n    value {\\n      type: DT_INT32\\n    }\\n  }\\n}\\nnode {\\n  name: &quot;gradients_1/mean_squared_error/num_present_grad/Shape&quot;\\n  op: &quot;Shape&quot;\\n  input: &quot;mean_squared_error/num_present/broadcast_weights&quot;\\n  attr {\\n    key: &quot;T&quot;\\n    value {\\n      type: DT_FLOAT\\n    }\\n  }\\n  attr {\\n    key: &quot;out_type&quot;\\n    value {\\n      type: DT_INT32\\n    }\\n  }\\n}\\nnode {\\n  name: &quot;gradients_1/mean_squared_error/num_present_grad/Tile&quot;\\n  op: &quot;Tile&quot;\\n  input: &quot;gradients_1/mean_squared_error/num_present_grad/Reshape&quot;\\n  input: &quot;gradients_1/mean_squared_error/num_present_grad/Shape&quot;\\n  attr {\\n    key: &quot;T&quot;\\n    value {\\n      type: DT_FLOAT\\n    }\\n  }\\n  attr {\\n    key: &quot;Tmultiples&quot;\\n    value {\\n      type: DT_INT32\\n    }\\n  }\\n}\\nnode {\\n  name: &quot;gradients_1/mean_squared_error/num_present/broadcast_weights_grad/Shape&quot;\\n  op: &quot;Const&quot;\\n  attr {\\n    key: &quot;dtype&quot;\\n    value {\\n      type: DT_INT32\\n    }\\n  }\\n  attr {\\n    key: &quot;value&quot;\\n    value {\\n      tensor {\\n        dtype: DT_INT32\\n        tensor_shape {\\n          dim {\\n          }\\n        }\\n      }\\n    }\\n  }\\n}\\nnode {\\n  name: &quot;gradients_1/mean_squared_error/num_present/broadcast_weights_grad/Shape_1&quot;\\n  op: &quot;Shape&quot;\\n  input: &quot;mean_squared_error/num_present/broadcast_weights/ones_like&quot;\\n  attr {\\n    key: &quot;T&quot;\\n    value {\\n      type: DT_FLOAT\\n    }\\n  }\\n  attr {\\n    key: &quot;out_type&quot;\\n    value {\\n      type: DT_INT32\\n    }\\n  }\\n}\\nnode {\\n  name: &quot;gradients_1/mean_squared_error/num_present/broadcast_weights_grad/BroadcastGradientArgs&quot;\\n  op: &quot;BroadcastGradientArgs&quot;\\n  input: &quot;gradients_1/mean_squared_error/num_present/broadcast_weights_grad/Shape&quot;\\n  input: &quot;gradients_1/mean_squared_error/num_present/broadcast_weights_grad/Shape_1&quot;\\n  attr {\\n    key: &quot;T&quot;\\n    value {\\n      type: DT_INT32\\n    }\\n  }\\n}\\nnode {\\n  name: &quot;gradients_1/mean_squared_error/num_present/broadcast_weights_grad/mul&quot;\\n  op: &quot;Mul&quot;\\n  input: &quot;gradients_1/mean_squared_error/num_present_grad/Tile&quot;\\n  input: &quot;mean_squared_error/num_present/broadcast_weights/ones_like&quot;\\n  attr {\\n    key: &quot;T&quot;\\n    value {\\n      type: DT_FLOAT\\n    }\\n  }\\n}\\nnode {\\n  name: &quot;gradients_1/mean_squared_error/num_present/broadcast_weights_grad/Sum&quot;\\n  op: &quot;Sum&quot;\\n  input: &quot;gradients_1/mean_squared_error/num_present/broadcast_weights_grad/mul&quot;\\n  input: &quot;gradients_1/mean_squared_error/num_present/broadcast_weights_grad/BroadcastGradientArgs&quot;\\n  attr {\\n    key: &quot;T&quot;\\n    value {\\n      type: DT_FLOAT\\n    }\\n  }\\n  attr {\\n    key: &quot;Tidx&quot;\\n    value {\\n      type: DT_INT32\\n    }\\n  }\\n  attr {\\n    key: &quot;keep_dims&quot;\\n    value {\\n      b: false\\n    }\\n  }\\n}\\nnode {\\n  name: &quot;gradients_1/mean_squared_error/num_present/broadcast_weights_grad/Reshape&quot;\\n  op: &quot;Reshape&quot;\\n  input: &quot;gradients_1/mean_squared_error/num_present/broadcast_weights_grad/Sum&quot;\\n  input: &quot;gradients_1/mean_squared_error/num_present/broadcast_weights_grad/Shape&quot;\\n  attr {\\n    key: &quot;T&quot;\\n    value {\\n      type: DT_FLOAT\\n    }\\n  }\\n  attr {\\n    key: &quot;Tshape&quot;\\n    value {\\n      type: DT_INT32\\n    }\\n  }\\n}\\nnode {\\n  name: &quot;gradients_1/mean_squared_error/num_present/broadcast_weights_grad/mul_1&quot;\\n  op: &quot;Mul&quot;\\n  input: &quot;mean_squared_error/num_present/Select&quot;\\n  input: &quot;gradients_1/mean_squared_error/num_present_grad/Tile&quot;\\n  attr {\\n    key: &quot;T&quot;\\n    value {\\n      type: DT_FLOAT\\n    }\\n  }\\n}\\nnode {\\n  name: &quot;gradients_1/mean_squared_error/num_present/broadcast_weights_grad/Sum_1&quot;\\n  op: &quot;Sum&quot;\\n  input: &quot;gradients_1/mean_squared_error/num_present/broadcast_weights_grad/mul_1&quot;\\n  input: &quot;gradients_1/mean_squared_error/num_present/broadcast_weights_grad/BroadcastGradientArgs:1&quot;\\n  attr {\\n    key: &quot;T&quot;\\n    value {\\n      type: DT_FLOAT\\n    }\\n  }\\n  attr {\\n    key: &quot;Tidx&quot;\\n    value {\\n      type: DT_INT32\\n    }\\n  }\\n  attr {\\n    key: &quot;keep_dims&quot;\\n    value {\\n      b: false\\n    }\\n  }\\n}\\nnode {\\n  name: &quot;gradients_1/mean_squared_error/num_present/broadcast_weights_grad/Reshape_1&quot;\\n  op: &quot;Reshape&quot;\\n  input: &quot;gradients_1/mean_squared_error/num_present/broadcast_weights_grad/Sum_1&quot;\\n  input: &quot;gradients_1/mean_squared_error/num_present/broadcast_weights_grad/Shape_1&quot;\\n  attr {\\n    key: &quot;T&quot;\\n    value {\\n      type: DT_FLOAT\\n    }\\n  }\\n  attr {\\n    key: &quot;Tshape&quot;\\n    value {\\n      type: DT_INT32\\n    }\\n  }\\n}\\nnode {\\n  name: &quot;gradients_1/mean_squared_error/num_present/broadcast_weights_grad/tuple/group_deps&quot;\\n  op: &quot;NoOp&quot;\\n  input: &quot;^gradients_1/mean_squared_error/num_present/broadcast_weights_grad/Reshape&quot;\\n  input: &quot;^gradients_1/mean_squared_error/num_present/broadcast_weights_grad/Reshape_1&quot;\\n}\\nnode {\\n  name: &quot;gradients_1/mean_squared_error/num_present/broadcast_weights_grad/tuple/control_dependency&quot;\\n  op: &quot;Identity&quot;\\n  input: &quot;gradients_1/mean_squared_error/num_present/broadcast_weights_grad/Reshape&quot;\\n  input: &quot;^gradients_1/mean_squared_error/num_present/broadcast_weights_grad/tuple/group_deps&quot;\\n  attr {\\n    key: &quot;T&quot;\\n    value {\\n      type: DT_FLOAT\\n    }\\n  }\\n  attr {\\n    key: &quot;_class&quot;\\n    value {\\n      list {\\n        s: &quot;loc:@gradients_1/mean_squared_error/num_present/broadcast_weights_grad/Reshape&quot;\\n      }\\n    }\\n  }\\n}\\nnode {\\n  name: &quot;gradients_1/mean_squared_error/num_present/broadcast_weights_grad/tuple/control_dependency_1&quot;\\n  op: &quot;Identity&quot;\\n  input: &quot;gradients_1/mean_squared_error/num_present/broadcast_weights_grad/Reshape_1&quot;\\n  input: &quot;^gradients_1/mean_squared_error/num_present/broadcast_weights_grad/tuple/group_deps&quot;\\n  attr {\\n    key: &quot;T&quot;\\n    value {\\n      type: DT_FLOAT\\n    }\\n  }\\n  attr {\\n    key: &quot;_class&quot;\\n    value {\\n      list {\\n        s: &quot;loc:@gradients_1/mean_squared_error/num_present/broadcast_weights_grad/Reshape_1&quot;\\n      }\\n    }\\n  }\\n}\\nnode {\\n  name: &quot;gradients_1/mean_squared_error/num_present/broadcast_weights/ones_like_grad/Const&quot;\\n  op: &quot;Const&quot;\\n  attr {\\n    key: &quot;dtype&quot;\\n    value {\\n      type: DT_INT32\\n    }\\n  }\\n  attr {\\n    key: &quot;value&quot;\\n    value {\\n      tensor {\\n        dtype: DT_INT32\\n        tensor_shape {\\n          dim {\\n            size: 2\\n          }\\n        }\\n        tensor_content: &quot;\\\\000\\\\000\\\\000\\\\000\\\\001\\\\000\\\\000\\\\000&quot;\\n      }\\n    }\\n  }\\n}\\nnode {\\n  name: &quot;gradients_1/mean_squared_error/num_present/broadcast_weights/ones_like_grad/Sum&quot;\\n  op: &quot;Sum&quot;\\n  input: &quot;gradients_1/mean_squared_error/num_present/broadcast_weights_grad/tuple/control_dependency_1&quot;\\n  input: &quot;gradients_1/mean_squared_error/num_present/broadcast_weights/ones_like_grad/Const&quot;\\n  attr {\\n    key: &quot;T&quot;\\n    value {\\n      type: DT_FLOAT\\n    }\\n  }\\n  attr {\\n    key: &quot;Tidx&quot;\\n    value {\\n      type: DT_INT32\\n    }\\n  }\\n  attr {\\n    key: &quot;keep_dims&quot;\\n    value {\\n      b: false\\n    }\\n  }\\n}\\nnode {\\n  name: &quot;gradients_1/mean_squared_error/SquaredDifference_grad/Shape&quot;\\n  op: &quot;Shape&quot;\\n  input: &quot;prediction_dense_layer/BiasAdd&quot;\\n  attr {\\n    key: &quot;T&quot;\\n    value {\\n      type: DT_FLOAT\\n    }\\n  }\\n  attr {\\n    key: &quot;out_type&quot;\\n    value {\\n      type: DT_INT32\\n    }\\n  }\\n}\\nnode {\\n  name: &quot;gradients_1/mean_squared_error/SquaredDifference_grad/Shape_1&quot;\\n  op: &quot;Shape&quot;\\n  input: &quot;userdefinedoutput&quot;\\n  attr {\\n    key: &quot;T&quot;\\n    value {\\n      type: DT_FLOAT\\n    }\\n  }\\n  attr {\\n    key: &quot;out_type&quot;\\n    value {\\n      type: DT_INT32\\n    }\\n  }\\n}\\nnode {\\n  name: &quot;gradients_1/mean_squared_error/SquaredDifference_grad/BroadcastGradientArgs&quot;\\n  op: &quot;BroadcastGradientArgs&quot;\\n  input: &quot;gradients_1/mean_squared_error/SquaredDifference_grad/Shape&quot;\\n  input: &quot;gradients_1/mean_squared_error/SquaredDifference_grad/Shape_1&quot;\\n  attr {\\n    key: &quot;T&quot;\\n    value {\\n      type: DT_INT32\\n    }\\n  }\\n}\\nnode {\\n  name: &quot;gradients_1/mean_squared_error/SquaredDifference_grad/scalar&quot;\\n  op: &quot;Const&quot;\\n  input: &quot;^gradients_1/mean_squared_error/Mul_grad/tuple/control_dependency&quot;\\n  attr {\\n    key: &quot;dtype&quot;\\n    value {\\n      type: DT_FLOAT\\n    }\\n  }\\n  attr {\\n    key: &quot;value&quot;\\n    value {\\n      tensor {\\n        dtype: DT_FLOAT\\n        tensor_shape {\\n        }\\n        float_val: 2.0\\n      }\\n    }\\n  }\\n}\\nnode {\\n  name: &quot;gradients_1/mean_squared_error/SquaredDifference_grad/mul&quot;\\n  op: &quot;Mul&quot;\\n  input: &quot;gradients_1/mean_squared_error/SquaredDifference_grad/scalar&quot;\\n  input: &quot;gradients_1/mean_squared_error/Mul_grad/tuple/control_dependency&quot;\\n  attr {\\n    key: &quot;T&quot;\\n    value {\\n      type: DT_FLOAT\\n    }\\n  }\\n}\\nnode {\\n  name: &quot;gradients_1/mean_squared_error/SquaredDifference_grad/sub&quot;\\n  op: &quot;Sub&quot;\\n  input: &quot;prediction_dense_layer/BiasAdd&quot;\\n  input: &quot;userdefinedoutput&quot;\\n  input: &quot;^gradients_1/mean_squared_error/Mul_grad/tuple/control_dependency&quot;\\n  attr {\\n    key: &quot;T&quot;\\n    value {\\n      type: DT_FLOAT\\n    }\\n  }\\n}\\nnode {\\n  name: &quot;gradients_1/mean_squared_error/SquaredDifference_grad/mul_1&quot;\\n  op: &quot;Mul&quot;\\n  input: &quot;gradients_1/mean_squared_error/SquaredDifference_grad/mul&quot;\\n  input: &quot;gradients_1/mean_squared_error/SquaredDifference_grad/sub&quot;\\n  attr {\\n    key: &quot;T&quot;\\n    value {\\n      type: DT_FLOAT\\n    }\\n  }\\n}\\nnode {\\n  name: &quot;gradients_1/mean_squared_error/SquaredDifference_grad/Sum&quot;\\n  op: &quot;Sum&quot;\\n  input: &quot;gradients_1/mean_squared_error/SquaredDifference_grad/mul_1&quot;\\n  input: &quot;gradients_1/mean_squared_error/SquaredDifference_grad/BroadcastGradientArgs&quot;\\n  attr {\\n    key: &quot;T&quot;\\n    value {\\n      type: DT_FLOAT\\n    }\\n  }\\n  attr {\\n    key: &quot;Tidx&quot;\\n    value {\\n      type: DT_INT32\\n    }\\n  }\\n  attr {\\n    key: &quot;keep_dims&quot;\\n    value {\\n      b: false\\n    }\\n  }\\n}\\nnode {\\n  name: &quot;gradients_1/mean_squared_error/SquaredDifference_grad/Reshape&quot;\\n  op: &quot;Reshape&quot;\\n  input: &quot;gradients_1/mean_squared_error/SquaredDifference_grad/Sum&quot;\\n  input: &quot;gradients_1/mean_squared_error/SquaredDifference_grad/Shape&quot;\\n  attr {\\n    key: &quot;T&quot;\\n    value {\\n      type: DT_FLOAT\\n    }\\n  }\\n  attr {\\n    key: &quot;Tshape&quot;\\n    value {\\n      type: DT_INT32\\n    }\\n  }\\n}\\nnode {\\n  name: &quot;gradients_1/mean_squared_error/SquaredDifference_grad/Sum_1&quot;\\n  op: &quot;Sum&quot;\\n  input: &quot;gradients_1/mean_squared_error/SquaredDifference_grad/mul_1&quot;\\n  input: &quot;gradients_1/mean_squared_error/SquaredDifference_grad/BroadcastGradientArgs:1&quot;\\n  attr {\\n    key: &quot;T&quot;\\n    value {\\n      type: DT_FLOAT\\n    }\\n  }\\n  attr {\\n    key: &quot;Tidx&quot;\\n    value {\\n      type: DT_INT32\\n    }\\n  }\\n  attr {\\n    key: &quot;keep_dims&quot;\\n    value {\\n      b: false\\n    }\\n  }\\n}\\nnode {\\n  name: &quot;gradients_1/mean_squared_error/SquaredDifference_grad/Reshape_1&quot;\\n  op: &quot;Reshape&quot;\\n  input: &quot;gradients_1/mean_squared_error/SquaredDifference_grad/Sum_1&quot;\\n  input: &quot;gradients_1/mean_squared_error/SquaredDifference_grad/Shape_1&quot;\\n  attr {\\n    key: &quot;T&quot;\\n    value {\\n      type: DT_FLOAT\\n    }\\n  }\\n  attr {\\n    key: &quot;Tshape&quot;\\n    value {\\n      type: DT_INT32\\n    }\\n  }\\n}\\nnode {\\n  name: &quot;gradients_1/mean_squared_error/SquaredDifference_grad/Neg&quot;\\n  op: &quot;Neg&quot;\\n  input: &quot;gradients_1/mean_squared_error/SquaredDifference_grad/Reshape_1&quot;\\n  attr {\\n    key: &quot;T&quot;\\n    value {\\n      type: DT_FLOAT\\n    }\\n  }\\n}\\nnode {\\n  name: &quot;gradients_1/mean_squared_error/SquaredDifference_grad/tuple/group_deps&quot;\\n  op: &quot;NoOp&quot;\\n  input: &quot;^gradients_1/mean_squared_error/SquaredDifference_grad/Reshape&quot;\\n  input: &quot;^gradients_1/mean_squared_error/SquaredDifference_grad/Neg&quot;\\n}\\nnode {\\n  name: &quot;gradients_1/mean_squared_error/SquaredDifference_grad/tuple/control_dependency&quot;\\n  op: &quot;Identity&quot;\\n  input: &quot;gradients_1/mean_squared_error/SquaredDifference_grad/Reshape&quot;\\n  input: &quot;^gradients_1/mean_squared_error/SquaredDifference_grad/tuple/group_deps&quot;\\n  attr {\\n    key: &quot;T&quot;\\n    value {\\n      type: DT_FLOAT\\n    }\\n  }\\n  attr {\\n    key: &quot;_class&quot;\\n    value {\\n      list {\\n        s: &quot;loc:@gradients_1/mean_squared_error/SquaredDifference_grad/Reshape&quot;\\n      }\\n    }\\n  }\\n}\\nnode {\\n  name: &quot;gradients_1/mean_squared_error/SquaredDifference_grad/tuple/control_dependency_1&quot;\\n  op: &quot;Identity&quot;\\n  input: &quot;gradients_1/mean_squared_error/SquaredDifference_grad/Neg&quot;\\n  input: &quot;^gradients_1/mean_squared_error/SquaredDifference_grad/tuple/group_deps&quot;\\n  attr {\\n    key: &quot;T&quot;\\n    value {\\n      type: DT_FLOAT\\n    }\\n  }\\n  attr {\\n    key: &quot;_class&quot;\\n    value {\\n      list {\\n        s: &quot;loc:@gradients_1/mean_squared_error/SquaredDifference_grad/Neg&quot;\\n      }\\n    }\\n  }\\n}\\nnode {\\n  name: &quot;gradients_1/prediction_dense_layer/BiasAdd_grad/BiasAddGrad&quot;\\n  op: &quot;BiasAddGrad&quot;\\n  input: &quot;gradients_1/mean_squared_error/SquaredDifference_grad/tuple/control_dependency&quot;\\n  attr {\\n    key: &quot;T&quot;\\n    value {\\n      type: DT_FLOAT\\n    }\\n  }\\n  attr {\\n    key: &quot;data_format&quot;\\n    value {\\n      s: &quot;NHWC&quot;\\n    }\\n  }\\n}\\nnode {\\n  name: &quot;gradients_1/prediction_dense_layer/BiasAdd_grad/tuple/group_deps&quot;\\n  op: &quot;NoOp&quot;\\n  input: &quot;^gradients_1/mean_squared_error/SquaredDifference_grad/tuple/control_dependency&quot;\\n  input: &quot;^gradients_1/prediction_dense_layer/BiasAdd_grad/BiasAddGrad&quot;\\n}\\nnode {\\n  name: &quot;gradients_1/prediction_dense_layer/BiasAdd_grad/tuple/control_dependency&quot;\\n  op: &quot;Identity&quot;\\n  input: &quot;gradients_1/mean_squared_error/SquaredDifference_grad/tuple/control_dependency&quot;\\n  input: &quot;^gradients_1/prediction_dense_layer/BiasAdd_grad/tuple/group_deps&quot;\\n  attr {\\n    key: &quot;T&quot;\\n    value {\\n      type: DT_FLOAT\\n    }\\n  }\\n  attr {\\n    key: &quot;_class&quot;\\n    value {\\n      list {\\n        s: &quot;loc:@gradients_1/mean_squared_error/SquaredDifference_grad/Reshape&quot;\\n      }\\n    }\\n  }\\n}\\nnode {\\n  name: &quot;gradients_1/prediction_dense_layer/BiasAdd_grad/tuple/control_dependency_1&quot;\\n  op: &quot;Identity&quot;\\n  input: &quot;gradients_1/prediction_dense_layer/BiasAdd_grad/BiasAddGrad&quot;\\n  input: &quot;^gradients_1/prediction_dense_layer/BiasAdd_grad/tuple/group_deps&quot;\\n  attr {\\n    key: &quot;T&quot;\\n    value {\\n      type: DT_FLOAT\\n    }\\n  }\\n  attr {\\n    key: &quot;_class&quot;\\n    value {\\n      list {\\n        s: &quot;loc:@gradients_1/prediction_dense_layer/BiasAdd_grad/BiasAddGrad&quot;\\n      }\\n    }\\n  }\\n}\\nnode {\\n  name: &quot;gradients_1/prediction_dense_layer/MatMul_grad/MatMul&quot;\\n  op: &quot;MatMul&quot;\\n  input: &quot;gradients_1/prediction_dense_layer/BiasAdd_grad/tuple/control_dependency&quot;\\n  input: &quot;prediction_dense_layer/kernel/read&quot;\\n  attr {\\n    key: &quot;T&quot;\\n    value {\\n      type: DT_FLOAT\\n    }\\n  }\\n  attr {\\n    key: &quot;transpose_a&quot;\\n    value {\\n      b: false\\n    }\\n  }\\n  attr {\\n    key: &quot;transpose_b&quot;\\n    value {\\n      b: true\\n    }\\n  }\\n}\\nnode {\\n  name: &quot;gradients_1/prediction_dense_layer/MatMul_grad/MatMul_1&quot;\\n  op: &quot;MatMul&quot;\\n  input: &quot;first_dense_layer/Sigmoid&quot;\\n  input: &quot;gradients_1/prediction_dense_layer/BiasAdd_grad/tuple/control_dependency&quot;\\n  attr {\\n    key: &quot;T&quot;\\n    value {\\n      type: DT_FLOAT\\n    }\\n  }\\n  attr {\\n    key: &quot;transpose_a&quot;\\n    value {\\n      b: true\\n    }\\n  }\\n  attr {\\n    key: &quot;transpose_b&quot;\\n    value {\\n      b: false\\n    }\\n  }\\n}\\nnode {\\n  name: &quot;gradients_1/prediction_dense_layer/MatMul_grad/tuple/group_deps&quot;\\n  op: &quot;NoOp&quot;\\n  input: &quot;^gradients_1/prediction_dense_layer/MatMul_grad/MatMul&quot;\\n  input: &quot;^gradients_1/prediction_dense_layer/MatMul_grad/MatMul_1&quot;\\n}\\nnode {\\n  name: &quot;gradients_1/prediction_dense_layer/MatMul_grad/tuple/control_dependency&quot;\\n  op: &quot;Identity&quot;\\n  input: &quot;gradients_1/prediction_dense_layer/MatMul_grad/MatMul&quot;\\n  input: &quot;^gradients_1/prediction_dense_layer/MatMul_grad/tuple/group_deps&quot;\\n  attr {\\n    key: &quot;T&quot;\\n    value {\\n      type: DT_FLOAT\\n    }\\n  }\\n  attr {\\n    key: &quot;_class&quot;\\n    value {\\n      list {\\n        s: &quot;loc:@gradients_1/prediction_dense_layer/MatMul_grad/MatMul&quot;\\n      }\\n    }\\n  }\\n}\\nnode {\\n  name: &quot;gradients_1/prediction_dense_layer/MatMul_grad/tuple/control_dependency_1&quot;\\n  op: &quot;Identity&quot;\\n  input: &quot;gradients_1/prediction_dense_layer/MatMul_grad/MatMul_1&quot;\\n  input: &quot;^gradients_1/prediction_dense_layer/MatMul_grad/tuple/group_deps&quot;\\n  attr {\\n    key: &quot;T&quot;\\n    value {\\n      type: DT_FLOAT\\n    }\\n  }\\n  attr {\\n    key: &quot;_class&quot;\\n    value {\\n      list {\\n        s: &quot;loc:@gradients_1/prediction_dense_layer/MatMul_grad/MatMul_1&quot;\\n      }\\n    }\\n  }\\n}\\nnode {\\n  name: &quot;gradients_1/first_dense_layer/Sigmoid_grad/SigmoidGrad&quot;\\n  op: &quot;SigmoidGrad&quot;\\n  input: &quot;first_dense_layer/Sigmoid&quot;\\n  input: &quot;gradients_1/prediction_dense_layer/MatMul_grad/tuple/control_dependency&quot;\\n  attr {\\n    key: &quot;T&quot;\\n    value {\\n      type: DT_FLOAT\\n    }\\n  }\\n}\\nnode {\\n  name: &quot;gradients_1/first_dense_layer/BiasAdd_grad/BiasAddGrad&quot;\\n  op: &quot;BiasAddGrad&quot;\\n  input: &quot;gradients_1/first_dense_layer/Sigmoid_grad/SigmoidGrad&quot;\\n  attr {\\n    key: &quot;T&quot;\\n    value {\\n      type: DT_FLOAT\\n    }\\n  }\\n  attr {\\n    key: &quot;data_format&quot;\\n    value {\\n      s: &quot;NHWC&quot;\\n    }\\n  }\\n}\\nnode {\\n  name: &quot;gradients_1/first_dense_layer/BiasAdd_grad/tuple/group_deps&quot;\\n  op: &quot;NoOp&quot;\\n  input: &quot;^gradients_1/first_dense_layer/Sigmoid_grad/SigmoidGrad&quot;\\n  input: &quot;^gradients_1/first_dense_layer/BiasAdd_grad/BiasAddGrad&quot;\\n}\\nnode {\\n  name: &quot;gradients_1/first_dense_layer/BiasAdd_grad/tuple/control_dependency&quot;\\n  op: &quot;Identity&quot;\\n  input: &quot;gradients_1/first_dense_layer/Sigmoid_grad/SigmoidGrad&quot;\\n  input: &quot;^gradients_1/first_dense_layer/BiasAdd_grad/tuple/group_deps&quot;\\n  attr {\\n    key: &quot;T&quot;\\n    value {\\n      type: DT_FLOAT\\n    }\\n  }\\n  attr {\\n    key: &quot;_class&quot;\\n    value {\\n      list {\\n        s: &quot;loc:@gradients_1/first_dense_layer/Sigmoid_grad/SigmoidGrad&quot;\\n      }\\n    }\\n  }\\n}\\nnode {\\n  name: &quot;gradients_1/first_dense_layer/BiasAdd_grad/tuple/control_dependency_1&quot;\\n  op: &quot;Identity&quot;\\n  input: &quot;gradients_1/first_dense_layer/BiasAdd_grad/BiasAddGrad&quot;\\n  input: &quot;^gradients_1/first_dense_layer/BiasAdd_grad/tuple/group_deps&quot;\\n  attr {\\n    key: &quot;T&quot;\\n    value {\\n      type: DT_FLOAT\\n    }\\n  }\\n  attr {\\n    key: &quot;_class&quot;\\n    value {\\n      list {\\n        s: &quot;loc:@gradients_1/first_dense_layer/BiasAdd_grad/BiasAddGrad&quot;\\n      }\\n    }\\n  }\\n}\\nnode {\\n  name: &quot;gradients_1/first_dense_layer/MatMul_grad/MatMul&quot;\\n  op: &quot;MatMul&quot;\\n  input: &quot;gradients_1/first_dense_layer/BiasAdd_grad/tuple/control_dependency&quot;\\n  input: &quot;first_dense_layer/kernel/read&quot;\\n  attr {\\n    key: &quot;T&quot;\\n    value {\\n      type: DT_FLOAT\\n    }\\n  }\\n  attr {\\n    key: &quot;transpose_a&quot;\\n    value {\\n      b: false\\n    }\\n  }\\n  attr {\\n    key: &quot;transpose_b&quot;\\n    value {\\n      b: true\\n    }\\n  }\\n}\\nnode {\\n  name: &quot;gradients_1/first_dense_layer/MatMul_grad/MatMul_1&quot;\\n  op: &quot;MatMul&quot;\\n  input: &quot;inputplaceholder&quot;\\n  input: &quot;gradients_1/first_dense_layer/BiasAdd_grad/tuple/control_dependency&quot;\\n  attr {\\n    key: &quot;T&quot;\\n    value {\\n      type: DT_FLOAT\\n    }\\n  }\\n  attr {\\n    key: &quot;transpose_a&quot;\\n    value {\\n      b: true\\n    }\\n  }\\n  attr {\\n    key: &quot;transpose_b&quot;\\n    value {\\n      b: false\\n    }\\n  }\\n}\\nnode {\\n  name: &quot;gradients_1/first_dense_layer/MatMul_grad/tuple/group_deps&quot;\\n  op: &quot;NoOp&quot;\\n  input: &quot;^gradients_1/first_dense_layer/MatMul_grad/MatMul&quot;\\n  input: &quot;^gradients_1/first_dense_layer/MatMul_grad/MatMul_1&quot;\\n}\\nnode {\\n  name: &quot;gradients_1/first_dense_layer/MatMul_grad/tuple/control_dependency&quot;\\n  op: &quot;Identity&quot;\\n  input: &quot;gradients_1/first_dense_layer/MatMul_grad/MatMul&quot;\\n  input: &quot;^gradients_1/first_dense_layer/MatMul_grad/tuple/group_deps&quot;\\n  attr {\\n    key: &quot;T&quot;\\n    value {\\n      type: DT_FLOAT\\n    }\\n  }\\n  attr {\\n    key: &quot;_class&quot;\\n    value {\\n      list {\\n        s: &quot;loc:@gradients_1/first_dense_layer/MatMul_grad/MatMul&quot;\\n      }\\n    }\\n  }\\n}\\nnode {\\n  name: &quot;gradients_1/first_dense_layer/MatMul_grad/tuple/control_dependency_1&quot;\\n  op: &quot;Identity&quot;\\n  input: &quot;gradients_1/first_dense_layer/MatMul_grad/MatMul_1&quot;\\n  input: &quot;^gradients_1/first_dense_layer/MatMul_grad/tuple/group_deps&quot;\\n  attr {\\n    key: &quot;T&quot;\\n    value {\\n      type: DT_FLOAT\\n    }\\n  }\\n  attr {\\n    key: &quot;_class&quot;\\n    value {\\n      list {\\n        s: &quot;loc:@gradients_1/first_dense_layer/MatMul_grad/MatMul_1&quot;\\n      }\\n    }\\n  }\\n}\\nnode {\\n  name: &quot;GradientDescent_1/learning_rate&quot;\\n  op: &quot;Const&quot;\\n  attr {\\n    key: &quot;dtype&quot;\\n    value {\\n      type: DT_FLOAT\\n    }\\n  }\\n  attr {\\n    key: &quot;value&quot;\\n    value {\\n      tensor {\\n        dtype: DT_FLOAT\\n        tensor_shape {\\n        }\\n        float_val: 4.999999873689376e-05\\n      }\\n    }\\n  }\\n}\\nnode {\\n  name: &quot;GradientDescent_1/update_first_dense_layer/kernel/ApplyGradientDescent&quot;\\n  op: &quot;ApplyGradientDescent&quot;\\n  input: &quot;first_dense_layer/kernel&quot;\\n  input: &quot;GradientDescent_1/learning_rate&quot;\\n  input: &quot;gradients_1/first_dense_layer/MatMul_grad/tuple/control_dependency_1&quot;\\n  attr {\\n    key: &quot;T&quot;\\n    value {\\n      type: DT_FLOAT\\n    }\\n  }\\n  attr {\\n    key: &quot;_class&quot;\\n    value {\\n      list {\\n        s: &quot;loc:@first_dense_layer/kernel&quot;\\n      }\\n    }\\n  }\\n  attr {\\n    key: &quot;use_locking&quot;\\n    value {\\n      b: false\\n    }\\n  }\\n}\\nnode {\\n  name: &quot;GradientDescent_1/update_first_dense_layer/bias/ApplyGradientDescent&quot;\\n  op: &quot;ApplyGradientDescent&quot;\\n  input: &quot;first_dense_layer/bias&quot;\\n  input: &quot;GradientDescent_1/learning_rate&quot;\\n  input: &quot;gradients_1/first_dense_layer/BiasAdd_grad/tuple/control_dependency_1&quot;\\n  attr {\\n    key: &quot;T&quot;\\n    value {\\n      type: DT_FLOAT\\n    }\\n  }\\n  attr {\\n    key: &quot;_class&quot;\\n    value {\\n      list {\\n        s: &quot;loc:@first_dense_layer/bias&quot;\\n      }\\n    }\\n  }\\n  attr {\\n    key: &quot;use_locking&quot;\\n    value {\\n      b: false\\n    }\\n  }\\n}\\nnode {\\n  name: &quot;GradientDescent_1/update_prediction_dense_layer/kernel/ApplyGradientDescent&quot;\\n  op: &quot;ApplyGradientDescent&quot;\\n  input: &quot;prediction_dense_layer/kernel&quot;\\n  input: &quot;GradientDescent_1/learning_rate&quot;\\n  input: &quot;gradients_1/prediction_dense_layer/MatMul_grad/tuple/control_dependency_1&quot;\\n  attr {\\n    key: &quot;T&quot;\\n    value {\\n      type: DT_FLOAT\\n    }\\n  }\\n  attr {\\n    key: &quot;_class&quot;\\n    value {\\n      list {\\n        s: &quot;loc:@prediction_dense_layer/kernel&quot;\\n      }\\n    }\\n  }\\n  attr {\\n    key: &quot;use_locking&quot;\\n    value {\\n      b: false\\n    }\\n  }\\n}\\nnode {\\n  name: &quot;GradientDescent_1/update_prediction_dense_layer/bias/ApplyGradientDescent&quot;\\n  op: &quot;ApplyGradientDescent&quot;\\n  input: &quot;prediction_dense_layer/bias&quot;\\n  input: &quot;GradientDescent_1/learning_rate&quot;\\n  input: &quot;gradients_1/prediction_dense_layer/BiasAdd_grad/tuple/control_dependency_1&quot;\\n  attr {\\n    key: &quot;T&quot;\\n    value {\\n      type: DT_FLOAT\\n    }\\n  }\\n  attr {\\n    key: &quot;_class&quot;\\n    value {\\n      list {\\n        s: &quot;loc:@prediction_dense_layer/bias&quot;\\n      }\\n    }\\n  }\\n  attr {\\n    key: &quot;use_locking&quot;\\n    value {\\n      b: false\\n    }\\n  }\\n}\\nnode {\\n  name: &quot;GradientDescent_1&quot;\\n  op: &quot;NoOp&quot;\\n  input: &quot;^GradientDescent_1/update_first_dense_layer/kernel/ApplyGradientDescent&quot;\\n  input: &quot;^GradientDescent_1/update_first_dense_layer/bias/ApplyGradientDescent&quot;\\n  input: &quot;^GradientDescent_1/update_prediction_dense_layer/kernel/ApplyGradientDescent&quot;\\n  input: &quot;^GradientDescent_1/update_prediction_dense_layer/bias/ApplyGradientDescent&quot;\\n}\\nnode {\\n  name: &quot;init_1&quot;\\n  op: &quot;NoOp&quot;\\n  input: &quot;^first_dense_layer/kernel/Assign&quot;\\n  input: &quot;^first_dense_layer/bias/Assign&quot;\\n  input: &quot;^prediction_dense_layer/kernel/Assign&quot;\\n  input: &quot;^prediction_dense_layer/bias/Assign&quot;\\n}\\nnode {\\n  name: &quot;init_2&quot;\\n  op: &quot;NoOp&quot;\\n  input: &quot;^first_dense_layer/kernel/Assign&quot;\\n  input: &quot;^first_dense_layer/bias/Assign&quot;\\n  input: &quot;^prediction_dense_layer/kernel/Assign&quot;\\n  input: &quot;^prediction_dense_layer/bias/Assign&quot;\\n}\\nnode {\\n  name: &quot;init_3&quot;\\n  op: &quot;NoOp&quot;\\n  input: &quot;^first_dense_layer/kernel/Assign&quot;\\n  input: &quot;^first_dense_layer/bias/Assign&quot;\\n  input: &quot;^prediction_dense_layer/kernel/Assign&quot;\\n  input: &quot;^prediction_dense_layer/bias/Assign&quot;\\n}\\nnode {\\n  name: &quot;init_4&quot;\\n  op: &quot;NoOp&quot;\\n  input: &quot;^first_dense_layer/kernel/Assign&quot;\\n  input: &quot;^first_dense_layer/bias/Assign&quot;\\n  input: &quot;^prediction_dense_layer/kernel/Assign&quot;\\n  input: &quot;^prediction_dense_layer/bias/Assign&quot;\\n}\\nnode {\\n  name: &quot;init_5&quot;\\n  op: &quot;NoOp&quot;\\n  input: &quot;^first_dense_layer/kernel/Assign&quot;\\n  input: &quot;^first_dense_layer/bias/Assign&quot;\\n  input: &quot;^prediction_dense_layer/kernel/Assign&quot;\\n  input: &quot;^prediction_dense_layer/bias/Assign&quot;\\n}\\n';\n",
       "          }\n",
       "        </script>\n",
       "        <link rel=&quot;import&quot; href=&quot;https://tensorboard.appspot.com/tf-graph-basic.build.html&quot; onload=load()>\n",
       "        <div style=&quot;height:600px&quot;>\n",
       "          <tf-graph-basic id=&quot;graph0.8556818555336668&quot;></tf-graph-basic>\n",
       "        </div>\n",
       "    \"></iframe>\n",
       "    "
      ],
      "text/plain": [
       "<IPython.core.display.HTML object>"
      ]
     },
     "metadata": {},
     "output_type": "display_data"
    }
   ],
   "source": [
    "show_graph(tf.get_default_graph().as_graph_def())\n"
   ]
  },
  {
   "cell_type": "markdown",
   "metadata": {},
   "source": [
    "## Video 4: improving the network by understanding the activation function\n",
    "\n"
   ]
  },
  {
   "cell_type": "markdown",
   "metadata": {},
   "source": [
    "### Deep neural network\n",
    "So far we only made a two-layer neural network. You probably heard about \"deep neural networks\", which means people found out that often by adding more layers in a smart way you can get even better error scores. Let's try to create a four-layer neural network, and see if this improves our error. We start by copying our network and adding layers to it. \n",
    "\n",
    "Note one big change: I define a variable for the activation function which we will tweak later!"
   ]
  },
  {
   "cell_type": "code",
   "execution_count": 27,
   "metadata": {
    "collapsed": true
   },
   "outputs": [],
   "source": [
    "LEARNING_RATE = 0.0005\n",
    "ACTIVATION_FUNCTION = tf.nn.sigmoid\n",
    "\n",
    "tf.reset_default_graph()\n",
    "input_pl = tf.placeholder(dtype=tf.float32, shape=[None, 1275], name=\"inputplaceholder\")\n",
    "output_pl = tf.placeholder(dtype=tf.float32, shape=[None, 1], name=\"userdefinedoutput\")\n",
    "\n",
    "dense = tf.layers.dense(inputs=input_pl, \n",
    "                        units=512, \n",
    "                        activation=ACTIVATION_FUNCTION, \n",
    "                        name=\"first_dense_layer\")\n",
    "dense2 = tf.layers.dense(inputs=dense, \n",
    "                        units=256, \n",
    "                        activation=ACTIVATION_FUNCTION, \n",
    "                        name=\"second_dense_layer\")\n",
    "dense3 = tf.layers.dense(inputs=dense2, \n",
    "                        units=128, \n",
    "                        activation=ACTIVATION_FUNCTION, \n",
    "                        name=\"third_dense_layer\")\n",
    "\n",
    "network_prediction = tf.layers.dense(inputs=dense3       , \n",
    "                                     units=1, \n",
    "                                     activation=None, \n",
    "                                     name=\"prediction_dense_layer\")\n",
    "\n",
    "loss = tf.losses.mean_squared_error(output_pl,network_prediction)\n",
    "optimizer = tf.train.GradientDescentOptimizer(LEARNING_RATE).minimize(loss)"
   ]
  },
  {
   "cell_type": "code",
   "execution_count": 28,
   "metadata": {},
   "outputs": [
    {
     "data": {
      "image/png": "[encoded data removed]",
      "text/plain": [
       "<matplotlib.figure.Figure at 0x7fd93b4b30b8>"
      ]
     },
     "metadata": {},
     "output_type": "display_data"
    },
    {
     "name": "stdout",
     "output_type": "stream",
     "text": [
      "MSE: 1.45339082081\n"
     ]
    }
   ],
   "source": [
    "\n",
    "sess = tf.Session()\n",
    "\n",
    "losses = reset_and_train_network(sess,scaled_trainset,\n",
    "                                      scaled_train_out,\n",
    "                                      64, \n",
    "                                        10000,\n",
    "                                        optimizer, \n",
    "                                        input_pl, \n",
    "                                        output_pl,\n",
    "                                        loss,\n",
    "                                        verbose=False)\n",
    "\n",
    "\n",
    "plt.plot(losses[10:])\n",
    "plt.show()\n",
    "\n",
    "## Evaluate on the testset: Predict the ground energy of each molecule, \n",
    "## Scale these values back, and calculate the MSE\n",
    "datasetY2 = [[x] for x in Y_test]\n",
    "predicted_values = sess.run(network_prediction, feed_dict={input_pl: scaled_testset})\n",
    "\n",
    "inversed_predicted_values = outputscaler.inverse_transform(predicted_values)\n",
    "mse = mean_squared_error(inversed_predicted_values, datasetY2)\n",
    "\n",
    "print(\"MSE: \" + str(mse))"
   ]
  },
  {
   "cell_type": "markdown",
   "metadata": {},
   "source": [
    "### Result: lower MSE\n",
    "As you can see we now have a way lower mean squared error. Now our goal is to minimize this even further. If you look at the dots we plotted with the predicted and actual value there is a strange pattern, which I think we can remove by selecting a different activation function. Let's try it: \n"
   ]
  },
  {
   "cell_type": "code",
   "execution_count": 29,
   "metadata": {
    "collapsed": true
   },
   "outputs": [],
   "source": [
    "LEARNING_RATE = 0.0005\n",
    "ACTIVATION_FUNCTION = tf.nn.relu\n",
    "\n",
    "tf.reset_default_graph()\n",
    "input_pl = tf.placeholder(dtype=tf.float32, shape=[None, 1275], name=\"inputplaceholder\")\n",
    "output_pl = tf.placeholder(dtype=tf.float32, shape=[None, 1], name=\"userdefinedoutput\")\n",
    "\n",
    "dense = tf.layers.dense(inputs=input_pl, units=512, activation=ACTIVATION_FUNCTION, name=\"first_dense_layer\")\n",
    "dense2 = tf.layers.dense(inputs=dense, units=256, activation=ACTIVATION_FUNCTION, name=\"second_dense_layer\")\n",
    "dense3 = tf.layers.dense(inputs=dense2, units=64, activation=ACTIVATION_FUNCTION, name=\"third_dense_layer\")\n",
    "network_prediction = tf.layers.dense(inputs=dense3, units=1, activation=None, name=\"prediction_dense_layer\")\n",
    "\n",
    "loss = tf.losses.mean_squared_error(output_pl,network_prediction)\n",
    "optimizer = tf.train.GradientDescentOptimizer(LEARNING_RATE).minimize(loss)"
   ]
  },
  {
   "cell_type": "code",
   "execution_count": 30,
   "metadata": {},
   "outputs": [
    {
     "data": {
      "image/png": "[encoded data removed]",
      "text/plain": [
       "<matplotlib.figure.Figure at 0x7fd93b516908>"
      ]
     },
     "metadata": {},
     "output_type": "display_data"
    },
    {
     "name": "stdout",
     "output_type": "stream",
     "text": [
      "MSE: 0.151143734324\n"
     ]
    }
   ],
   "source": [
    "sess = tf.Session()\n",
    "\n",
    "losses = reset_and_train_network(sess,scaled_trainset,\n",
    "                                      scaled_train_out,\n",
    "                                      64, \n",
    "                                        4000,\n",
    "                                        optimizer, \n",
    "                                        input_pl, \n",
    "                                        output_pl,\n",
    "                                        loss,\n",
    "                                        verbose=False)\n",
    "\n",
    "plt.plot(losses[10:])\n",
    "plt.show()\n",
    "\n",
    "## Evaluate on the testset: Predict the ground energy of each molecule, \n",
    "## Scale these values back, and calculate the MSE\n",
    "datasetY2 = [[x] for x in Y_test]\n",
    "predicted_values = sess.run(network_prediction, feed_dict={input_pl: scaled_testset})\n",
    "\n",
    "inversed_predicted_values = outputscaler.inverse_transform(predicted_values)\n",
    "mse = mean_squared_error(inversed_predicted_values, datasetY2)\n",
    "\n",
    "print(\"MSE: \" + str(mse))"
   ]
  },
  {
   "cell_type": "markdown",
   "metadata": {},
   "source": [
    "### Visualising the activation layer\n",
    "Well, looks like we were really able to make a big improvement this time. Lets visualise what's actually happening in the activation layer:"
   ]
  },
  {
   "cell_type": "code",
   "execution_count": 31,
   "metadata": {
    "collapsed": true
   },
   "outputs": [],
   "source": [
    "def visualize_function(function, name):\n",
    "    ## Create inputs between -5 and 5, and put this in a Tensorflow variable\n",
    "    inputdata = np.arange(-5.0, 5.0, 0.1)\n",
    "    mydatainput = tf.Variable(inputdata)\n",
    "    \n",
    "    ## Create the output tensor using the supplied function\n",
    "    functionoutput = function(mydatainput)\n",
    "    \n",
    "    ## Create a temporary session for this graph, and evaluate the activation for these datapoints\n",
    "    with tf.Session() as temp_session:\n",
    "        init = tf.global_variables_initializer() \n",
    "        temp_session.run(init)\n",
    "        activationdata = functionoutput.eval(session=temp_session)\n",
    "        \n",
    "        ## Plot the results\n",
    "        plt.plot(inputdata,activationdata)\n",
    "        plt.xlabel(\"input\")\n",
    "        plt.ylabel(\"activation\")\n",
    "        plt.title(name)\n",
    "        plt.show()\n",
    "\n",
    "        \n",
    "   "
   ]
  },
  {
   "cell_type": "code",
   "execution_count": 32,
   "metadata": {},
   "outputs": [
    {
     "data": {
      "image/png": "[encoded data removed]",
      "text/plain": [
       "<matplotlib.figure.Figure at 0x7fd97a4c8940>"
      ]
     },
     "metadata": {},
     "output_type": "display_data"
    },
    {
     "data": {
      "image/png": "[encoded data removed]",
      "text/plain": [
       "<matplotlib.figure.Figure at 0x7fd92269b860>"
      ]
     },
     "metadata": {},
     "output_type": "display_data"
    },
    {
     "data": {
      "image/png": "[encoded data removed]",
      "text/plain": [
       "<matplotlib.figure.Figure at 0x7fd9a463b908>"
      ]
     },
     "metadata": {},
     "output_type": "display_data"
    },
    {
     "data": {
      "image/png": "[encoded data removed]",
      "text/plain": [
       "<matplotlib.figure.Figure at 0x7fd93b663710>"
      ]
     },
     "metadata": {},
     "output_type": "display_data"
    }
   ],
   "source": [
    "activation_functions = [(tf.nn.sigmoid, \"sigmoid\"), \n",
    "                        (tf.nn.relu, \"relu\"),\n",
    "                       (tf.nn.tanh, \"tanh\"),\n",
    "                       (tf.nn.elu, \"elu\")]\n",
    "\n",
    "for func, name in activation_functions:\n",
    "    visualize_function(func, name)\n",
    "        \n"
   ]
  },
  {
   "cell_type": "markdown",
   "metadata": {},
   "source": [
    "## Video 5: the importance of hyper parameters\n",
    "So far when defining our neural network we kind of guessed the \"hyper parameters\". Hyper parameters describe our network, but they are not part of the actual network. Note that they are able to have a big influence on your network: selecting the right learning rate, the right amount of layers, and the sizes of your layers are very important, and can contribute a lot to your final performance. \n",
    "\n",
    "In this section we will try to find the best performance for the network we made in the last video. In this case we optimize one hyper parameter: the learning rate. "
   ]
  },
  {
   "cell_type": "code",
   "execution_count": 33,
   "metadata": {},
   "outputs": [
    {
     "name": "stdout",
     "output_type": "stream",
     "text": [
      "Loss at learning rate: 0.0001 loss: 0.0494122 mse: 0.764069108961\n",
      "Loss at learning rate: 0.0003 loss: 0.0215972 mse: 0.455328071126\n",
      "Loss at learning rate: 0.0005 loss: 0.0409199 mse: 0.329058510741\n",
      "Loss at learning rate: 0.0007 loss: 0.0232271 mse: 0.282334399267\n",
      "Loss at learning rate: 0.0009 loss: 0.0159243 mse: 0.239097065492\n",
      "Loss at learning rate: 0.0011 loss: 0.0186858 mse: 0.183611407107\n"
     ]
    }
   ],
   "source": [
    "\n",
    "## Define the network: the same as the network in the previous section. \n",
    "ACTIVATION_FUNCTION =tf.nn.relu\n",
    "tf.reset_default_graph()\n",
    "input_pl = tf.placeholder(dtype=tf.float32, shape=[None, 1275], name=\"inputplaceholder\")\n",
    "output_pl = tf.placeholder(dtype=tf.float32, shape=[None, 1], name=\"userdefinedoutput\")\n",
    "dense = tf.layers.dense(inputs=input_pl, units=512, activation=ACTIVATION_FUNCTION, name=\"first_dense_layer\")\n",
    "dense2 = tf.layers.dense(inputs=dense, units=256, activation=ACTIVATION_FUNCTION, name=\"second_dense_layer\")\n",
    "dense3 = tf.layers.dense(inputs=dense2, units=64, activation=ACTIVATION_FUNCTION, name=\"third_dense_layer\")\n",
    "network_prediction = tf.layers.dense(inputs=dense3, units=1, activation=None, name=\"prediction_dense_layer\")\n",
    "loss = tf.losses.mean_squared_error(output_pl,network_prediction)\n",
    "\n",
    "## Record MSE and loss value for \n",
    "mses = list()\n",
    "hyperparameter_losses = list()\n",
    "\n",
    "## Select these learning rates: currently we were using 0.0005\n",
    "learning_rates = [0.0001, 0.0003, 0.0005, 0.0007, 0.0009, 0.0011]\n",
    "for learning_rate in learning_rates:\n",
    "    optimizer = tf.train.GradientDescentOptimizer(learning_rate).minimize(loss)\n",
    "    sess = tf.Session()\n",
    "    losses = reset_and_train_network(sess,scaled_trainset,\n",
    "                                      scaled_train_out,\n",
    "                                      64, \n",
    "                                        1000,\n",
    "                                        optimizer, \n",
    "                                        input_pl, \n",
    "                                        output_pl,\n",
    "                                        loss,\n",
    "                                        verbose=False)\n",
    "    datasetY2 = [[x] for x in Y_test]\n",
    "    predicted_values = sess.run(network_prediction, feed_dict={input_pl: scaled_testset})\n",
    "\n",
    "    ## Scale these values back, and calculate the MSE\n",
    "    inversed_predicted_values = outputscaler.inverse_transform(predicted_values)\n",
    "    hyperparameter_losses.append(losses[-1])\n",
    "\n",
    "    mse = mean_squared_error(inversed_predicted_values, datasetY2)\n",
    "    mses.append(mse)\n",
    "\n",
    "    print(\"Loss at learning rate: \" + str(learning_rate) + \" loss: \" + str(losses[-1]) + \" mse: \" + str(mse))\n"
   ]
  },
  {
   "cell_type": "code",
   "execution_count": 34,
   "metadata": {},
   "outputs": [
    {
     "data": {
      "text/plain": [
       "[<matplotlib.lines.Line2D at 0x7fd92269bef0>]"
      ]
     },
     "execution_count": 34,
     "metadata": {},
     "output_type": "execute_result"
    },
    {
     "data": {
      "image/png": "[encoded data removed]",
      "text/plain": [
       "<matplotlib.figure.Figure at 0x7fd92269bf28>"
      ]
     },
     "metadata": {},
     "output_type": "display_data"
    }
   ],
   "source": [
    "plt.plot(learning_rates,hyperparameter_losses)\n",
    "plt.plot(learning_rates,mses)\n",
    "\n"
   ]
  },
  {
   "cell_type": "markdown",
   "metadata": {},
   "source": [
    "### More on hyper parameters\n",
    "At the moment we went over the learning rate parameter. You can go crazy on hyper parameter optimisation: try to adjust the sizes of layers in your neural network, try to learning rate, try the amount of iterations, try different batch sizes, etc. etc. \n",
    "\n",
    "Unless you have a large datacenter with computers you can't try them all, so write down a few sensible values for each hyper parameter, test these, and determine what values to test next. Note that you don't have to keep watching while your network is training. It's exciting to enter some, go to bed, and wake up with more knowledge on what to do to improve your neural network!"
   ]
  },
  {
   "cell_type": "markdown",
   "metadata": {},
   "source": [
    "## Bonus: visualise what our network learned"
   ]
  },
  {
   "cell_type": "code",
   "execution_count": 35,
   "metadata": {},
   "outputs": [
    {
     "data": {
      "text/plain": [
       "[<matplotlib.lines.Line2D at 0x7fd920892fd0>]"
      ]
     },
     "execution_count": 35,
     "metadata": {},
     "output_type": "execute_result"
    },
    {
     "data": {
      "image/png": "[encoded data removed]",
      "text/plain": [
       "<matplotlib.figure.Figure at 0x7fd940a3bcc0>"
      ]
     },
     "metadata": {},
     "output_type": "display_data"
    }
   ],
   "source": [
    "plt.scatter(datasetY2, inversed_predicted_values)\n",
    "plt.title(\"Result learning the ground state energy of molecules\")\n",
    "plt.xlabel(\"Actual value\")\n",
    "plt.ylabel(\"Predicted value\")\n",
    "plt.plot([-25,0],[-25,0],color=\"black\")"
   ]
  },
  {
   "cell_type": "code",
   "execution_count": null,
   "metadata": {
    "collapsed": true
   },
   "outputs": [],
   "source": []
  },
  {
   "cell_type": "code",
   "execution_count": null,
   "metadata": {
    "collapsed": true
   },
   "outputs": [],
   "source": []
  },
  {
   "cell_type": "code",
   "execution_count": null,
   "metadata": {
    "collapsed": true
   },
   "outputs": [],
   "source": []
  },
  {
   "cell_type": "code",
   "execution_count": null,
   "metadata": {
    "collapsed": true
   },
   "outputs": [],
   "source": []
  },
  {
   "cell_type": "code",
   "execution_count": null,
   "metadata": {
    "collapsed": true
   },
   "outputs": [],
   "source": []
  },
  {
   "cell_type": "code",
   "execution_count": null,
   "metadata": {
    "collapsed": true
   },
   "outputs": [],
   "source": []
  },
  {
   "cell_type": "code",
   "execution_count": null,
   "metadata": {
    "collapsed": true
   },
   "outputs": [],
   "source": []
  },
  {
   "cell_type": "code",
   "execution_count": null,
   "metadata": {
    "collapsed": true
   },
   "outputs": [],
   "source": []
  },
  {
   "cell_type": "code",
   "execution_count": null,
   "metadata": {
    "collapsed": true
   },
   "outputs": [],
   "source": []
  },
  {
   "cell_type": "code",
   "execution_count": null,
   "metadata": {
    "collapsed": true
   },
   "outputs": [],
   "source": []
  },
  {
   "cell_type": "code",
   "execution_count": null,
   "metadata": {
    "collapsed": true
   },
   "outputs": [],
   "source": []
  }
 ],
 "metadata": {
  "kernelspec": {
   "display_name": "Python 3",
   "language": "python",
   "name": "python3"
  },
  "language_info": {
   "codemirror_mode": {
    "name": "ipython",
    "version": 3
   },
   "file_extension": ".py",
   "mimetype": "text/x-python",
   "name": "python",
   "nbconvert_exporter": "python",
   "pygments_lexer": "ipython3",
   "version": "3.5.2"
  }
 },
 "nbformat": 4,
 "nbformat_minor": 2
}
