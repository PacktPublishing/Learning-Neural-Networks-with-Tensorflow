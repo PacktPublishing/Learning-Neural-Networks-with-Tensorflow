{
 "cells": [
  {
   "cell_type": "markdown",
   "metadata": {},
   "source": [
    "# Chapter 2: The iris dataset - your first neural network\n",
    "Last chapter we discussed what Tensorflow is and how the graph building works. This chapter we are going to put this knowledge to use, and we will try to classify several flower species. \n",
    "\n"
   ]
  },
  {
   "cell_type": "markdown",
   "metadata": {},
   "source": [
    "## Section 1: downloading the data, and visualising it\n",
    "In this chapter we will try to classify three species of the **iris flower**. The iris dataset contains fifty measurements of three different species of iris flowers (a total of 150 datapoints). \n",
    "\n",
    "The species we try to categorize are: \n",
    "\n",
    "The iris setosa: ![setosa](https://upload.wikimedia.org/wikipedia/commons/1/11/Iris_setosa_2.jpg)\n",
    "The iris versicolor: ![versicolor](https://upload.wikimedia.org/wikipedia/commons/3/30/Iris_versicolor_2.jpg)\n",
    "The iris verginica: ![verginica](https://upload.wikimedia.org/wikipedia/commons/2/27/Southern_Blue_Flag_Iris_%28iris_virginica%29_-_Flickr_-_Andrea_Westmoreland.jpg)\n",
    "\n",
    "A scientist many years ago tried if he could find a difference between these species based on the petal width and height, and the sepal width and height: \n",
    "![petal sepal](http://www.pinchofintelligence.com/wp-content/uploads/2017/08/iris-explanation.jpg)\n",
    "\n",
    "The iris dataset is an excellent dataset to explain details of neural networks.\n",
    "\n"
   ]
  },
  {
   "cell_type": "markdown",
   "metadata": {},
   "source": [
    "\n",
    "### Downloading and importing the dataset\n",
    "The iris dataset is so interesting that it is included in the sklearn python package that was installed in your Docker image. Let's start by loading the data, and several important libraries we are going to use today:\n"
   ]
  },
  {
   "cell_type": "code",
   "execution_count": 3,
   "metadata": {},
   "outputs": [
    {
     "name": "stdout",
     "output_type": "stream",
     "text": [
      "{'target_names': array(['setosa', 'versicolor', 'virginica'],\n",
      "      dtype='<U10'), 'feature_names': ['sepal length (cm)', 'sepal width (cm)', 'petal length (cm)', 'petal width (cm)'], 'target': array([0, 0, 0, 0, 0, 0, 0, 0, 0, 0, 0, 0, 0, 0, 0, 0, 0, 0, 0, 0, 0, 0, 0,\n",
      "       0, 0, 0, 0, 0, 0, 0, 0, 0, 0, 0, 0, 0, 0, 0, 0, 0, 0, 0, 0, 0, 0, 0,\n",
      "       0, 0, 0, 0, 1, 1, 1, 1, 1, 1, 1, 1, 1, 1, 1, 1, 1, 1, 1, 1, 1, 1, 1,\n",
      "       1, 1, 1, 1, 1, 1, 1, 1, 1, 1, 1, 1, 1, 1, 1, 1, 1, 1, 1, 1, 1, 1, 1,\n",
      "       1, 1, 1, 1, 1, 1, 1, 1, 2, 2, 2, 2, 2, 2, 2, 2, 2, 2, 2, 2, 2, 2, 2,\n",
      "       2, 2, 2, 2, 2, 2, 2, 2, 2, 2, 2, 2, 2, 2, 2, 2, 2, 2, 2, 2, 2, 2, 2,\n",
      "       2, 2, 2, 2, 2, 2, 2, 2, 2, 2, 2, 2]), 'DESCR': 'Iris Plants Database\\n====================\\n\\nNotes\\n-----\\nData Set Characteristics:\\n    :Number of Instances: 150 (50 in each of three classes)\\n    :Number of Attributes: 4 numeric, predictive attributes and the class\\n    :Attribute Information:\\n        - sepal length in cm\\n        - sepal width in cm\\n        - petal length in cm\\n        - petal width in cm\\n        - class:\\n                - Iris-Setosa\\n                - Iris-Versicolour\\n                - Iris-Virginica\\n    :Summary Statistics:\\n\\n    ============== ==== ==== ======= ===== ====================\\n                    Min  Max   Mean    SD   Class Correlation\\n    ============== ==== ==== ======= ===== ====================\\n    sepal length:   4.3  7.9   5.84   0.83    0.7826\\n    sepal width:    2.0  4.4   3.05   0.43   -0.4194\\n    petal length:   1.0  6.9   3.76   1.76    0.9490  (high!)\\n    petal width:    0.1  2.5   1.20  0.76     0.9565  (high!)\\n    ============== ==== ==== ======= ===== ====================\\n\\n    :Missing Attribute Values: None\\n    :Class Distribution: 33.3% for each of 3 classes.\\n    :Creator: R.A. Fisher\\n    :Donor: Michael Marshall (MARSHALL%PLU@io.arc.nasa.gov)\\n    :Date: July, 1988\\n\\nThis is a copy of UCI ML iris datasets.\\nhttp://archive.ics.uci.edu/ml/datasets/Iris\\n\\nThe famous Iris database, first used by Sir R.A Fisher\\n\\nThis is perhaps the best known database to be found in the\\npattern recognition literature.  Fisher\\'s paper is a classic in the field and\\nis referenced frequently to this day.  (See Duda & Hart, for example.)  The\\ndata set contains 3 classes of 50 instances each, where each class refers to a\\ntype of iris plant.  One class is linearly separable from the other 2; the\\nlatter are NOT linearly separable from each other.\\n\\nReferences\\n----------\\n   - Fisher,R.A. \"The use of multiple measurements in taxonomic problems\"\\n     Annual Eugenics, 7, Part II, 179-188 (1936); also in \"Contributions to\\n     Mathematical Statistics\" (John Wiley, NY, 1950).\\n   - Duda,R.O., & Hart,P.E. (1973) Pattern Classification and Scene Analysis.\\n     (Q327.D83) John Wiley & Sons.  ISBN 0-471-22361-1.  See page 218.\\n   - Dasarathy, B.V. (1980) \"Nosing Around the Neighborhood: A New System\\n     Structure and Classification Rule for Recognition in Partially Exposed\\n     Environments\".  IEEE Transactions on Pattern Analysis and Machine\\n     Intelligence, Vol. PAMI-2, No. 1, 67-71.\\n   - Gates, G.W. (1972) \"The Reduced Nearest Neighbor Rule\".  IEEE Transactions\\n     on Information Theory, May 1972, 431-433.\\n   - See also: 1988 MLC Proceedings, 54-64.  Cheeseman et al\"s AUTOCLASS II\\n     conceptual clustering system finds 3 classes in the data.\\n   - Many, many more ...\\n', 'data': array([[ 5.1,  3.5,  1.4,  0.2],\n",
      "       [ 4.9,  3. ,  1.4,  0.2],\n",
      "       [ 4.7,  3.2,  1.3,  0.2],\n",
      "       [ 4.6,  3.1,  1.5,  0.2],\n",
      "       [ 5. ,  3.6,  1.4,  0.2],\n",
      "       [ 5.4,  3.9,  1.7,  0.4],\n",
      "       [ 4.6,  3.4,  1.4,  0.3],\n",
      "       [ 5. ,  3.4,  1.5,  0.2],\n",
      "       [ 4.4,  2.9,  1.4,  0.2],\n",
      "       [ 4.9,  3.1,  1.5,  0.1],\n",
      "       [ 5.4,  3.7,  1.5,  0.2],\n",
      "       [ 4.8,  3.4,  1.6,  0.2],\n",
      "       [ 4.8,  3. ,  1.4,  0.1],\n",
      "       [ 4.3,  3. ,  1.1,  0.1],\n",
      "       [ 5.8,  4. ,  1.2,  0.2],\n",
      "       [ 5.7,  4.4,  1.5,  0.4],\n",
      "       [ 5.4,  3.9,  1.3,  0.4],\n",
      "       [ 5.1,  3.5,  1.4,  0.3],\n",
      "       [ 5.7,  3.8,  1.7,  0.3],\n",
      "       [ 5.1,  3.8,  1.5,  0.3],\n",
      "       [ 5.4,  3.4,  1.7,  0.2],\n",
      "       [ 5.1,  3.7,  1.5,  0.4],\n",
      "       [ 4.6,  3.6,  1. ,  0.2],\n",
      "       [ 5.1,  3.3,  1.7,  0.5],\n",
      "       [ 4.8,  3.4,  1.9,  0.2],\n",
      "       [ 5. ,  3. ,  1.6,  0.2],\n",
      "       [ 5. ,  3.4,  1.6,  0.4],\n",
      "       [ 5.2,  3.5,  1.5,  0.2],\n",
      "       [ 5.2,  3.4,  1.4,  0.2],\n",
      "       [ 4.7,  3.2,  1.6,  0.2],\n",
      "       [ 4.8,  3.1,  1.6,  0.2],\n",
      "       [ 5.4,  3.4,  1.5,  0.4],\n",
      "       [ 5.2,  4.1,  1.5,  0.1],\n",
      "       [ 5.5,  4.2,  1.4,  0.2],\n",
      "       [ 4.9,  3.1,  1.5,  0.1],\n",
      "       [ 5. ,  3.2,  1.2,  0.2],\n",
      "       [ 5.5,  3.5,  1.3,  0.2],\n",
      "       [ 4.9,  3.1,  1.5,  0.1],\n",
      "       [ 4.4,  3. ,  1.3,  0.2],\n",
      "       [ 5.1,  3.4,  1.5,  0.2],\n",
      "       [ 5. ,  3.5,  1.3,  0.3],\n",
      "       [ 4.5,  2.3,  1.3,  0.3],\n",
      "       [ 4.4,  3.2,  1.3,  0.2],\n",
      "       [ 5. ,  3.5,  1.6,  0.6],\n",
      "       [ 5.1,  3.8,  1.9,  0.4],\n",
      "       [ 4.8,  3. ,  1.4,  0.3],\n",
      "       [ 5.1,  3.8,  1.6,  0.2],\n",
      "       [ 4.6,  3.2,  1.4,  0.2],\n",
      "       [ 5.3,  3.7,  1.5,  0.2],\n",
      "       [ 5. ,  3.3,  1.4,  0.2],\n",
      "       [ 7. ,  3.2,  4.7,  1.4],\n",
      "       [ 6.4,  3.2,  4.5,  1.5],\n",
      "       [ 6.9,  3.1,  4.9,  1.5],\n",
      "       [ 5.5,  2.3,  4. ,  1.3],\n",
      "       [ 6.5,  2.8,  4.6,  1.5],\n",
      "       [ 5.7,  2.8,  4.5,  1.3],\n",
      "       [ 6.3,  3.3,  4.7,  1.6],\n",
      "       [ 4.9,  2.4,  3.3,  1. ],\n",
      "       [ 6.6,  2.9,  4.6,  1.3],\n",
      "       [ 5.2,  2.7,  3.9,  1.4],\n",
      "       [ 5. ,  2. ,  3.5,  1. ],\n",
      "       [ 5.9,  3. ,  4.2,  1.5],\n",
      "       [ 6. ,  2.2,  4. ,  1. ],\n",
      "       [ 6.1,  2.9,  4.7,  1.4],\n",
      "       [ 5.6,  2.9,  3.6,  1.3],\n",
      "       [ 6.7,  3.1,  4.4,  1.4],\n",
      "       [ 5.6,  3. ,  4.5,  1.5],\n",
      "       [ 5.8,  2.7,  4.1,  1. ],\n",
      "       [ 6.2,  2.2,  4.5,  1.5],\n",
      "       [ 5.6,  2.5,  3.9,  1.1],\n",
      "       [ 5.9,  3.2,  4.8,  1.8],\n",
      "       [ 6.1,  2.8,  4. ,  1.3],\n",
      "       [ 6.3,  2.5,  4.9,  1.5],\n",
      "       [ 6.1,  2.8,  4.7,  1.2],\n",
      "       [ 6.4,  2.9,  4.3,  1.3],\n",
      "       [ 6.6,  3. ,  4.4,  1.4],\n",
      "       [ 6.8,  2.8,  4.8,  1.4],\n",
      "       [ 6.7,  3. ,  5. ,  1.7],\n",
      "       [ 6. ,  2.9,  4.5,  1.5],\n",
      "       [ 5.7,  2.6,  3.5,  1. ],\n",
      "       [ 5.5,  2.4,  3.8,  1.1],\n",
      "       [ 5.5,  2.4,  3.7,  1. ],\n",
      "       [ 5.8,  2.7,  3.9,  1.2],\n",
      "       [ 6. ,  2.7,  5.1,  1.6],\n",
      "       [ 5.4,  3. ,  4.5,  1.5],\n",
      "       [ 6. ,  3.4,  4.5,  1.6],\n",
      "       [ 6.7,  3.1,  4.7,  1.5],\n",
      "       [ 6.3,  2.3,  4.4,  1.3],\n",
      "       [ 5.6,  3. ,  4.1,  1.3],\n",
      "       [ 5.5,  2.5,  4. ,  1.3],\n",
      "       [ 5.5,  2.6,  4.4,  1.2],\n",
      "       [ 6.1,  3. ,  4.6,  1.4],\n",
      "       [ 5.8,  2.6,  4. ,  1.2],\n",
      "       [ 5. ,  2.3,  3.3,  1. ],\n",
      "       [ 5.6,  2.7,  4.2,  1.3],\n",
      "       [ 5.7,  3. ,  4.2,  1.2],\n",
      "       [ 5.7,  2.9,  4.2,  1.3],\n",
      "       [ 6.2,  2.9,  4.3,  1.3],\n",
      "       [ 5.1,  2.5,  3. ,  1.1],\n",
      "       [ 5.7,  2.8,  4.1,  1.3],\n",
      "       [ 6.3,  3.3,  6. ,  2.5],\n",
      "       [ 5.8,  2.7,  5.1,  1.9],\n",
      "       [ 7.1,  3. ,  5.9,  2.1],\n",
      "       [ 6.3,  2.9,  5.6,  1.8],\n",
      "       [ 6.5,  3. ,  5.8,  2.2],\n",
      "       [ 7.6,  3. ,  6.6,  2.1],\n",
      "       [ 4.9,  2.5,  4.5,  1.7],\n",
      "       [ 7.3,  2.9,  6.3,  1.8],\n",
      "       [ 6.7,  2.5,  5.8,  1.8],\n",
      "       [ 7.2,  3.6,  6.1,  2.5],\n",
      "       [ 6.5,  3.2,  5.1,  2. ],\n",
      "       [ 6.4,  2.7,  5.3,  1.9],\n",
      "       [ 6.8,  3. ,  5.5,  2.1],\n",
      "       [ 5.7,  2.5,  5. ,  2. ],\n",
      "       [ 5.8,  2.8,  5.1,  2.4],\n",
      "       [ 6.4,  3.2,  5.3,  2.3],\n",
      "       [ 6.5,  3. ,  5.5,  1.8],\n",
      "       [ 7.7,  3.8,  6.7,  2.2],\n",
      "       [ 7.7,  2.6,  6.9,  2.3],\n",
      "       [ 6. ,  2.2,  5. ,  1.5],\n",
      "       [ 6.9,  3.2,  5.7,  2.3],\n",
      "       [ 5.6,  2.8,  4.9,  2. ],\n",
      "       [ 7.7,  2.8,  6.7,  2. ],\n",
      "       [ 6.3,  2.7,  4.9,  1.8],\n",
      "       [ 6.7,  3.3,  5.7,  2.1],\n",
      "       [ 7.2,  3.2,  6. ,  1.8],\n",
      "       [ 6.2,  2.8,  4.8,  1.8],\n",
      "       [ 6.1,  3. ,  4.9,  1.8],\n",
      "       [ 6.4,  2.8,  5.6,  2.1],\n",
      "       [ 7.2,  3. ,  5.8,  1.6],\n",
      "       [ 7.4,  2.8,  6.1,  1.9],\n",
      "       [ 7.9,  3.8,  6.4,  2. ],\n",
      "       [ 6.4,  2.8,  5.6,  2.2],\n",
      "       [ 6.3,  2.8,  5.1,  1.5],\n",
      "       [ 6.1,  2.6,  5.6,  1.4],\n",
      "       [ 7.7,  3. ,  6.1,  2.3],\n",
      "       [ 6.3,  3.4,  5.6,  2.4],\n",
      "       [ 6.4,  3.1,  5.5,  1.8],\n",
      "       [ 6. ,  3. ,  4.8,  1.8],\n",
      "       [ 6.9,  3.1,  5.4,  2.1],\n",
      "       [ 6.7,  3.1,  5.6,  2.4],\n",
      "       [ 6.9,  3.1,  5.1,  2.3],\n",
      "       [ 5.8,  2.7,  5.1,  1.9],\n",
      "       [ 6.8,  3.2,  5.9,  2.3],\n",
      "       [ 6.7,  3.3,  5.7,  2.5],\n",
      "       [ 6.7,  3. ,  5.2,  2.3],\n",
      "       [ 6.3,  2.5,  5. ,  1.9],\n",
      "       [ 6.5,  3. ,  5.2,  2. ],\n",
      "       [ 6.2,  3.4,  5.4,  2.3],\n",
      "       [ 5.9,  3. ,  5.1,  1.8]])}\n"
     ]
    }
   ],
   "source": [
    "%matplotlib inline\n",
    "from sklearn import datasets\n",
    "import matplotlib.pyplot as plt\n",
    "\n",
    "iris = datasets.load_iris()\n",
    "print(iris)"
   ]
  },
  {
   "cell_type": "code",
   "execution_count": 3,
   "metadata": {},
   "outputs": [
    {
     "name": "stdout",
     "output_type": "stream",
     "text": [
      "[[ 5.1  3.5  1.4  0.2]\n",
      " [ 4.9  3.   1.4  0.2]\n",
      " [ 4.7  3.2  1.3  0.2]\n",
      " [ 4.6  3.1  1.5  0.2]\n",
      " [ 5.   3.6  1.4  0.2]\n",
      " [ 5.4  3.9  1.7  0.4]\n",
      " [ 4.6  3.4  1.4  0.3]\n",
      " [ 5.   3.4  1.5  0.2]\n",
      " [ 4.4  2.9  1.4  0.2]\n",
      " [ 4.9  3.1  1.5  0.1]]\n"
     ]
    }
   ],
   "source": [
    "print(iris.data[0:10,:])"
   ]
  },
  {
   "cell_type": "markdown",
   "metadata": {},
   "source": [
    "The best way to see if they are (linearly) seperable is by building a scatter plot:\n"
   ]
  },
  {
   "cell_type": "code",
   "execution_count": 5,
   "metadata": {},
   "outputs": [
    {
     "data": {
      "image/png": "[encoded data removed]",
      "text/plain": [
       "<matplotlib.figure.Figure at 0x7fd1b9468b00>"
      ]
     },
     "metadata": {},
     "output_type": "display_data"
    },
    {
     "data": {
      "text/plain": [
       "<matplotlib.text.Text at 0x7fd1b6ee7438>"
      ]
     },
     "execution_count": 5,
     "metadata": {},
     "output_type": "execute_result"
    },
    {
     "data": {
      "image/png": "[encoded data removed]",
      "text/plain": [
       "<matplotlib.figure.Figure at 0x7fd1b6edb7b8>"
      ]
     },
     "metadata": {},
     "output_type": "display_data"
    }
   ],
   "source": [
    "plt.scatter(iris.data[:,1], iris.data[:,2], c=iris.target, cmap=plt.cm.Paired)\n",
    "plt.xlabel(iris.feature_names[1])\n",
    "plt.ylabel(iris.feature_names[2])\n",
    "plt.show()\n",
    "\n",
    "plt.scatter(iris.data[:,0], iris.data[:,3], c=iris.target, cmap=plt.cm.Paired)\n",
    "plt.xlabel(iris.feature_names[0])\n",
    "plt.ylabel(iris.feature_names[3])"
   ]
  },
  {
   "cell_type": "markdown",
   "metadata": {},
   "source": [
    "Looks like we should be able to at least filter out the blue class. We probably should be able to classify most of the brown classes, but that might be a bit more difficult. Because we have **data overlap** it's difficult to seperate these data points perfectly. In this section we will see how far we come. "
   ]
  },
  {
   "cell_type": "markdown",
   "metadata": {},
   "source": [
    "## Section 2: The human brain, and how to formalize it: your first single layer neural network \n",
    "Here are some images of neurons in the human brain: \n",
    "![neuron 1](https://upload.wikimedia.org/wikipedia/commons/f/fb/Gyrus_Dentatus_40x.jpg)\n",
    "![neuron 2](https://upload.wikimedia.org/wikipedia/commons/thumb/b/b5/Neuron.svg/400px-Neuron.svg.png)\n",
    "![neuron 3](http://www.pinchofintelligence.com/wp-content/uploads/2017/09/Neuron-activation.jpg)\n",
    "\n",
    "This inspired people long ago to define mathematical models: \n",
    "The artificial neuron looks like this: \n",
    "<img src=\"https://upload.wikimedia.org/wikipedia/commons/6/60/ArtificialNeuronModel_english.png\" alt=\"Drawing\" style=\"width: 600px;\"/>\n",
    "\n",
    "\n",
    "You can even put multiple artificial neurons together to create your **neural network**: \n",
    "<img src=\"https://upload.wikimedia.org/wikipedia/commons/thumb/e/e4/Artificial_neural_network.svg/2000px-Artificial_neural_network.svg.png\" alt=\"Drawing\" style=\"width: 400px;\"/>\n",
    "\n",
    "See some stuff here: \n",
    "http://www.pinchofintelligence.com/wp-content/uploads/2017/01/Neural-Machine-Translation-For-language-professionals.pdf"
   ]
  },
  {
   "cell_type": "markdown",
   "metadata": {},
   "source": [
    "### Forward propagation with numpy\n",
    "Let's take the sepal width and sepal length, and try to create a network that gives an activation for each of the classes. "
   ]
  },
  {
   "cell_type": "code",
   "execution_count": 6,
   "metadata": {},
   "outputs": [
    {
     "name": "stdout",
     "output_type": "stream",
     "text": [
      "Targets: ['setosa' 'versicolor' 'virginica']\n",
      "Features: ['sepal length (cm)', 'sepal width (cm)', 'petal length (cm)', 'petal width (cm)']\n"
     ]
    }
   ],
   "source": [
    "print(\"Targets: \" + str(iris.target_names))\n",
    "print(\"Features: \" + str(iris.feature_names))\n"
   ]
  },
  {
   "cell_type": "markdown",
   "metadata": {},
   "source": [
    "Now we can see that the setosa has a smaller petal length than the versicolor. If we were to make such a neural network:\n",
    "\n",
    "We can kind of fill in the weights ourselves to go to an **activation** per output neuron. \n",
    "Right now our data is not seperable without a bias, I will add one to make it easy for our neural network. \n",
    "\n",
    "![single layers](illustrations/singlelayers.png)\n",
    "\n",
    "\n",
    "We can define this as a matrix multiplication. If you are new to this, take a look at this Youtube video: https://www.youtube.com/watch?v=kqWCwwyeE6k\n",
    "\n",
    "Now lets' try to implement the network we made in Numpy: "
   ]
  },
  {
   "cell_type": "code",
   "execution_count": 9,
   "metadata": {},
   "outputs": [
    {
     "name": "stdout",
     "output_type": "stream",
     "text": [
      "[-1.6000000000000001, -1.8]\n",
      "Activations: [ 0.9020312  0.0979688]\n",
      "[-1.6000000000000001, -1.8]\n",
      "Activations: [ 0.9020312  0.0979688]\n",
      "[-1.7, -1.8]\n",
      "Activations: [ 0.90378446  0.09621554]\n",
      "[-1.5, -1.8]\n",
      "Activations: [ 0.90024951  0.09975049]\n",
      "[-1.6000000000000001, -1.8]\n",
      "Activations: [ 0.9020312  0.0979688]\n",
      "[-1.3, -1.6000000000000001]\n",
      "Activations: [ 0.87653295  0.12346705]\n",
      "[-1.6000000000000001, -1.7]\n",
      "Activations: [ 0.89283193  0.10716807]\n",
      "[-1.5, -1.8]\n",
      "Activations: [ 0.90024951  0.09975049]\n",
      "[-1.6000000000000001, -1.8]\n",
      "Activations: [ 0.9020312  0.0979688]\n",
      "[-1.5, -1.8999999999999999]\n",
      "Activations: [ 0.90887704  0.09112296]\n",
      "[-1.5, -1.8]\n",
      "Activations: [ 0.90024951  0.09975049]\n",
      "[-1.3999999999999999, -1.8]\n",
      "Activations: [ 0.89843907  0.10156093]\n",
      "[-1.6000000000000001, -1.8999999999999999]\n",
      "Activations: [ 0.91051994  0.08948006]\n",
      "[-1.8999999999999999, -1.8999999999999999]\n",
      "Activations: [ 0.91528943  0.08471057]\n",
      "[-1.8, -1.8]\n",
      "Activations: [ 0.90550963  0.09449037]\n",
      "[-1.5, -1.6000000000000001]\n",
      "Activations: [ 0.88079708  0.11920292]\n",
      "[-1.7, -1.6000000000000001]\n",
      "Activations: [ 0.88493327  0.11506673]\n",
      "[-1.6000000000000001, -1.7]\n",
      "Activations: [ 0.89283193  0.10716807]\n",
      "[-1.3, -1.7]\n",
      "Activations: [ 0.88695417  0.11304583]\n",
      "[-1.5, -1.7]\n",
      "Activations: [ 0.89090318  0.10909682]\n",
      "[-1.3, -1.8]\n",
      "Activations: [ 0.89659955  0.10340045]\n",
      "[-1.5, -1.6000000000000001]\n",
      "Activations: [ 0.88079708  0.11920292]\n",
      "[-2.0, -1.8]\n",
      "Activations: [ 0.90887704  0.09112296]\n",
      "[-1.3, -1.5]\n",
      "Activations: [ 0.86529695  0.13470305]\n",
      "[-1.1000000000000001, -1.8]\n",
      "Activations: [ 0.89283193  0.10716807]\n",
      "[-1.3999999999999999, -1.8]\n",
      "Activations: [ 0.89843907  0.10156093]\n",
      "[-1.3999999999999999, -1.6000000000000001]\n",
      "Activations: [ 0.87868116  0.12131884]\n",
      "[-1.5, -1.8]\n",
      "Activations: [ 0.90024951  0.09975049]\n",
      "[-1.6000000000000001, -1.8]\n",
      "Activations: [ 0.9020312  0.0979688]\n",
      "[-1.3999999999999999, -1.8]\n",
      "Activations: [ 0.89843907  0.10156093]\n",
      "[-1.3999999999999999, -1.8]\n",
      "Activations: [ 0.89843907  0.10156093]\n",
      "[-1.5, -1.6000000000000001]\n",
      "Activations: [ 0.88079708  0.11920292]\n",
      "[-1.5, -1.8999999999999999]\n",
      "Activations: [ 0.90887704  0.09112296]\n",
      "[-1.6000000000000001, -1.8]\n",
      "Activations: [ 0.9020312  0.0979688]\n",
      "[-1.5, -1.8999999999999999]\n",
      "Activations: [ 0.90887704  0.09112296]\n",
      "[-1.8, -1.8]\n",
      "Activations: [ 0.90550963  0.09449037]\n",
      "[-1.7, -1.8]\n",
      "Activations: [ 0.90378446  0.09621554]\n",
      "[-1.5, -1.8999999999999999]\n",
      "Activations: [ 0.90887704  0.09112296]\n",
      "[-1.7, -1.8]\n",
      "Activations: [ 0.90378446  0.09621554]\n",
      "[-1.5, -1.8]\n",
      "Activations: [ 0.90024951  0.09975049]\n",
      "[-1.7, -1.7]\n",
      "Activations: [ 0.89473061  0.10526939]\n",
      "[-1.7, -1.7]\n",
      "Activations: [ 0.89473061  0.10526939]\n",
      "[-1.7, -1.8]\n",
      "Activations: [ 0.90378446  0.09621554]\n",
      "[-1.3999999999999999, -1.3999999999999999]\n",
      "Activations: [ 0.85569687  0.14430313]\n",
      "[-1.1000000000000001, -1.6000000000000001]\n",
      "Activations: [ 0.87213843  0.12786157]\n",
      "[-1.6000000000000001, -1.7]\n",
      "Activations: [ 0.89283193  0.10716807]\n",
      "[-1.3999999999999999, -1.8]\n",
      "Activations: [ 0.89843907  0.10156093]\n",
      "[-1.6000000000000001, -1.8]\n",
      "Activations: [ 0.9020312  0.0979688]\n",
      "[-1.5, -1.8]\n",
      "Activations: [ 0.90024951  0.09975049]\n",
      "[-1.6000000000000001, -1.8]\n",
      "Activations: [ 0.9020312  0.0979688]\n",
      "[1.7000000000000002, -0.60000000000000009]\n",
      "Activations: [ 0.58904043  0.41095957]\n",
      "[1.5, -0.5]\n",
      "Activations: [ 0.57444252  0.42555748]\n",
      "[1.9000000000000004, -0.5]\n",
      "Activations: [ 0.55477924  0.44522076]\n",
      "[1.0, -0.69999999999999996]\n",
      "Activations: [ 0.64565631  0.35434369]\n",
      "[1.5999999999999996, -0.5]\n",
      "Activations: [ 0.56954622  0.43045378]\n",
      "[1.5, -0.69999999999999996]\n",
      "Activations: [ 0.62245933  0.37754067]\n",
      "[1.7000000000000002, -0.39999999999999991]\n",
      "Activations: [ 0.53991488  0.46008512]\n",
      "[0.29999999999999982, -1.0]\n",
      "Activations: [ 0.73885001  0.26114999]\n",
      "[1.5999999999999996, -0.69999999999999996]\n",
      "Activations: [ 0.61774787  0.38225213]\n",
      "[0.89999999999999991, -0.60000000000000009]\n",
      "Activations: [ 0.62714777  0.37285223]\n",
      "[0.5, -1.0]\n",
      "Activations: [ 0.73105858  0.26894142]\n",
      "[1.2000000000000002, -0.5]\n",
      "Activations: [ 0.58904043  0.41095957]\n",
      "[1.0, -1.0]\n",
      "Activations: [ 0.7109495  0.2890505]\n",
      "[1.7000000000000002, -0.60000000000000009]\n",
      "Activations: [ 0.58904043  0.41095957]\n",
      "[0.60000000000000009, -0.69999999999999996]\n",
      "Activations: [ 0.6637387  0.3362613]\n",
      "[1.4000000000000004, -0.60000000000000009]\n",
      "Activations: [ 0.60348325  0.39651675]\n",
      "[1.5, -0.5]\n",
      "Activations: [ 0.57444252  0.42555748]\n",
      "[1.0999999999999996, -1.0]\n",
      "Activations: [ 0.70682222  0.29317778]\n",
      "[1.5, -0.5]\n",
      "Activations: [ 0.57444252  0.42555748]\n",
      "[0.89999999999999991, -0.89999999999999991]\n",
      "Activations: [ 0.69423634  0.30576366]\n",
      "[1.7999999999999998, -0.19999999999999996]\n",
      "Activations: [ 0.4850045  0.5149955]\n",
      "[1.0, -0.69999999999999996]\n",
      "Activations: [ 0.64565631  0.35434369]\n",
      "[1.9000000000000004, -0.5]\n",
      "Activations: [ 0.55477924  0.44522076]\n",
      "[1.7000000000000002, -0.80000000000000004]\n",
      "Activations: [ 0.63645254  0.36354746]\n",
      "[1.2999999999999998, -0.69999999999999996]\n",
      "Activations: [ 0.63181242  0.36818758]\n",
      "[1.4000000000000004, -0.60000000000000009]\n",
      "Activations: [ 0.60348325  0.39651675]\n",
      "[1.7999999999999998, -0.60000000000000009]\n",
      "Activations: [ 0.58419052  0.41580948]\n",
      "[2.0, -0.30000000000000004]\n",
      "Activations: [ 0.5  0.5]\n",
      "[1.5, -0.5]\n",
      "Activations: [ 0.57444252  0.42555748]\n",
      "[0.5, -1.0]\n",
      "Activations: [ 0.73105858  0.26894142]\n",
      "[0.79999999999999982, -0.89999999999999991]\n",
      "Activations: [ 0.69846522  0.30153478]\n",
      "[0.70000000000000018, -1.0]\n",
      "Activations: [ 0.72312181  0.27687819]\n",
      "[0.89999999999999991, -0.80000000000000004]\n",
      "Activations: [ 0.67260702  0.32739298]\n",
      "[2.0999999999999996, -0.39999999999999991]\n",
      "Activations: [ 0.51998934  0.48001066]\n",
      "[1.5, -0.5]\n",
      "Activations: [ 0.57444252  0.42555748]\n",
      "[1.5, -0.39999999999999991]\n",
      "Activations: [ 0.549834  0.450166]\n",
      "[1.7000000000000002, -0.5]\n",
      "Activations: [ 0.56463629  0.43536371]\n",
      "[1.4000000000000004, -0.69999999999999996]\n",
      "Activations: [ 0.62714777  0.37285223]\n",
      "[1.0999999999999996, -0.69999999999999996]\n",
      "Activations: [ 0.64106741  0.35893259]\n",
      "[1.0, -0.69999999999999996]\n",
      "Activations: [ 0.64565631  0.35434369]\n",
      "[1.4000000000000004, -0.80000000000000004]\n",
      "Activations: [ 0.65021855  0.34978145]\n",
      "[1.5999999999999996, -0.60000000000000009]\n",
      "Activations: [ 0.5938731  0.4061269]\n",
      "[1.0, -0.80000000000000004]\n",
      "Activations: [ 0.66818777  0.33181223]\n",
      "[0.29999999999999982, -1.0]\n",
      "Activations: [ 0.73885001  0.26114999]\n",
      "[1.2000000000000002, -0.69999999999999996]\n",
      "Activations: [ 0.63645254  0.36354746]\n",
      "[1.2000000000000002, -0.80000000000000004]\n",
      "Activations: [ 0.65926039  0.34073961]\n",
      "[1.2000000000000002, -0.69999999999999996]\n",
      "Activations: [ 0.63645254  0.36354746]\n",
      "[1.2999999999999998, -0.69999999999999996]\n",
      "Activations: [ 0.63181242  0.36818758]\n",
      "[0.0, -0.89999999999999991]\n",
      "Activations: [ 0.73105858  0.26894142]\n",
      "[1.0999999999999996, -0.69999999999999996]\n",
      "Activations: [ 0.64106741  0.35893259]\n",
      "[3.0, 0.5]\n",
      "Activations: [ 0.26894142  0.73105858]\n",
      "[2.0999999999999996, -0.10000000000000009]\n",
      "Activations: [ 0.44522076  0.55477924]\n",
      "[2.9000000000000004, 0.10000000000000009]\n",
      "Activations: [ 0.35893259  0.64106741]\n",
      "[2.5999999999999996, -0.19999999999999996]\n",
      "Activations: [ 0.44522076  0.55477924]\n",
      "[2.7999999999999998, 0.20000000000000018]\n",
      "Activations: [ 0.34073961  0.65926039]\n",
      "[3.5999999999999996, 0.10000000000000009]\n",
      "Activations: [ 0.32739298  0.67260702]\n",
      "[1.5, -0.30000000000000004]\n",
      "Activations: [ 0.52497919  0.47502081]\n",
      "[3.2999999999999998, -0.19999999999999996]\n",
      "Activations: [ 0.41095957  0.58904043]\n",
      "[2.7999999999999998, -0.19999999999999996]\n",
      "Activations: [ 0.43536371  0.56463629]\n",
      "[3.0999999999999996, 0.5]\n",
      "Activations: [ 0.2650274  0.7349726]\n",
      "[2.0999999999999996, 0.0]\n",
      "Activations: [ 0.42067575  0.57932425]\n",
      "[2.2999999999999998, -0.10000000000000009]\n",
      "Activations: [ 0.43536371  0.56463629]\n",
      "[2.5, 0.10000000000000009]\n",
      "Activations: [ 0.37754067  0.62245933]\n",
      "[2.0, 0.0]\n",
      "Activations: [ 0.42555748  0.57444252]\n",
      "[2.0999999999999996, 0.39999999999999991]\n",
      "Activations: [ 0.32739298  0.67260702]\n",
      "[2.2999999999999998, 0.29999999999999982]\n",
      "Activations: [ 0.34073961  0.65926039]\n",
      "[2.5, -0.19999999999999996]\n",
      "Activations: [ 0.450166  0.549834]\n",
      "[3.7000000000000002, 0.20000000000000018]\n",
      "Activations: [ 0.30153478  0.69846522]\n",
      "[3.9000000000000004, 0.29999999999999982]\n",
      "Activations: [ 0.27289178  0.72710822]\n",
      "[2.0, -0.5]\n",
      "Activations: [ 0.549834  0.450166]\n",
      "[2.7000000000000002, 0.29999999999999982]\n",
      "Activations: [ 0.32300414  0.67699586]\n",
      "[1.9000000000000004, 0.0]\n",
      "Activations: [ 0.43045378  0.56954622]\n",
      "[3.7000000000000002, 0.0]\n",
      "Activations: [ 0.34524654  0.65475346]\n",
      "[1.9000000000000004, -0.19999999999999996]\n",
      "Activations: [ 0.48001066  0.51998934]\n",
      "[2.7000000000000002, 0.10000000000000009]\n",
      "Activations: [ 0.36818758  0.63181242]\n",
      "[3.0, -0.19999999999999996]\n",
      "Activations: [ 0.42555748  0.57444252]\n",
      "[1.7999999999999998, -0.19999999999999996]\n",
      "Activations: [ 0.4850045  0.5149955]\n",
      "[1.9000000000000004, -0.19999999999999996]\n",
      "Activations: [ 0.48001066  0.51998934]\n",
      "[2.5999999999999996, 0.10000000000000009]\n",
      "Activations: [ 0.37285223  0.62714777]\n",
      "[2.7999999999999998, -0.39999999999999991]\n",
      "Activations: [ 0.4850045  0.5149955]\n",
      "[3.0999999999999996, -0.10000000000000009]\n",
      "Activations: [ 0.39651675  0.60348325]\n",
      "[3.4000000000000004, 0.0]\n",
      "Activations: [ 0.35893259  0.64106741]\n",
      "[2.5999999999999996, 0.20000000000000018]\n",
      "Activations: [ 0.34978145  0.65021855]\n",
      "[2.0999999999999996, -0.5]\n",
      "Activations: [ 0.54487889  0.45512111]\n",
      "[2.5999999999999996, -0.60000000000000009]\n",
      "Activations: [ 0.54487889  0.45512111]\n",
      "[3.0999999999999996, 0.29999999999999982]\n",
      "Activations: [ 0.30576366  0.69423634]\n",
      "[2.5999999999999996, 0.39999999999999991]\n",
      "Activations: [ 0.30576366  0.69423634]\n",
      "[2.5, -0.19999999999999996]\n",
      "Activations: [ 0.450166  0.549834]\n",
      "[1.7999999999999998, -0.19999999999999996]\n",
      "Activations: [ 0.4850045  0.5149955]\n",
      "[2.4000000000000004, 0.10000000000000009]\n",
      "Activations: [ 0.38225213  0.61774787]\n",
      "[2.5999999999999996, 0.39999999999999991]\n",
      "Activations: [ 0.30576366  0.69423634]\n",
      "[2.0999999999999996, 0.29999999999999982]\n",
      "Activations: [ 0.34978145  0.65021855]\n",
      "[2.0999999999999996, -0.10000000000000009]\n",
      "Activations: [ 0.44522076  0.55477924]\n",
      "[2.9000000000000004, 0.29999999999999982]\n",
      "Activations: [ 0.31431989  0.68568011]\n",
      "[2.7000000000000002, 0.5]\n",
      "Activations: [ 0.28090034  0.71909966]\n",
      "[2.2000000000000002, 0.29999999999999982]\n",
      "Activations: [ 0.34524654  0.65475346]\n",
      "[2.0, -0.10000000000000009]\n",
      "Activations: [ 0.450166  0.549834]\n",
      "[2.2000000000000002, 0.0]\n",
      "Activations: [ 0.41580948  0.58419052]\n",
      "[2.4000000000000004, 0.29999999999999982]\n",
      "Activations: [ 0.3362613  0.6637387]\n",
      "[2.0999999999999996, -0.19999999999999996]\n",
      "Activations: [ 0.47003595  0.52996405]\n"
     ]
    }
   ],
   "source": [
    "import numpy as np\n",
    "#np.array([[w_1_1, w_1_2], [w_2_1, w_2_2])\n",
    "mult_matrix = np.array([[-0.2, 0.2], [-1.0, 1.0]])\n",
    "\n",
    "for features in iris.data:\n",
    "    our_features = [features[2]-3, features[3]-2]\n",
    "    print(our_features)\n",
    "    a = np.matmul(our_features, mult_matrix)\n",
    "    print(\"activations: \" + str(a))"
   ]
  },
  {
   "cell_type": "markdown",
   "metadata": {},
   "source": [
    "### Results\n",
    "The results we got with this simple matrix multiplication are kind of ok, but only because we changed the input parameters! It only predicts the first class, which is pretty logical as our multiply function can't even fit the data. Later in the course you will learn about preprocessing of your data, with that step this network should be able to kind of 'fit' the data. \n",
    "\n",
    "### Bias \n",
    "As you saw we reduced the inputs of our network with a certain value. Sometimes we want to have a bias on a neuron: some neurons should always be kind of activated, and some neurons should be difficult to activate. The same goes on in our brain: some neurons have a lot of connections coming in, while some others are difficult to activate. \n",
    "\n",
    "In numpy code this could look like this: \n"
   ]
  },
  {
   "cell_type": "code",
   "execution_count": null,
   "metadata": {
    "collapsed": true
   },
   "outputs": [],
   "source": [
    "import numpy as np\n",
    "#np.array([[w_1_1, w_1_2], [w_2_1, w_2_2])\n",
    "mult_matrix = np.array([[-0.2, 0.2], [-1.0, 1.0]])\n",
    "bias = np.array([0.1, -0.1])\n",
    "for features in iris.data:\n",
    "    our_features = [features[2]-3, features[3]-2]\n",
    "    print(our_features)\n",
    "    a = np.matmul(our_features, mult_matrix)\n",
    "    a = a + bias\n",
    "    print(\"activations: \" + str(a))"
   ]
  },
  {
   "cell_type": "markdown",
   "metadata": {},
   "source": [
    "\n",
    "### Activation function\n",
    "As we saw in our brain activation function a cell becomes VERY active after it reached a certain treshold of incoming activation. We want the same to happen in our artificial neural network: an outputcell should have a high activity if it knows it's activated. \n",
    "\n",
    "To do this we apply an \"activation function\" to our output neurons. To speed up the course from the math to practice I will quickly show you the sigmoid activation function in an image: \n",
    "![sigmoid activation function](https://qph.ec.quoracdn.net/main-qimg-2f0e7ccc8fd54e238ae46a3d5fcc6908?convert_to_webp=true)\n",
    "We apply this function to the result of our matrix multiplication. If this result is high, our activation will be one. If this result is 0, our activation will be 0.5. If this result is very negative, our activation will be 0. In later videos we will talk about activation functions, and how to use them, but for now: just keep in mind that we do this. \n",
    "\n",
    "In our numpy forward-propagation neural network the final activation would become:\n"
   ]
  },
  {
   "cell_type": "code",
   "execution_count": null,
   "metadata": {
    "collapsed": true
   },
   "outputs": [],
   "source": [
    "import numpy as np\n",
    "\n",
    "def sigmoid(activations):\n",
    "    return 1 / (1 + np.exp(-activations))\n",
    "\n",
    "#np.array([[w_1_1, w_1_2], [w_2_1, w_2_2])\n",
    "mult_matrix = np.array([[-0.2, 0.2], [-1.0, 1.0]])\n",
    "bias = np.array([0.1, -0.1])\n",
    "\n",
    "for features in iris.data:\n",
    "    our_features = [features[2]-3, features[3]-2]\n",
    "    print(our_features)\n",
    "    a = np.matmul(our_features, mult_matrix)\n",
    "    a = a + bias\n",
    "    a = sigmoid(a)\n",
    "    print(\"activations: \" + str(a))"
   ]
  },
  {
   "cell_type": "markdown",
   "metadata": {
    "collapsed": true
   },
   "source": [
    "## Section 3: The math behind optimization: backpropagation + understanding the gradients \n",
    "\n",
    "In section 2 we saw that a single-layer neural network with some adjustments can see the difference between two flowers. We constructed our network manually, and used all our knowledge about the datasets to set the weights ourself. Now imagine that we will make a way deeper network: \n",
    "![larger network](https://upload.wikimedia.org/wikipedia/commons/8/8b/Neural_network_bottleneck_achitecture.svg)\n",
    "This network can make better predictions, but manually adjusting the weights is something we definitely don't want to do. \n",
    "\n",
    "**Training** our network means that we **back propagating** the **error** the network made. After our network made a prediction we compare this prediction with the numbers we wanted to see as output. We then take a look at what weights in the network contibuted to this output and adjust these weights to better reflect what we expected from them. The amount in which we adjust them is called the **learning rate**. \n",
    "\n",
    "A great post that really dives into the mathematical background of backpropagation is this one, by [Matt Mazur](https://mattmazur.com/2015/03/17/a-step-by-step-backpropagation-example/). \n",
    "\n",
    "Now let's take a look at how we can implement a single layer neural network in Tensorflow, and see how we can train it. "
   ]
  },
  {
   "cell_type": "code",
   "execution_count": null,
   "metadata": {
    "collapsed": true
   },
   "outputs": [],
   "source": [
    "import tensorflow as tf\n",
    "tf.reset_default_graph()\n",
    "\n",
    "n_input = len(iris.data[0])\n",
    "n_output = 3 # [0,1,2]... set(iris.target)\n",
    "\n",
    "input_shape = [None,n_input]\n",
    "inputplaceholder = tf.placeholder(dtype=tf.float32, shape=input_shape, name=\"input_placeholder\") # https://www.tensorflow.org/api_docs/python/tf/placeholder\n",
    "\n",
    "weights = tf.Variable(tf.random_normal([n_input, n_output]), name=\"weights\")\n",
    "biases = tf.Variable(tf.zeros([n_output]), name=\"biases\")\n",
    "\n",
    "print(weights)\n",
    "print(biases)\n",
    "\n",
    "layer_1 = tf.matmul(inputplaceholder, weights)\n",
    "layer_2 = tf.add(layer_1, biases)\n",
    "outputlayer = tf.nn.sigmoid(layer_2)\n",
    "\n",
    "print(outputlayer)\n"
   ]
  },
  {
   "cell_type": "markdown",
   "metadata": {},
   "source": [
    "\n",
    "This gives us this graph in Tensorflow: \n",
    "![graph single layer](illustrations/singlelayer_tensorflow.png)"
   ]
  },
  {
   "cell_type": "markdown",
   "metadata": {},
   "source": [
    "## Training your network\n",
    "Well, looks like we have a neural network that doesn't really do anything. We only did **forward propagation**, but our network does not learn anything. We are going to train our neural network using **backpropagation**. We expect that all output is wrong (we used a random initialised matrix). We can define a certain **cost** for the error our network makes, by applying a [mean squared error](https://en.wikipedia.org/wiki/Mean_squared_error)\n",
    "\n",
    "If we want the activation of class 0 to be higher, and of class 1 and 1 to be lower, we should change the weights that contributed to the wrong output. As we don't know what the ideal weights are we are only going to change them a little bit, and hope that this helps. \n",
    "\n",
    "Let's determine what weights to lower based on the **gradient**, and lower them proportionally to the **cost**. To define how hard we change them we define a **learning rate**. If our learning rate is low we only change our weighs a little bit, if our learning rate is high we change them a lot!\n",
    "\n",
    "This method is called **gradient descent**. You look where the wrong output is coming from (the gradient), and lower the weights that contributed to this. Tensorflow has a function for this! We only need to define our cost function (which is based on the output we expected), the cost (how wrong the network is), and how we **optimize** our neural network. "
   ]
  },
  {
   "cell_type": "code",
   "execution_count": null,
   "metadata": {
    "collapsed": true
   },
   "outputs": [],
   "source": [
    "learning_rate = 0.1\n",
    "\n",
    "labelsplaceholder = tf.placeholder(dtype=tf.float32, shape=[None,n_output], name=\"labels_placeholder\")\n",
    "cost = tf.losses.mean_squared_error(labelsplaceholder, outputlayer) # https://www.tensorflow.org/api_docs/python/tf/losses/mean_squared_error\n",
    "\n",
    "print(cost)\n",
    "optimizer = tf.train.GradientDescentOptimizer(learning_rate=learning_rate).minimize(cost) #https://www.tensorflow.org/api_docs/python/tf/train/GradientDescentOptimizer"
   ]
  },
  {
   "cell_type": "markdown",
   "metadata": {},
   "source": [
    "This gives us the following graph: \n",
    "![inc optimizer](illustrations/singlelayer_tensorflow_inc_optimizer.png)"
   ]
  },
  {
   "cell_type": "markdown",
   "metadata": {},
   "source": [
    "### Actually training your network\n",
    "\n",
    "Above you saw how we defined our network. There are some variables in our computational graph who are not yet initialised. The weights we made will be initialised with random normal numbers (see graph above). In chapter 1 you already learned that you have to initialise your graph by starting a session and running the `tf.global_variables_initializer()` function. Let's do that: "
   ]
  },
  {
   "cell_type": "code",
   "execution_count": null,
   "metadata": {
    "collapsed": true
   },
   "outputs": [],
   "source": [
    "init = tf.global_variables_initializer() # https://www.tensorflow.org/api_docs/python/tf/global_variables_initializer\n",
    "sess = tf.Session() # https://www.tensorflow.org/api_docs/python/tf/Session\n",
    "sess.run(init)\n"
   ]
  },
  {
   "cell_type": "markdown",
   "metadata": {},
   "source": [
    "### Standardizing data\n",
    "There is one trick we used in the manual network we made above: instead of feeding the raw measurements we reduced the numbers a bit to make learning easier. In the next chapter we will dive into why we use this trick, and how we apply it. For now I will just type this code: "
   ]
  },
  {
   "cell_type": "code",
   "execution_count": null,
   "metadata": {
    "collapsed": true
   },
   "outputs": [],
   "source": [
    "from sklearn import preprocessing\n",
    "scaler = preprocessing.StandardScaler().fit(iris.data)\n",
    "scaled_data = scaler.transform(iris.data)\n"
   ]
  },
  {
   "cell_type": "markdown",
   "metadata": {},
   "source": [
    "### Output of the network: one-hot vectors\n",
    "As you already kind of saw above we don't let our network output a number like 0, 1, or 2: we output a **one-hot vector**. As you can see the data we have right now does not really support that. This is why we turn the data into a one-hot vector during training. Note that there are functions that [do this for us](https://www.tensorflow.org/api_docs/python/tf/one_hot) (`tf.one_hot`), but for this example I will turn the answer into one-hot vectors myself. "
   ]
  },
  {
   "cell_type": "code",
   "execution_count": null,
   "metadata": {
    "collapsed": true
   },
   "outputs": [],
   "source": [
    "import random\n",
    "\n",
    "mydata = list(zip(scaled_data, iris.target))\n",
    "\n",
    "# for x in mydata:\n",
    "#     print(x)\n",
    "\n",
    "batch_size = 10\n",
    "iterations = 400\n",
    "\n",
    "history_loss = list()\n",
    "for _ in range(iterations):\n",
    "    inputdata = list()\n",
    "    output_data = list()\n",
    "    for _ in range(batch_size):\n",
    "        input_output_pairs = random.choice(mydata)\n",
    "        inputdata.append(input_output_pairs[0])\n",
    "        output_one_hot = [0.0,0.0,0.0]\n",
    "        output_one_hot[input_output_pairs[1]] = 1.0\n",
    "        output_data.append(output_one_hot)\n",
    "\n",
    "    res_optimizer, res_cost = sess.run([optimizer, cost], feed_dict={inputplaceholder: inputdata, labelsplaceholder: output_data})\n",
    "    print(res_cost)\n",
    "    history_loss.append(res_cost)"
   ]
  },
  {
   "cell_type": "markdown",
   "metadata": {},
   "source": [
    "### Result of our training\n",
    "Let's first take a look at what happened to our loss function during training: "
   ]
  },
  {
   "cell_type": "code",
   "execution_count": null,
   "metadata": {
    "collapsed": true
   },
   "outputs": [],
   "source": [
    "plt.plot(history_loss)"
   ]
  },
  {
   "cell_type": "markdown",
   "metadata": {},
   "source": [
    "## Section 4: Introduction to overfitting: splitting your data in train, test, and validation set. \n",
    "\n"
   ]
  },
  {
   "cell_type": "markdown",
   "metadata": {},
   "source": [
    "### Let's classify our flowers\n",
    "We trained our network! You can see that the loss goes down, but that it's not completely zero yet. Don't worry: after this course you will be able to reach way better scores. \n",
    "\n",
    "For now I will calculate the accuracy, and we will see if our network can predict the flowers.."
   ]
  },
  {
   "cell_type": "code",
   "execution_count": null,
   "metadata": {
    "collapsed": true
   },
   "outputs": [],
   "source": [
    "correct_predictions = 0\n",
    "for i in range(len(scaled_data)):\n",
    "    predicted_by_network = sess.run(outputlayer, feed_dict={inputplaceholder: [scaled_data[i]]})\n",
    "    print(\"input: %s, expected: %s, predicted: %s \" % (str(scaled_data[i]), str(iris.target[i]), str(predicted_by_network)))\n",
    "    if np.argmax(predicted_by_network) == iris.target[i]:\n",
    "        correct_predictions += 1\n",
    "\n",
    "print(\"Correct_predictions: \" + str(correct_predictions) + \"/\" + str(len(scaled_data)) + \" Accuracy: \" + str(correct_predictions/len(scaled_data)))"
   ]
  },
  {
   "cell_type": "markdown",
   "metadata": {},
   "source": [
    "### Getting a higher accuracy\n",
    "You might think: well, let's train longer, perhaps our network will still improve! Try to increase the time the network trains and check for yourself what happens with the accuracy block above... It will indeed increase!\n",
    "\n",
    "### Overfitting\n",
    "![overfitting](https://upload.wikimedia.org/wikipedia/commons/thumb/5/52/2d-epochs-overfitting.svg/500px-2d-epochs-overfitting.svg.png)\n",
    "\n",
    "Above we saw that we were perfectly able to predict a lot of the data samples we trained on. If you would add more layers you probably can classify all of the datapoints. You might think: great, we are done here. \n",
    "\n",
    "Unfortunately this is not the case with deep learning. The most extreme example is that if we take many images, assign random labels, and train a deep neural network on it, [http://pluskid.org/slides/ICLR2017-Poster.pdf](you are able to learn all the labels)!\n",
    "\n",
    "This is why you should use a train, test, and validation set. You train on the train set, and see how well it performs. As soon as you are satisfied with that performance you test on the test set. Only after you are satisfied with the performance on the test set you take the validation set. \n",
    "\n",
    "You are free to choose your own ideal split for your project. For small data projects I would normally take 70% train, 15% test, and 15% validation. If you have a huge dataset you could even take more train data (85% train, 10% test, 5% validation). This is simply because 5% of a huge dataset is still a huge dataset. During this course I will always ignore the validation dataset, which is bad practice, but speeds up our development. \n",
    "\n",
    "Scikits SKLearn package has a nice [function that can split the data for you](http://scikit-learn.org/stable/modules/generated/sklearn.model_selection.train_test_split.html). "
   ]
  },
  {
   "cell_type": "code",
   "execution_count": null,
   "metadata": {
    "collapsed": true
   },
   "outputs": [],
   "source": [
    "from sklearn import model_selection \n",
    "\n",
    "x_train, x_test, y_train, y_test = model_selection.train_test_split(iris.data, iris.target, test_size=0.2, random_state=42)\n",
    "\n",
    "## scaling - see next chapter\n",
    "scaler = preprocessing.StandardScaler().fit(x_train)\n",
    "scaled_data_train = scaler.transform(x_train)\n",
    "scaled_data_test = scaler.transform(x_test)\n",
    "\n"
   ]
  },
  {
   "cell_type": "code",
   "execution_count": null,
   "metadata": {
    "collapsed": true
   },
   "outputs": [],
   "source": [
    "init = tf.global_variables_initializer() # https://www.tensorflow.org/api_docs/python/tf/global_variables_initializer\n",
    "sess = tf.Session() # https://www.tensorflow.org/api_docs/python/tf/Session\n",
    "sess.run(init)\n",
    "\n",
    "mydata = list(zip(scaled_data_train, y_train))\n",
    "\n",
    "\n",
    "batch_size = 10\n",
    "\n",
    "history_loss = list()\n",
    "for _ in range(400):\n",
    "    inputdata = list()\n",
    "    outputlogits = list()\n",
    "    for _ in range(batch_size):\n",
    "        input_output_pairs = random.choice(mydata)\n",
    "        inputdata.append(input_output_pairs[0])\n",
    "        output_expected = [0.0,0.0,0.0]\n",
    "        output_expected[input_output_pairs[1]] = 1.0\n",
    "        outputlogits.append(output_expected)\n",
    "\n",
    "    res_optimizer, res_cost = sess.run([optimizer, cost], feed_dict={inputplaceholder: inputdata, labelsplaceholder: outputlogits})\n",
    "    print(res_cost)\n",
    "    history_loss.append(res_cost)"
   ]
  },
  {
   "cell_type": "code",
   "execution_count": null,
   "metadata": {
    "collapsed": true
   },
   "outputs": [],
   "source": [
    "plt.plot(history_loss)"
   ]
  },
  {
   "cell_type": "code",
   "execution_count": null,
   "metadata": {
    "collapsed": true
   },
   "outputs": [],
   "source": [
    "logit_y_test = list()\n",
    "for label in y_test: \n",
    "    toadd = [0.0,0.0,0.0]\n",
    "    toadd[label] = 1.0\n",
    "    logit_y_test.append(toadd)\n",
    "res_cost, predicted = sess.run([cost, outputlayer], feed_dict={inputplaceholder: scaled_data_test, labelsplaceholder: logit_y_test})"
   ]
  },
  {
   "cell_type": "code",
   "execution_count": null,
   "metadata": {
    "collapsed": true
   },
   "outputs": [],
   "source": [
    "print(res_cost)"
   ]
  },
  {
   "cell_type": "code",
   "execution_count": null,
   "metadata": {
    "collapsed": true
   },
   "outputs": [],
   "source": [
    "correct_predictions = 0\n",
    "for index in range(len(y_test)):\n",
    "    print(\"Label: %d, predicted: %s\" % (y_test[index], predicted[index]))\n",
    "    if y_test[index] == np.argmax(predicted[index]):\n",
    "        correct_predictions += 1\n",
    "print(correct_predictions)\n",
    "print(len(y_test))"
   ]
  },
  {
   "cell_type": "markdown",
   "metadata": {},
   "source": [
    "### Evaluation of our network\n",
    "\n",
    "Great! We made our first neural network, with a single layer. To be honest, it performed... poorly on the testset. This dataset is interesting for starters in neural networks. It's possible to get way higher scores using techniques we will learn in later chapters. I encourage you to go back to this set at the end of the course. \n",
    "\n",
    "Things we learned in the first part of this course are: \n",
    "- We now know a little bit about the brain, know what a neuron is, and what a mathematical definition of a neuron is. \n",
    "- We made a very simple neural network by combining weights, biases, and an activation function. \n",
    "- Using gradient descent we trained our neural network, and got pretty good scores on the trainset\n",
    "- We split our data and tried our method on the testset, and learned that we totally overfit it. \n",
    "\n",
    "Let's quickly go to the next part, where we learn how to create these networks in a simpler way.\n",
    "Next up: predicting the energy of atoms"
   ]
  },
  {
   "cell_type": "code",
   "execution_count": null,
   "metadata": {
    "collapsed": true
   },
   "outputs": [],
   "source": []
  }
 ],
 "metadata": {
  "kernelspec": {
   "display_name": "Python 3",
   "language": "python",
   "name": "python3"
  },
  "language_info": {
   "codemirror_mode": {
    "name": "ipython",
    "version": 3
   },
   "file_extension": ".py",
   "mimetype": "text/x-python",
   "name": "python",
   "nbconvert_exporter": "python",
   "pygments_lexer": "ipython3",
   "version": "3.5.2"
  }
 },
 "nbformat": 4,
 "nbformat_minor": 2
}
